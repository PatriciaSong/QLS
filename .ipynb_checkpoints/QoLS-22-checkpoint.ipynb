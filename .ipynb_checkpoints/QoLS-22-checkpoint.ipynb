{
 "cells": [
  {
   "cell_type": "markdown",
   "id": "be92c653",
   "metadata": {},
   "source": [
    "## Loading Data"
   ]
  },
  {
   "cell_type": "code",
   "execution_count": 1,
   "id": "57d2dc24",
   "metadata": {},
   "outputs": [],
   "source": [
    "import pandas as pd\n",
    "import numpy as np"
   ]
  },
  {
   "cell_type": "code",
   "execution_count": 2,
   "id": "72f799d8",
   "metadata": {},
   "outputs": [],
   "source": [
    "data = pd.read_csv('data/raw_survey_data_2022.csv',header=None)"
   ]
  },
  {
   "cell_type": "code",
   "execution_count": 3,
   "id": "af36b1b3",
   "metadata": {},
   "outputs": [
    {
     "name": "stdout",
     "output_type": "stream",
     "text": [
      "<class 'pandas.core.frame.DataFrame'>\n",
      "RangeIndex: 1594 entries, 0 to 1593\n",
      "Columns: 351 entries, 0 to 350\n",
      "dtypes: object(351)\n",
      "memory usage: 4.3+ MB\n"
     ]
    }
   ],
   "source": [
    "data.info()"
   ]
  },
  {
   "cell_type": "code",
   "execution_count": 4,
   "id": "912d11a8",
   "metadata": {},
   "outputs": [],
   "source": [
    "# with sub-questions as header\n",
    "df = pd.read_csv('data/raw_survey_data_2022.csv',header=1)"
   ]
  },
  {
   "cell_type": "markdown",
   "id": "4eb2109a",
   "metadata": {},
   "source": [
    "## Data cleaning"
   ]
  },
  {
   "cell_type": "code",
   "execution_count": 5,
   "id": "b70ab228",
   "metadata": {},
   "outputs": [],
   "source": [
    "# Check if there are invalid responses \n",
    "# 1. the response column is correct (most essential:If you have read the survey up to this point, please select the number four (4). By selecting number 4, you'll be entered to win one of the prizes.)\n",
    "# 2. response time less than 200s"
   ]
  },
  {
   "cell_type": "code",
   "execution_count": 6,
   "id": "4a68726a",
   "metadata": {},
   "outputs": [
    {
     "data": {
      "text/plain": [
       "Int64Index([176, 306], dtype='int64')"
      ]
     },
     "execution_count": 6,
     "metadata": {},
     "output_type": "execute_result"
    }
   ],
   "source": [
    "## Finding the response question and their column indices\n",
    "data.loc[0,data.iloc[0,:].str.contains('If you have read the survey up to this point')==True].index"
   ]
  },
  {
   "cell_type": "code",
   "execution_count": 7,
   "id": "d69424f8",
   "metadata": {},
   "outputs": [],
   "source": [
    "from datetime import datetime\n",
    "\n",
    "data1=df.iloc[:,1] #DataFrame with start time\n",
    "data2=df.iloc[:,2] #DataFrame with end time\n",
    "data3=df.iloc[:,3:] #DataFrame with data\n"
   ]
  },
  {
   "cell_type": "code",
   "execution_count": 8,
   "id": "e6254edf",
   "metadata": {},
   "outputs": [
    {
     "data": {
      "text/plain": [
       "(1271, 348)"
      ]
     },
     "execution_count": 8,
     "metadata": {},
     "output_type": "execute_result"
    }
   ],
   "source": [
    "\n",
    "data3[\"time\"]=data2.apply(lambda x: datetime.strptime(x, '%m/%d/%y %H:%M'))-data1.apply(lambda x: datetime.strptime(x, '%m/%d/%y %H:%M'))\n",
    "#(data1.iloc[:,1].values.astype('datetime64[D]')-data1.iloc[:,0].values.astype('datetime64[D]'))\n",
    "\n",
    "                                                                                                    \n",
    "index_time= data3[\"time\"].apply(lambda x: x/np.timedelta64(1, 's'))\n",
    "\n",
    "\n",
    "data3['clean']=(index_time>200)&(data3.iloc[:,176-3]=='2')&(data3.iloc[:,306-3]=='4')\n",
    "\n",
    "cleaned_data=data3.loc[data3.clean==True].iloc[:,:-2]\n",
    "cleaned_data.shape"
   ]
  },
  {
   "cell_type": "markdown",
   "id": "4bfcd810",
   "metadata": {},
   "source": [
    "##  Basic Statistics"
   ]
  },
  {
   "cell_type": "code",
   "execution_count": 9,
   "id": "3e33796e",
   "metadata": {},
   "outputs": [],
   "source": [
    "##calculating the counts of each question"
   ]
  },
  {
   "cell_type": "code",
   "execution_count": 10,
   "id": "fd6205e8",
   "metadata": {},
   "outputs": [],
   "source": [
    "counts=[]\n",
    "for i in range(len(cleaned_data.columns)):\n",
    "    counts.append(dict(cleaned_data.iloc[:,i].value_counts()))\n"
   ]
  },
  {
   "cell_type": "markdown",
   "id": "362e32d4",
   "metadata": {},
   "source": [
    "## Creating Question Table"
   ]
  },
  {
   "cell_type": "code",
   "execution_count": 11,
   "id": "267135dc",
   "metadata": {
    "scrolled": true
   },
   "outputs": [],
   "source": [
    "# create the table of the first 2 rows to see the questions and the columns they locate\n",
    "Q=data.iloc[:2,3:].T\n",
    "Q.columns=['Question','Sub_Question']\n",
    "#Q['location']=[ lambda x: x.index*(x.Question.isna()==False)]\n",
    "Q['location']=np.where(Q.Question.isna()==False, Q.Question.index, \"False\")"
   ]
  },
  {
   "cell_type": "code",
   "execution_count": 12,
   "id": "983ab276",
   "metadata": {
    "scrolled": true
   },
   "outputs": [],
   "source": [
    "Q['counts']=counts"
   ]
  },
  {
   "cell_type": "code",
   "execution_count": 13,
   "id": "2e0005ea",
   "metadata": {},
   "outputs": [],
   "source": [
    "Q.to_csv(\"output/Questions-22.csv\", index=True)"
   ]
  },
  {
   "cell_type": "code",
   "execution_count": 14,
   "id": "59f94b96",
   "metadata": {},
   "outputs": [],
   "source": [
    "pd.options.display.max_colwidth=120"
   ]
  },
  {
   "cell_type": "code",
   "execution_count": 15,
   "id": "cb070343",
   "metadata": {},
   "outputs": [
    {
     "data": {
      "text/html": [
       "<div>\n",
       "<style scoped>\n",
       "    .dataframe tbody tr th:only-of-type {\n",
       "        vertical-align: middle;\n",
       "    }\n",
       "\n",
       "    .dataframe tbody tr th {\n",
       "        vertical-align: top;\n",
       "    }\n",
       "\n",
       "    .dataframe thead th {\n",
       "        text-align: right;\n",
       "    }\n",
       "</style>\n",
       "<table border=\"1\" class=\"dataframe\">\n",
       "  <thead>\n",
       "    <tr style=\"text-align: right;\">\n",
       "      <th></th>\n",
       "      <th>Question</th>\n",
       "      <th>Sub_Question</th>\n",
       "      <th>location</th>\n",
       "      <th>counts</th>\n",
       "    </tr>\n",
       "  </thead>\n",
       "  <tbody>\n",
       "    <tr>\n",
       "      <th>3</th>\n",
       "      <td>I am satisfied with my overall experience at Columbia.</td>\n",
       "      <td>Response</td>\n",
       "      <td>3</td>\n",
       "      <td>{'Agree': 719, 'Neither agree or disagree': 214, 'Strongly agree': 184, 'Disagree': 120, 'Strongly disagree': 34}</td>\n",
       "    </tr>\n",
       "    <tr>\n",
       "      <th>4</th>\n",
       "      <td>I am satisfied with the following with respect to my overall experience at Columbia.</td>\n",
       "      <td>Academics</td>\n",
       "      <td>4</td>\n",
       "      <td>{'Agree': 673, 'Strongly agree': 306, 'Neither agree nor disagree': 158, 'Disagree': 106, 'Strongly disagree': 28}</td>\n",
       "    </tr>\n",
       "    <tr>\n",
       "      <th>5</th>\n",
       "      <td>NaN</td>\n",
       "      <td>Mental health</td>\n",
       "      <td>False</td>\n",
       "      <td>{'Agree': 491, 'Neither agree nor disagree': 329, 'Strongly agree': 193, 'Disagree': 186, 'Strongly disagree': 72}</td>\n",
       "    </tr>\n",
       "    <tr>\n",
       "      <th>6</th>\n",
       "      <td>NaN</td>\n",
       "      <td>Physical health</td>\n",
       "      <td>False</td>\n",
       "      <td>{'Agree': 520, 'Neither agree nor disagree': 331, 'Strongly agree': 209, 'Disagree': 158, 'Strongly disagree': 53}</td>\n",
       "    </tr>\n",
       "    <tr>\n",
       "      <th>7</th>\n",
       "      <td>NaN</td>\n",
       "      <td>Professional development</td>\n",
       "      <td>False</td>\n",
       "      <td>{'Agree': 570, 'Neither agree nor disagree': 271, 'Strongly agree': 254, 'Disagree': 133, 'Strongly disagree': 43}</td>\n",
       "    </tr>\n",
       "    <tr>\n",
       "      <th>...</th>\n",
       "      <td>...</td>\n",
       "      <td>...</td>\n",
       "      <td>...</td>\n",
       "      <td>...</td>\n",
       "    </tr>\n",
       "    <tr>\n",
       "      <th>346</th>\n",
       "      <td>NaN</td>\n",
       "      <td>Other (please specify)</td>\n",
       "      <td>False</td>\n",
       "      <td>{'Hong Kong': 2, 'Reunion Island': 1, 'Iran and india ': 1, 'Citizen of USA and another country': 1, ''': 1, 'Parent...</td>\n",
       "    </tr>\n",
       "    <tr>\n",
       "      <th>347</th>\n",
       "      <td>What is your current age?</td>\n",
       "      <td>Response</td>\n",
       "      <td>347</td>\n",
       "      <td>{'24-26': 524, '21-23': 506, '27-29': 137, '30-32': 50, 'I prefer not to answer': 34, '33-35': 11, '36 and older': 5...</td>\n",
       "    </tr>\n",
       "    <tr>\n",
       "      <th>348</th>\n",
       "      <td>Is English your first language?</td>\n",
       "      <td>Response</td>\n",
       "      <td>348</td>\n",
       "      <td>{'No': 801, 'Yes': 436, 'I prefer not to answer': 32}</td>\n",
       "    </tr>\n",
       "    <tr>\n",
       "      <th>349</th>\n",
       "      <td>Was English the medium of instruction in your primary or secondary school?</td>\n",
       "      <td>Response</td>\n",
       "      <td>349</td>\n",
       "      <td>{'Yes': 859, 'No': 374, 'I prefer not to answer': 36}</td>\n",
       "    </tr>\n",
       "    <tr>\n",
       "      <th>350</th>\n",
       "      <td>Let us know about other important matters that are not covered by this survey</td>\n",
       "      <td>Open-Ended Response</td>\n",
       "      <td>350</td>\n",
       "      <td>{'None': 2, 'No': 2, 'After every \"break\" we're immediately swamped with assignments and submissions. If I don't get...</td>\n",
       "    </tr>\n",
       "  </tbody>\n",
       "</table>\n",
       "<p>348 rows × 4 columns</p>\n",
       "</div>"
      ],
      "text/plain": [
       "                                                                                 Question  \\\n",
       "3                                  I am satisfied with my overall experience at Columbia.   \n",
       "4    I am satisfied with the following with respect to my overall experience at Columbia.   \n",
       "5                                                                                     NaN   \n",
       "6                                                                                     NaN   \n",
       "7                                                                                     NaN   \n",
       "..                                                                                    ...   \n",
       "346                                                                                   NaN   \n",
       "347                                                             What is your current age?   \n",
       "348                                                       Is English your first language?   \n",
       "349            Was English the medium of instruction in your primary or secondary school?   \n",
       "350         Let us know about other important matters that are not covered by this survey   \n",
       "\n",
       "                 Sub_Question location  \\\n",
       "3                    Response        3   \n",
       "4                   Academics        4   \n",
       "5               Mental health    False   \n",
       "6             Physical health    False   \n",
       "7    Professional development    False   \n",
       "..                        ...      ...   \n",
       "346    Other (please specify)    False   \n",
       "347                  Response      347   \n",
       "348                  Response      348   \n",
       "349                  Response      349   \n",
       "350       Open-Ended Response      350   \n",
       "\n",
       "                                                                                                                      counts  \n",
       "3          {'Agree': 719, 'Neither agree or disagree': 214, 'Strongly agree': 184, 'Disagree': 120, 'Strongly disagree': 34}  \n",
       "4         {'Agree': 673, 'Strongly agree': 306, 'Neither agree nor disagree': 158, 'Disagree': 106, 'Strongly disagree': 28}  \n",
       "5         {'Agree': 491, 'Neither agree nor disagree': 329, 'Strongly agree': 193, 'Disagree': 186, 'Strongly disagree': 72}  \n",
       "6         {'Agree': 520, 'Neither agree nor disagree': 331, 'Strongly agree': 209, 'Disagree': 158, 'Strongly disagree': 53}  \n",
       "7         {'Agree': 570, 'Neither agree nor disagree': 271, 'Strongly agree': 254, 'Disagree': 133, 'Strongly disagree': 43}  \n",
       "..                                                                                                                       ...  \n",
       "346  {'Hong Kong': 2, 'Reunion Island': 1, 'Iran and india ': 1, 'Citizen of USA and another country': 1, ''': 1, 'Parent...  \n",
       "347  {'24-26': 524, '21-23': 506, '27-29': 137, '30-32': 50, 'I prefer not to answer': 34, '33-35': 11, '36 and older': 5...  \n",
       "348                                                                    {'No': 801, 'Yes': 436, 'I prefer not to answer': 32}  \n",
       "349                                                                    {'Yes': 859, 'No': 374, 'I prefer not to answer': 36}  \n",
       "350  {'None': 2, 'No': 2, 'After every \"break\" we're immediately swamped with assignments and submissions. If I don't get...  \n",
       "\n",
       "[348 rows x 4 columns]"
      ]
     },
     "execution_count": 15,
     "metadata": {},
     "output_type": "execute_result"
    }
   ],
   "source": [
    "Q"
   ]
  }
 ],
 "metadata": {
  "kernelspec": {
   "display_name": "Python 3 (ipykernel)",
   "language": "python",
   "name": "python3"
  },
  "language_info": {
   "codemirror_mode": {
    "name": "ipython",
    "version": 3
   },
   "file_extension": ".py",
   "mimetype": "text/x-python",
   "name": "python",
   "nbconvert_exporter": "python",
   "pygments_lexer": "ipython3",
   "version": "3.8.12"
  }
 },
 "nbformat": 4,
 "nbformat_minor": 5
}
