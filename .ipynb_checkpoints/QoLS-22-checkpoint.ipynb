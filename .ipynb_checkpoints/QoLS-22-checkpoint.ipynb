{
 "cells": [
  {
   "cell_type": "markdown",
   "id": "be92c653",
   "metadata": {},
   "source": [
    "## Loading Data"
   ]
  },
  {
   "cell_type": "code",
   "execution_count": 1,
   "id": "57d2dc24",
   "metadata": {},
   "outputs": [],
   "source": [
    "import pandas as pd\n",
    "import numpy as np"
   ]
  },
  {
   "cell_type": "code",
   "execution_count": 2,
   "id": "72f799d8",
   "metadata": {},
   "outputs": [],
   "source": [
    "data = pd.read_csv('data/raw_survey_data_2022.csv',header=None)"
   ]
  },
  {
   "cell_type": "code",
   "execution_count": 3,
   "id": "af36b1b3",
   "metadata": {},
   "outputs": [
    {
     "name": "stdout",
     "output_type": "stream",
     "text": [
      "<class 'pandas.core.frame.DataFrame'>\n",
      "RangeIndex: 1594 entries, 0 to 1593\n",
      "Columns: 351 entries, 0 to 350\n",
      "dtypes: object(351)\n",
      "memory usage: 4.3+ MB\n"
     ]
    }
   ],
   "source": [
    "data.info()"
   ]
  },
  {
   "cell_type": "code",
   "execution_count": 4,
   "id": "912d11a8",
   "metadata": {},
   "outputs": [],
   "source": [
    "# with sub-questions as header\n",
    "df = pd.read_csv('data/raw_survey_data_2022.csv',header=1)"
   ]
  },
  {
   "cell_type": "markdown",
   "id": "4eb2109a",
   "metadata": {},
   "source": [
    "## Data cleaning if necessary"
   ]
  },
  {
   "cell_type": "code",
   "execution_count": 5,
   "id": "d69424f8",
   "metadata": {},
   "outputs": [],
   "source": [
    "from datetime import datetime"
   ]
  },
  {
   "cell_type": "code",
   "execution_count": 6,
   "id": "e6254edf",
   "metadata": {},
   "outputs": [
    {
     "data": {
      "text/plain": [
       "(1485, 349)"
      ]
     },
     "execution_count": 6,
     "metadata": {},
     "output_type": "execute_result"
    }
   ],
   "source": [
    "# Check if there are invalid responses \n",
    "# 1. give the same answer over 25 times\n",
    "# 2. response time less than 200s\n",
    "\n",
    "data1=df.iloc[:,1] #DataFrame with time\n",
    "data2=df.iloc[:,2] #DataFrame with data\n",
    "data3=df.iloc[:,3:]\n",
    "data[\"time\"]=data2.apply(lambda x: datetime.strptime(x, '%m/%d/%y %H:%M'))-data1.apply(lambda x: datetime.strptime(x, '%m/%d/%y %H:%M'))\n",
    "#(data1.iloc[:,1].values.astype('datetime64[D]')-data1.iloc[:,0].values.astype('datetime64[D]'))\n",
    "\n",
    "                                                                                                    \n",
    "index_time= data[\"time\"].apply(lambda x: x/np.timedelta64(1, 's'))\n",
    "index_time\n",
    "\n",
    "result = data3.T.apply(pd.value_counts).fillna(0)\n",
    "result1 = result.apply(pd.value_counts).fillna(0)\n",
    "data3['chaxun']=((result.max()<25)&(result1.iloc[0,:]<4))|(index_time>200)\n",
    "\n",
    "cleaned_data=data3[data3.chaxun==True]\n",
    "cleaned_data.shape"
   ]
  },
  {
   "cell_type": "markdown",
   "id": "4bfcd810",
   "metadata": {},
   "source": [
    "##  Basic Statistics"
   ]
  },
  {
   "cell_type": "code",
   "execution_count": 7,
   "id": "3e33796e",
   "metadata": {},
   "outputs": [],
   "source": [
    "##calculating the counts of each question"
   ]
  },
  {
   "cell_type": "code",
   "execution_count": 8,
   "id": "fd6205e8",
   "metadata": {},
   "outputs": [],
   "source": [
    "counts=[]\n",
    "for i in range(len(cleaned_data.columns)-1):\n",
    "    counts.append(dict(cleaned_data.iloc[:,i].value_counts()))\n"
   ]
  },
  {
   "cell_type": "markdown",
   "id": "362e32d4",
   "metadata": {},
   "source": [
    "## Creating Question Table"
   ]
  },
  {
   "cell_type": "code",
   "execution_count": 9,
   "id": "267135dc",
   "metadata": {
    "scrolled": true
   },
   "outputs": [],
   "source": [
    "# create the table of the first 2 rows to see the questions and the columns they locate\n",
    "Q=data.iloc[:2,3:-1].T\n",
    "Q.columns=['Question','Sub_Question']\n",
    "#Q['location']=[ lambda x: x.index*(x.Question.isna()==False)]\n",
    "Q['location']=np.where(Q.Question.isna()==False, Q.Question.index, \"False\")"
   ]
  },
  {
   "cell_type": "code",
   "execution_count": 10,
   "id": "983ab276",
   "metadata": {
    "scrolled": true
   },
   "outputs": [],
   "source": [
    "Q['counts']=counts"
   ]
  },
  {
   "cell_type": "code",
   "execution_count": 11,
   "id": "2e0005ea",
   "metadata": {},
   "outputs": [],
   "source": [
    "Q.to_csv(\"output/Questions-22.csv\", index=True)"
   ]
  },
  {
   "cell_type": "code",
   "execution_count": 12,
   "id": "59f94b96",
   "metadata": {},
   "outputs": [],
   "source": [
    "pd.options.display.max_colwidth=120"
   ]
  },
  {
   "cell_type": "code",
   "execution_count": 13,
   "id": "872c0399",
   "metadata": {},
   "outputs": [
    {
     "data": {
      "text/html": [
       "<div>\n",
       "<style scoped>\n",
       "    .dataframe tbody tr th:only-of-type {\n",
       "        vertical-align: middle;\n",
       "    }\n",
       "\n",
       "    .dataframe tbody tr th {\n",
       "        vertical-align: top;\n",
       "    }\n",
       "\n",
       "    .dataframe thead th {\n",
       "        text-align: right;\n",
       "    }\n",
       "</style>\n",
       "<table border=\"1\" class=\"dataframe\">\n",
       "  <thead>\n",
       "    <tr style=\"text-align: right;\">\n",
       "      <th></th>\n",
       "      <th>Question</th>\n",
       "      <th>Sub_Question</th>\n",
       "      <th>location</th>\n",
       "      <th>counts</th>\n",
       "    </tr>\n",
       "  </thead>\n",
       "  <tbody>\n",
       "    <tr>\n",
       "      <th>3</th>\n",
       "      <td>I am satisfied with my overall experience at Columbia.</td>\n",
       "      <td>Response</td>\n",
       "      <td>3</td>\n",
       "      <td>{'Agree': 834, 'Neither agree or disagree': 256, 'Strongly agree': 209, 'Disagree': 141, 'Strongly disagree': 45}</td>\n",
       "    </tr>\n",
       "    <tr>\n",
       "      <th>4</th>\n",
       "      <td>I am satisfied with the following with respect to my overall experience at Columbia.</td>\n",
       "      <td>Academics</td>\n",
       "      <td>4</td>\n",
       "      <td>{'Agree': 794, 'Strongly agree': 348, 'Neither agree nor disagree': 190, 'Disagree': 122, 'Strongly disagree': 31}</td>\n",
       "    </tr>\n",
       "    <tr>\n",
       "      <th>5</th>\n",
       "      <td>NaN</td>\n",
       "      <td>Mental health</td>\n",
       "      <td>False</td>\n",
       "      <td>{'Agree': 588, 'Neither agree nor disagree': 377, 'Strongly agree': 224, 'Disagree': 212, 'Strongly disagree': 84}</td>\n",
       "    </tr>\n",
       "    <tr>\n",
       "      <th>6</th>\n",
       "      <td>NaN</td>\n",
       "      <td>Physical health</td>\n",
       "      <td>False</td>\n",
       "      <td>{'Agree': 618, 'Neither agree nor disagree': 378, 'Strongly agree': 249, 'Disagree': 179, 'Strongly disagree': 61}</td>\n",
       "    </tr>\n",
       "    <tr>\n",
       "      <th>7</th>\n",
       "      <td>NaN</td>\n",
       "      <td>Professional development</td>\n",
       "      <td>False</td>\n",
       "      <td>{'Agree': 669, 'Neither agree nor disagree': 320, 'Strongly agree': 290, 'Disagree': 155, 'Strongly disagree': 51}</td>\n",
       "    </tr>\n",
       "    <tr>\n",
       "      <th>...</th>\n",
       "      <td>...</td>\n",
       "      <td>...</td>\n",
       "      <td>...</td>\n",
       "      <td>...</td>\n",
       "    </tr>\n",
       "    <tr>\n",
       "      <th>346</th>\n",
       "      <td>NaN</td>\n",
       "      <td>Other (please specify)</td>\n",
       "      <td>False</td>\n",
       "      <td>{'Hong Kong': 2, 'Reunion Island': 1, 'Iran and india ': 1, 'Citizen of USA and another country': 1, ''': 1, 'Parent...</td>\n",
       "    </tr>\n",
       "    <tr>\n",
       "      <th>347</th>\n",
       "      <td>What is your current age?</td>\n",
       "      <td>Response</td>\n",
       "      <td>347</td>\n",
       "      <td>{'24-26': 558, '21-23': 549, '27-29': 139, '30-32': 53, 'I prefer not to answer': 35, '33-35': 11, '36 and older': 5...</td>\n",
       "    </tr>\n",
       "    <tr>\n",
       "      <th>348</th>\n",
       "      <td>Is English your first language?</td>\n",
       "      <td>Response</td>\n",
       "      <td>348</td>\n",
       "      <td>{'No': 872, 'Yes': 444, 'I prefer not to answer': 36}</td>\n",
       "    </tr>\n",
       "    <tr>\n",
       "      <th>349</th>\n",
       "      <td>Was English the medium of instruction in your primary or secondary school?</td>\n",
       "      <td>Response</td>\n",
       "      <td>349</td>\n",
       "      <td>{'Yes': 902, 'No': 408, 'I prefer not to answer': 42}</td>\n",
       "    </tr>\n",
       "    <tr>\n",
       "      <th>350</th>\n",
       "      <td>Let us know about other important matters that are not covered by this survey</td>\n",
       "      <td>Open-Ended Response</td>\n",
       "      <td>350</td>\n",
       "      <td>{'None': 2, 'No': 2, 'After every \"break\" we're immediately swamped with assignments and submissions. If I don't get...</td>\n",
       "    </tr>\n",
       "  </tbody>\n",
       "</table>\n",
       "<p>348 rows × 4 columns</p>\n",
       "</div>"
      ],
      "text/plain": [
       "                                                                                 Question  \\\n",
       "3                                  I am satisfied with my overall experience at Columbia.   \n",
       "4    I am satisfied with the following with respect to my overall experience at Columbia.   \n",
       "5                                                                                     NaN   \n",
       "6                                                                                     NaN   \n",
       "7                                                                                     NaN   \n",
       "..                                                                                    ...   \n",
       "346                                                                                   NaN   \n",
       "347                                                             What is your current age?   \n",
       "348                                                       Is English your first language?   \n",
       "349            Was English the medium of instruction in your primary or secondary school?   \n",
       "350         Let us know about other important matters that are not covered by this survey   \n",
       "\n",
       "                 Sub_Question location  \\\n",
       "3                    Response        3   \n",
       "4                   Academics        4   \n",
       "5               Mental health    False   \n",
       "6             Physical health    False   \n",
       "7    Professional development    False   \n",
       "..                        ...      ...   \n",
       "346    Other (please specify)    False   \n",
       "347                  Response      347   \n",
       "348                  Response      348   \n",
       "349                  Response      349   \n",
       "350       Open-Ended Response      350   \n",
       "\n",
       "                                                                                                                      counts  \n",
       "3          {'Agree': 834, 'Neither agree or disagree': 256, 'Strongly agree': 209, 'Disagree': 141, 'Strongly disagree': 45}  \n",
       "4         {'Agree': 794, 'Strongly agree': 348, 'Neither agree nor disagree': 190, 'Disagree': 122, 'Strongly disagree': 31}  \n",
       "5         {'Agree': 588, 'Neither agree nor disagree': 377, 'Strongly agree': 224, 'Disagree': 212, 'Strongly disagree': 84}  \n",
       "6         {'Agree': 618, 'Neither agree nor disagree': 378, 'Strongly agree': 249, 'Disagree': 179, 'Strongly disagree': 61}  \n",
       "7         {'Agree': 669, 'Neither agree nor disagree': 320, 'Strongly agree': 290, 'Disagree': 155, 'Strongly disagree': 51}  \n",
       "..                                                                                                                       ...  \n",
       "346  {'Hong Kong': 2, 'Reunion Island': 1, 'Iran and india ': 1, 'Citizen of USA and another country': 1, ''': 1, 'Parent...  \n",
       "347  {'24-26': 558, '21-23': 549, '27-29': 139, '30-32': 53, 'I prefer not to answer': 35, '33-35': 11, '36 and older': 5...  \n",
       "348                                                                    {'No': 872, 'Yes': 444, 'I prefer not to answer': 36}  \n",
       "349                                                                    {'Yes': 902, 'No': 408, 'I prefer not to answer': 42}  \n",
       "350  {'None': 2, 'No': 2, 'After every \"break\" we're immediately swamped with assignments and submissions. If I don't get...  \n",
       "\n",
       "[348 rows x 4 columns]"
      ]
     },
     "execution_count": 13,
     "metadata": {},
     "output_type": "execute_result"
    }
   ],
   "source": [
    "Q"
   ]
  }
 ],
 "metadata": {
  "kernelspec": {
   "display_name": "Python 3 (ipykernel)",
   "language": "python",
   "name": "python3"
  },
  "language_info": {
   "codemirror_mode": {
    "name": "ipython",
    "version": 3
   },
   "file_extension": ".py",
   "mimetype": "text/x-python",
   "name": "python",
   "nbconvert_exporter": "python",
   "pygments_lexer": "ipython3",
   "version": "3.8.12"
  }
 },
 "nbformat": 4,
 "nbformat_minor": 5
}
