{
 "cells": [
  {
   "cell_type": "markdown",
   "id": "be92c653",
   "metadata": {},
   "source": [
    "## Loading Data"
   ]
  },
  {
   "cell_type": "code",
   "execution_count": 1,
   "id": "57d2dc24",
   "metadata": {},
   "outputs": [],
   "source": [
    "import pandas as pd\n",
    "import numpy as np"
   ]
  },
  {
   "cell_type": "code",
   "execution_count": 2,
   "id": "72f799d8",
   "metadata": {},
   "outputs": [],
   "source": [
    "data = pd.read_csv('data/raw_survey_data_2022.csv',header=None)"
   ]
  },
  {
   "cell_type": "code",
   "execution_count": 135,
   "id": "af36b1b3",
   "metadata": {},
   "outputs": [
    {
     "name": "stdout",
     "output_type": "stream",
     "text": [
      "<class 'pandas.core.frame.DataFrame'>\n",
      "RangeIndex: 1594 entries, 0 to 1593\n",
      "Columns: 351 entries, 0 to 350\n",
      "dtypes: object(351)\n",
      "memory usage: 4.3+ MB\n"
     ]
    }
   ],
   "source": [
    "data.info()"
   ]
  },
  {
   "cell_type": "code",
   "execution_count": 4,
   "id": "912d11a8",
   "metadata": {},
   "outputs": [],
   "source": [
    "# with sub-questions as header\n",
    "df = pd.read_csv('data/raw_survey_data_2022.csv',header=1)"
   ]
  },
  {
   "cell_type": "markdown",
   "id": "4eb2109a",
   "metadata": {},
   "source": [
    "## Data cleaning"
   ]
  },
  {
   "cell_type": "code",
   "execution_count": 5,
   "id": "aa4f8c7c",
   "metadata": {},
   "outputs": [],
   "source": [
    "# Check if there are invalid responses \n",
    "# 1. the response column is correct (most essential:If you have read the survey up to this point, please select the number four (4). By selecting number 4, you'll be entered to win one of the prizes.)\n",
    "# 2. response time less than 200s"
   ]
  },
  {
   "cell_type": "code",
   "execution_count": 6,
   "id": "eabb33ec",
   "metadata": {},
   "outputs": [
    {
     "data": {
      "text/plain": [
       "Int64Index([176, 306], dtype='int64')"
      ]
     },
     "execution_count": 6,
     "metadata": {},
     "output_type": "execute_result"
    }
   ],
   "source": [
    "## Finding the response question and their column indices\n",
    "data.loc[0,data.iloc[0,:].str.contains('If you have read the survey up to this point')==True].index"
   ]
  },
  {
   "cell_type": "code",
   "execution_count": 7,
   "id": "d69424f8",
   "metadata": {},
   "outputs": [],
   "source": [
    "from datetime import datetime\n",
    "\n",
    "data1=df.iloc[:,1] #DataFrame with start time\n",
    "data2=df.iloc[:,2] #DataFrame with end time\n",
    "data3=df.iloc[:,3:] #DataFrame with data\n"
   ]
  },
  {
   "cell_type": "code",
   "execution_count": 242,
   "id": "e6254edf",
   "metadata": {},
   "outputs": [
    {
     "data": {
      "text/plain": [
       "(1271, 348)"
      ]
     },
     "execution_count": 242,
     "metadata": {},
     "output_type": "execute_result"
    }
   ],
   "source": [
    "\n",
    "data3[\"time\"]=data2.apply(lambda x: datetime.strptime(x, '%m/%d/%y %H:%M'))-data1.apply(lambda x: datetime.strptime(x, '%m/%d/%y %H:%M'))\n",
    "#(data1.iloc[:,1].values.astype('datetime64[D]')-data1.iloc[:,0].values.astype('datetime64[D]'))\n",
    "\n",
    "                                                                                                    \n",
    "index_time= data3[\"time\"].apply(lambda x: x/np.timedelta64(1, 's'))\n",
    "\n",
    "\n",
    "data3['clean']=(index_time>200)&(data3.iloc[:,176-3]=='2')&(data3.iloc[:,306-3]=='4')\n",
    "\n",
    "cleaned_data=data3.loc[data3.clean==True].iloc[:,:-2]\n",
    "cleaned_data.shape"
   ]
  },
  {
   "cell_type": "code",
   "execution_count": 245,
   "id": "d20a1011",
   "metadata": {},
   "outputs": [],
   "source": [
    "for i in range(cleaned_data.shape[0]):\n",
    "    for j in range(cleaned_data.shape[1]):\n",
    "        if cleaned_data.iloc[i,j]=='Strongly agree':\n",
    "            cleaned_data.iloc[i,j]=5\n",
    "        if cleaned_data.iloc[i,j]=='Agree':\n",
    "            cleaned_data.iloc[i,j]=4\n",
    "        if cleaned_data.iloc[i,j]in['Neither agree or disagree','Neither agree nor disagree','Neither disagree nor agree']:\n",
    "            cleaned_data.iloc[i,j]=3\n",
    "        if cleaned_data.iloc[i,j]=='Disagree':\n",
    "            cleaned_data.iloc[i,j]=2\n",
    "        if cleaned_data.iloc[i,j]=='Strongly disagree':\n",
    "            cleaned_data.iloc[i,j]=1\n"
   ]
  },
  {
   "cell_type": "markdown",
   "id": "4bfcd810",
   "metadata": {},
   "source": [
    "##  Basic Statistics"
   ]
  },
  {
   "cell_type": "code",
   "execution_count": 9,
   "id": "3e33796e",
   "metadata": {},
   "outputs": [],
   "source": [
    "##calculating the counts of each question"
   ]
  },
  {
   "cell_type": "code",
   "execution_count": 257,
   "id": "fd6205e8",
   "metadata": {},
   "outputs": [],
   "source": [
    "counts=[]\n",
    "for i in range(len(cleaned_data.columns)):\n",
    "    counts.append(dict(cleaned_data.iloc[:,i].value_counts()))\n"
   ]
  },
  {
   "cell_type": "markdown",
   "id": "362e32d4",
   "metadata": {},
   "source": [
    "## Creating Question Table"
   ]
  },
  {
   "cell_type": "code",
   "execution_count": 259,
   "id": "267135dc",
   "metadata": {
    "scrolled": true
   },
   "outputs": [],
   "source": [
    "# create the table of the first 2 rows to see the questions and the columns they locate\n",
    "Q=data.iloc[:2,3:].T\n",
    "Q.columns=['Question','Sub_Question']\n",
    "#Q['location']=[ lambda x: x.index*(x.Question.isna()==False)]\n",
    "Q=Q.reset_index(drop=True)\n",
    "Q['location']=np.where(Q.Question.isna()==False, Q.Question.index, \"False\")\n",
    "Q['counts']=counts"
   ]
  },
  {
   "cell_type": "code",
   "execution_count": 231,
   "id": "983ab276",
   "metadata": {
    "scrolled": true
   },
   "outputs": [],
   "source": []
  },
  {
   "cell_type": "code",
   "execution_count": 139,
   "id": "2e0005ea",
   "metadata": {},
   "outputs": [],
   "source": [
    "Q.to_csv(\"output/Questions-22.csv\", index=True)"
   ]
  },
  {
   "cell_type": "code",
   "execution_count": 140,
   "id": "59f94b96",
   "metadata": {},
   "outputs": [],
   "source": [
    "pd.options.display.max_colwidth=120"
   ]
  },
  {
   "cell_type": "code",
   "execution_count": 141,
   "id": "4f45800f",
   "metadata": {
    "scrolled": true
   },
   "outputs": [
    {
     "data": {
      "text/plain": [
       "0                                    I am satisfied with my overall experience at Columbia.\n",
       "1      I am satisfied with the following with respect to my overall experience at Columbia.\n",
       "2                                                                                       NaN\n",
       "3                                                                                       NaN\n",
       "4                                                                                       NaN\n",
       "                                               ...                                         \n",
       "343                                                                                     NaN\n",
       "344                                                               What is your current age?\n",
       "345                                                         Is English your first language?\n",
       "346              Was English the medium of instruction in your primary or secondary school?\n",
       "347           Let us know about other important matters that are not covered by this survey\n",
       "Name: Question, Length: 348, dtype: object"
      ]
     },
     "execution_count": 141,
     "metadata": {},
     "output_type": "execute_result"
    }
   ],
   "source": [
    "Q.Question"
   ]
  },
  {
   "cell_type": "code",
   "execution_count": 260,
   "id": "17be8354",
   "metadata": {},
   "outputs": [
    {
     "data": {
      "text/html": [
       "<div>\n",
       "<style scoped>\n",
       "    .dataframe tbody tr th:only-of-type {\n",
       "        vertical-align: middle;\n",
       "    }\n",
       "\n",
       "    .dataframe tbody tr th {\n",
       "        vertical-align: top;\n",
       "    }\n",
       "\n",
       "    .dataframe thead th {\n",
       "        text-align: right;\n",
       "    }\n",
       "</style>\n",
       "<table border=\"1\" class=\"dataframe\">\n",
       "  <thead>\n",
       "    <tr style=\"text-align: right;\">\n",
       "      <th></th>\n",
       "      <th>Question</th>\n",
       "      <th>Sub_Question</th>\n",
       "      <th>location</th>\n",
       "      <th>counts</th>\n",
       "    </tr>\n",
       "  </thead>\n",
       "  <tbody>\n",
       "    <tr>\n",
       "      <th>0</th>\n",
       "      <td>I am satisfied with my overall experience at Columbia.</td>\n",
       "      <td>Response</td>\n",
       "      <td>0</td>\n",
       "      <td>{4: 719, 3: 214, 5: 184, 2: 120, 1: 34}</td>\n",
       "    </tr>\n",
       "    <tr>\n",
       "      <th>1</th>\n",
       "      <td>I am satisfied with the following with respect to my overall experience at Columbia.</td>\n",
       "      <td>Academics</td>\n",
       "      <td>1</td>\n",
       "      <td>{4: 673, 5: 306, 3: 158, 2: 106, 1: 28}</td>\n",
       "    </tr>\n",
       "    <tr>\n",
       "      <th>70</th>\n",
       "      <td>I am satisfied with the PDL Core Modules.</td>\n",
       "      <td>Response</td>\n",
       "      <td>70</td>\n",
       "      <td>{4: 512, 5: 213, 3: 137, 2: 69, 1: 42}</td>\n",
       "    </tr>\n",
       "    <tr>\n",
       "      <th>71</th>\n",
       "      <td>I am satisfied with the PDL Elective Modules.</td>\n",
       "      <td>Response</td>\n",
       "      <td>71</td>\n",
       "      <td>{4: 495, 5: 215, 3: 155, 2: 65, 1: 43}</td>\n",
       "    </tr>\n",
       "    <tr>\n",
       "      <th>74</th>\n",
       "      <td>I am satisfied with my advisor's ability to:</td>\n",
       "      <td>Communicate efficiently</td>\n",
       "      <td>74</td>\n",
       "      <td>{4: 395, 5: 349, 3: 200, 'Not Applicable': 159, 2: 96, 1: 61}</td>\n",
       "    </tr>\n",
       "    <tr>\n",
       "      <th>80</th>\n",
       "      <td>I am satisfied with the following resources with respect to guidance in my degree program.</td>\n",
       "      <td>Ombuds Office</td>\n",
       "      <td>80</td>\n",
       "      <td>{'Unaware of this resource': 619, 3: 330, 4: 161, 5: 123, 2: 26, 1: 12}</td>\n",
       "    </tr>\n",
       "    <tr>\n",
       "      <th>161</th>\n",
       "      <td>How satisfied are you with the following?</td>\n",
       "      <td>Overall sense of community within SEAS</td>\n",
       "      <td>161</td>\n",
       "      <td>{'Satisfied': 515, 'Neither satisfied nor dissatisfied': 353, 'Dissatisfied': 177, 'Very satisfied': 159, 'Very diss...</td>\n",
       "    </tr>\n",
       "    <tr>\n",
       "      <th>210</th>\n",
       "      <td>I am satisfied with the following.</td>\n",
       "      <td>Overall cleanliness of classrooms in the Mudd building</td>\n",
       "      <td>210</td>\n",
       "      <td>{4: 590, 5: 384, 3: 184, 2: 53, 'Not Applicable': 45, 1: 15}</td>\n",
       "    </tr>\n",
       "    <tr>\n",
       "      <th>230</th>\n",
       "      <td>Are you satisfied with the gender-neutral bathrooms in Mudd and Engineering Terrace?</td>\n",
       "      <td>Response</td>\n",
       "      <td>230</td>\n",
       "      <td>{'I was unaware of the gender-neutral bathrooms in Mudd': 609, 'Yes': 593, 'No': 69}</td>\n",
       "    </tr>\n",
       "    <tr>\n",
       "      <th>231</th>\n",
       "      <td>I am satisfied with the availability of safer-sex protection products on campus.</td>\n",
       "      <td>Response</td>\n",
       "      <td>231</td>\n",
       "      <td>{'I was unaware of this resource': 647, 4: 272, 3: 159, 5: 130, 2: 39, 1: 24}</td>\n",
       "    </tr>\n",
       "    <tr>\n",
       "      <th>232</th>\n",
       "      <td>I am satisfied with the following with respect to Blue Java Café in Carleton Commons.</td>\n",
       "      <td>Availability of healthy food options</td>\n",
       "      <td>232</td>\n",
       "      <td>{4: 366, 3: 267, 5: 140, 2: 94, 1: 46}</td>\n",
       "    </tr>\n",
       "    <tr>\n",
       "      <th>239</th>\n",
       "      <td>I am satisfied with the weekday after-hours and weekend swipe access for the 1st floor Mudd entrance.</td>\n",
       "      <td>Response</td>\n",
       "      <td>239</td>\n",
       "      <td>{4: 495, 3: 410, 5: 151, 1: 114, 2: 101}</td>\n",
       "    </tr>\n",
       "    <tr>\n",
       "      <th>254</th>\n",
       "      <td>I am satisfied with the Columbia health insurance Plan.</td>\n",
       "      <td>Response</td>\n",
       "      <td>254</td>\n",
       "      <td>{4: 378, 3: 300, 2: 228, 'Not Applicable': 162, 1: 123, 5: 66}</td>\n",
       "    </tr>\n",
       "    <tr>\n",
       "      <th>275</th>\n",
       "      <td>I am satisfied with the Columbia Residential application process.</td>\n",
       "      <td>Response</td>\n",
       "      <td>275</td>\n",
       "      <td>{4: 166, 3: 61, 2: 54, 5: 46, 1: 37}</td>\n",
       "    </tr>\n",
       "    <tr>\n",
       "      <th>276</th>\n",
       "      <td>I am satisfied with the Columbia Residential transfer process.</td>\n",
       "      <td>Response</td>\n",
       "      <td>276</td>\n",
       "      <td>{3: 185, 4: 67, 1: 54, 2: 37, 5: 21}</td>\n",
       "    </tr>\n",
       "    <tr>\n",
       "      <th>277</th>\n",
       "      <td>Why are you dissatisfied with the Columbia Residential application or transfer process?</td>\n",
       "      <td>Open-Ended Response</td>\n",
       "      <td>277</td>\n",
       "      <td>{'You cant see where things, or be able to search for specific criteria.': 1, 'I had conflicts with my roommate and ...</td>\n",
       "    </tr>\n",
       "    <tr>\n",
       "      <th>278</th>\n",
       "      <td>I am satisfied with Columbia Residential building management with respect to the following.</td>\n",
       "      <td>Helpfulness of building superintendent</td>\n",
       "      <td>278</td>\n",
       "      <td>{4: 171, 5: 112, 3: 49, 2: 17, 1: 15}</td>\n",
       "    </tr>\n",
       "    <tr>\n",
       "      <th>293</th>\n",
       "      <td>I am satisfied with the service provided by the Off-Campus Housing Assistance Office (OCHA).</td>\n",
       "      <td>Response</td>\n",
       "      <td>293</td>\n",
       "      <td>{'I did not use their service': 621, 3: 201, 4: 168, 2: 128, 1: 64, 5: 49}</td>\n",
       "    </tr>\n",
       "  </tbody>\n",
       "</table>\n",
       "</div>"
      ],
      "text/plain": [
       "                                                                                                  Question  \\\n",
       "0                                                   I am satisfied with my overall experience at Columbia.   \n",
       "1                     I am satisfied with the following with respect to my overall experience at Columbia.   \n",
       "70                                                               I am satisfied with the PDL Core Modules.   \n",
       "71                                                           I am satisfied with the PDL Elective Modules.   \n",
       "74                                                            I am satisfied with my advisor's ability to:   \n",
       "80              I am satisfied with the following resources with respect to guidance in my degree program.   \n",
       "161                                                              How satisfied are you with the following?   \n",
       "210                                                                     I am satisfied with the following.   \n",
       "230                   Are you satisfied with the gender-neutral bathrooms in Mudd and Engineering Terrace?   \n",
       "231                       I am satisfied with the availability of safer-sex protection products on campus.   \n",
       "232                  I am satisfied with the following with respect to Blue Java Café in Carleton Commons.   \n",
       "239  I am satisfied with the weekday after-hours and weekend swipe access for the 1st floor Mudd entrance.   \n",
       "254                                                I am satisfied with the Columbia health insurance Plan.   \n",
       "275                                      I am satisfied with the Columbia Residential application process.   \n",
       "276                                         I am satisfied with the Columbia Residential transfer process.   \n",
       "277                Why are you dissatisfied with the Columbia Residential application or transfer process?   \n",
       "278            I am satisfied with Columbia Residential building management with respect to the following.   \n",
       "293           I am satisfied with the service provided by the Off-Campus Housing Assistance Office (OCHA).   \n",
       "\n",
       "                                               Sub_Question location  \\\n",
       "0                                                  Response        0   \n",
       "1                                                 Academics        1   \n",
       "70                                                 Response       70   \n",
       "71                                                 Response       71   \n",
       "74                                  Communicate efficiently       74   \n",
       "80                                            Ombuds Office       80   \n",
       "161                  Overall sense of community within SEAS      161   \n",
       "210  Overall cleanliness of classrooms in the Mudd building      210   \n",
       "230                                                Response      230   \n",
       "231                                                Response      231   \n",
       "232                    Availability of healthy food options      232   \n",
       "239                                                Response      239   \n",
       "254                                                Response      254   \n",
       "275                                                Response      275   \n",
       "276                                                Response      276   \n",
       "277                                     Open-Ended Response      277   \n",
       "278                  Helpfulness of building superintendent      278   \n",
       "293                                                Response      293   \n",
       "\n",
       "                                                                                                                      counts  \n",
       "0                                                                                    {4: 719, 3: 214, 5: 184, 2: 120, 1: 34}  \n",
       "1                                                                                    {4: 673, 5: 306, 3: 158, 2: 106, 1: 28}  \n",
       "70                                                                                    {4: 512, 5: 213, 3: 137, 2: 69, 1: 42}  \n",
       "71                                                                                    {4: 495, 5: 215, 3: 155, 2: 65, 1: 43}  \n",
       "74                                                             {4: 395, 5: 349, 3: 200, 'Not Applicable': 159, 2: 96, 1: 61}  \n",
       "80                                                   {'Unaware of this resource': 619, 3: 330, 4: 161, 5: 123, 2: 26, 1: 12}  \n",
       "161  {'Satisfied': 515, 'Neither satisfied nor dissatisfied': 353, 'Dissatisfied': 177, 'Very satisfied': 159, 'Very diss...  \n",
       "210                                                             {4: 590, 5: 384, 3: 184, 2: 53, 'Not Applicable': 45, 1: 15}  \n",
       "230                                     {'I was unaware of the gender-neutral bathrooms in Mudd': 609, 'Yes': 593, 'No': 69}  \n",
       "231                                            {'I was unaware of this resource': 647, 4: 272, 3: 159, 5: 130, 2: 39, 1: 24}  \n",
       "232                                                                                   {4: 366, 3: 267, 5: 140, 2: 94, 1: 46}  \n",
       "239                                                                                 {4: 495, 3: 410, 5: 151, 1: 114, 2: 101}  \n",
       "254                                                           {4: 378, 3: 300, 2: 228, 'Not Applicable': 162, 1: 123, 5: 66}  \n",
       "275                                                                                     {4: 166, 3: 61, 2: 54, 5: 46, 1: 37}  \n",
       "276                                                                                     {3: 185, 4: 67, 1: 54, 2: 37, 5: 21}  \n",
       "277  {'You cant see where things, or be able to search for specific criteria.': 1, 'I had conflicts with my roommate and ...  \n",
       "278                                                                                    {4: 171, 5: 112, 3: 49, 2: 17, 1: 15}  \n",
       "293                                               {'I did not use their service': 621, 3: 201, 4: 168, 2: 128, 1: 64, 5: 49}  "
      ]
     },
     "execution_count": 260,
     "metadata": {},
     "output_type": "execute_result"
    }
   ],
   "source": [
    "Q[Q['Question'].str.contains(\"satisfied\")==True]"
   ]
  },
  {
   "cell_type": "code",
   "execution_count": 226,
   "id": "c881ae71",
   "metadata": {},
   "outputs": [],
   "source": [
    "# Main questions\n",
    "qq=Q[Q['location']!='False']\n",
    "qq=qq.reset_index(drop=True)"
   ]
  },
  {
   "cell_type": "code",
   "execution_count": 261,
   "id": "8182ad52",
   "metadata": {
    "scrolled": true
   },
   "outputs": [
    {
     "name": "stdout",
     "output_type": "stream",
     "text": [
      "I am satisfied with my overall experience at Columbia.\n"
     ]
    }
   ],
   "source": [
    "que=Q[Q['Question'].str.contains(\"satisfied\")==True]\n",
    "val=que.values\n",
    "ind=que.index.values\n",
    "print(Q.loc[ind[0],'Question'])\n",
    "start=ind[0]\n",
    "end=int(qq.iloc[qq[qq.location==str(ind[0])].index+1]['location'][1])\n",
    "\n",
    "df_satisfied=cleaned_data.iloc[:,start:end]"
   ]
  },
  {
   "cell_type": "code",
   "execution_count": 216,
   "id": "bd3e76a3",
   "metadata": {
    "scrolled": true
   },
   "outputs": [
    {
     "data": {
      "text/plain": [
       "Response\n",
       "1            34\n",
       "2           120\n",
       "5           184\n",
       "3           214\n",
       "4           719\n",
       "dtype: int64"
      ]
     },
     "execution_count": 216,
     "metadata": {},
     "output_type": "execute_result"
    }
   ],
   "source": [
    "df1_satisfied=df_satisfied.copy()\n",
    "df1_satisfied.loc[df1_satisfied.Response==('Strongly agree'),'Response'] =5\n",
    "df1_satisfied.loc[df1_satisfied.Response==('Neither agree or disagree'),'Response'] =3\n",
    "df1_satisfied.loc[df1_satisfied.Response==('Strongly disagree'),'Response'] =1\n",
    "df1_satisfied.loc[df1_satisfied.Response==('Disagree'),'Response'] =2\n",
    "df1_satisfied.loc[df1_satisfied.Response==('Agree'),'Response'] =4\n",
    "(df1_satisfied.value_counts()).sort_values(axis='index')\n"
   ]
  },
  {
   "cell_type": "code",
   "execution_count": 262,
   "id": "e05453ea",
   "metadata": {},
   "outputs": [
    {
     "data": {
      "image/png": "[encoded data removed]",
      "text/plain": [
       "<Figure size 720x432 with 1 Axes>"
      ]
     },
     "metadata": {
      "needs_background": "light"
     },
     "output_type": "display_data"
    }
   ],
   "source": [
    "import matplotlib.pyplot as plt\n",
    "import seaborn as sns\n",
    "df3_1_cafe_count=df1_satisfied.apply(pd.value_counts,axis=0).sort_index()\n",
    "\n",
    "#df3_1_cafe_count.index.name = 'rate'\n",
    "#df3_1_cafe_count.columns.name = 'features'\n",
    "df3_1_cafe_prob=df3_1_cafe_count.apply(lambda x: x / x.sum(), axis=0)\n",
    "aaa=df3_1_cafe_count\n",
    "bbb=df3_1_cafe_prob\n",
    "\n",
    "aaa.plot(kind='bar', colormap='summer', figsize=(10, 6))\n",
    "plt.ylabel(\"Features\")\n",
    "plt.xlabel(\"Proportion\")\n",
    "plt.legend(bbox_to_anchor=(1.05, 1), loc=2, borderaxespad=0., ncol=1)\n",
    "plt.title(\"Services Rating of Blue Java Café \",fontsize=20)\n",
    "\n",
    "\n",
    "\n",
    "plt.show()"
   ]
  },
  {
   "cell_type": "code",
   "execution_count": 284,
   "id": "393770bd",
   "metadata": {},
   "outputs": [
    {
     "name": "stdout",
     "output_type": "stream",
     "text": [
      "The following are important with respect to my overall experience at Columbia.\n"
     ]
    },
    {
     "data": {
      "text/plain": [
       "Academics.1                             4.597168\n",
       "Mental health.1                         4.289536\n",
       "Physical health.1                       4.210071\n",
       "Professional development.1              4.332809\n",
       "Social life.1                           4.143981\n",
       "Career Placement Team.1                 4.274587\n",
       "Housing.1                               3.901652\n",
       "Intercampus Shuttle/Via Service.1       3.804878\n",
       "Library services.1                      4.047994\n",
       "Funding opportunities.1                 4.009441\n",
       "Student life and academic advising.1    4.313139\n",
       "Technology services and support.1       3.985051\n",
       "dtype: float64"
      ]
     },
     "execution_count": 284,
     "metadata": {},
     "output_type": "execute_result"
    }
   ],
   "source": [
    "que=Q[Q['Question'].str.contains(\"important\")==True]\n",
    "val=que.values\n",
    "ind=que.index.values\n",
    "print(Q.loc[ind[0],'Question'])\n",
    "start=ind[0]\n",
    "end=int(qq.iloc[qq[qq.location==str(ind[0])].index+1]['location'])\n",
    "\n",
    "df_important=cleaned_data.iloc[:,start:end]\n",
    "df_important.mean()"
   ]
  },
  {
   "cell_type": "code",
   "execution_count": 274,
   "id": "881b6b31",
   "metadata": {},
   "outputs": [
    {
     "name": "stdout",
     "output_type": "stream",
     "text": [
      "I am satisfied with the following with respect to my overall experience at Columbia.\n"
     ]
    },
    {
     "data": {
      "text/plain": [
       "Academics                             3.883556\n",
       "Mental health                         3.430370\n",
       "Physical health                       3.530291\n",
       "Professional development              3.675846\n",
       "Social life                           3.536585\n",
       "Career Placement Team                 3.260425\n",
       "Housing                               3.235248\n",
       "Intercampus Shuttle/Via Service       3.653029\n",
       "Library services                      4.084186\n",
       "Funding opportunities                 3.024390\n",
       "Student life and academic advising    3.484658\n",
       "Technology services and support       3.713611\n",
       "dtype: float64"
      ]
     },
     "execution_count": 274,
     "metadata": {},
     "output_type": "execute_result"
    }
   ],
   "source": [
    "que=Q[Q['Question'].str.contains(\"satisfied\")==True]\n",
    "val=que.values\n",
    "ind=que.index.values\n",
    "print(Q.loc[ind[1],'Question'])\n",
    "start=ind[1]\n",
    "end=int(qq.iloc[qq[qq.location==str(ind[1])].index+1]['location'])\n",
    "\n",
    "df_satisfied2=cleaned_data.iloc[:,start:end]\n",
    "df_satisfied2"
   ]
  },
  {
   "cell_type": "code",
   "execution_count": 293,
   "id": "4913cf11",
   "metadata": {
    "scrolled": true
   },
   "outputs": [],
   "source": [
    "a=pd.DataFrame(df_satisfied2.mean()).T\n",
    "b=pd.DataFrame(df_important.mean()).T\n",
    "b.columns=a.columns\n",
    "c=pd.concat([a,b],ignore_index=True)"
   ]
  },
  {
   "cell_type": "code",
   "execution_count": 313,
   "id": "fa9eacca",
   "metadata": {},
   "outputs": [
    {
     "data": {
      "text/plain": [
       "'Mental health'"
      ]
     },
     "execution_count": 313,
     "metadata": {},
     "output_type": "execute_result"
    }
   ],
   "source": [
    "\n",
    "c.columns[1]"
   ]
  }
 ],
 "metadata": {
  "kernelspec": {
   "display_name": "Python 3 (ipykernel)",
   "language": "python",
   "name": "python3"
  },
  "language_info": {
   "codemirror_mode": {
    "name": "ipython",
    "version": 3
   },
   "file_extension": ".py",
   "mimetype": "text/x-python",
   "name": "python",
   "nbconvert_exporter": "python",
   "pygments_lexer": "ipython3",
   "version": "3.8.12"
  }
 },
 "nbformat": 4,
 "nbformat_minor": 5
}
