{
 "cells": [
  {
   "cell_type": "markdown",
   "id": "4e4b33a5",
   "metadata": {},
   "source": [
    "# Biomedical Engineering Department"
   ]
  },
  {
   "cell_type": "markdown",
   "id": "9173d829",
   "metadata": {},
   "source": [
    "### Data Loading and Preprocessing"
   ]
  },
  {
   "cell_type": "code",
   "execution_count": 10,
   "id": "34fe4acb",
   "metadata": {},
   "outputs": [],
   "source": [
    "import pandas as pd\n",
    "import numpy as np\n",
    "from datetime import datetime\n",
    "import seaborn as sns\n",
    "import matplotlib.cm as cm\n",
    "import matplotlib.pyplot as plt\n",
    "\n"
   ]
  },
  {
   "cell_type": "code",
   "execution_count": 11,
   "id": "62d798ee",
   "metadata": {},
   "outputs": [],
   "source": [
    "data = pd.read_csv('data/raw_survey_data_2022.csv',header=None)"
   ]
  },
  {
   "cell_type": "code",
   "execution_count": 12,
   "id": "75f31eea",
   "metadata": {},
   "outputs": [],
   "source": [
    "df = pd.read_csv('data/raw_survey_data_2022.csv',header=1)"
   ]
  },
  {
   "cell_type": "code",
   "execution_count": 13,
   "id": "7567ad13",
   "metadata": {},
   "outputs": [
    {
     "data": {
      "text/plain": [
       "Int64Index([176, 306], dtype='int64')"
      ]
     },
     "execution_count": 13,
     "metadata": {},
     "output_type": "execute_result"
    }
   ],
   "source": [
    "data.loc[0,data.iloc[0,:].str.contains('If you have read the survey up to this point')==True].index"
   ]
  },
  {
   "cell_type": "code",
   "execution_count": 14,
   "id": "f26bd80c",
   "metadata": {},
   "outputs": [],
   "source": [
    "df_1=df[(df.iloc[:,176]=='2')&(df.iloc[:,306]=='4')]"
   ]
  },
  {
   "cell_type": "code",
   "execution_count": 15,
   "id": "2342fcb2",
   "metadata": {},
   "outputs": [
    {
     "data": {
      "text/plain": [
       "(1271, 348)"
      ]
     },
     "execution_count": 15,
     "metadata": {},
     "output_type": "execute_result"
    }
   ],
   "source": [
    "## 2 response time more than 200s\n",
    "def response_time(df,minimum=200):\n",
    "    data1=df.iloc[:,1] #DataFrame with start time\n",
    "    data2=df.iloc[:,2] #DataFrame with end time\n",
    "    data3=df.iloc[:,3:] #DataFrame with data\n",
    "\n",
    "    data3[\"time\"]=data2.apply(lambda x: datetime.strptime(x, '%m/%d/%y %H:%M'))-data1.apply(lambda x: datetime.strptime(x, '%m/%d/%y %H:%M'))\n",
    "    #(data1.iloc[:,1].values.astype('datetime64[D]')-data1.iloc[:,0].values.astype('datetime64[D]'))\n",
    "\n",
    "                                                                                                    \n",
    "    index_time= data3[\"time\"].apply(lambda x: x/np.timedelta64(1, 's'))\n",
    "    data3['clean']=(index_time>200)\n",
    "    cleaned_data=data3.loc[data3.clean==True].iloc[:,:-2]\n",
    "\n",
    "    return cleaned_data\n",
    "cleaned_data=response_time(df_1,200)\n",
    "\n",
    "cleaned_data.shape"
   ]
  },
  {
   "cell_type": "code",
   "execution_count": 16,
   "id": "8c051826",
   "metadata": {},
   "outputs": [],
   "source": [
    "## change some answer to numerical\n",
    "def numeric_scale(cleaned_data):\n",
    "    for i in range(cleaned_data.shape[0]):\n",
    "        for j in range(cleaned_data.shape[1]):\n",
    "            if cleaned_data.iloc[i,j]=='Strongly agree':\n",
    "                cleaned_data.iloc[i,j]=5\n",
    "            if cleaned_data.iloc[i,j]=='Agree':\n",
    "                cleaned_data.iloc[i,j]=4\n",
    "            if cleaned_data.iloc[i,j]in['Neither agree or disagree','Neither agree nor disagree','Neither disagree nor agree']:\n",
    "                cleaned_data.iloc[i,j]=3\n",
    "            if cleaned_data.iloc[i,j]=='Disagree':\n",
    "                cleaned_data.iloc[i,j]=2\n",
    "            if cleaned_data.iloc[i,j]=='Strongly disagree':\n",
    "                cleaned_data.iloc[i,j]=1\n",
    "    return cleaned_data\n",
    "\n",
    "\n",
    "cleaned_data=numeric_scale(cleaned_data)"
   ]
  },
  {
   "cell_type": "code",
   "execution_count": 17,
   "id": "d9d94e00",
   "metadata": {},
   "outputs": [],
   "source": [
    "# create the table of the first 2 rows to see the questions and the columns they locate\n",
    "Q=data.iloc[:2,3:].T\n",
    "Q.columns=['Question','Sub_Question']\n",
    "#Q['location']=[ lambda x: x.index*(x.Question.isna()==False)]\n",
    "Q=Q.reset_index(drop=True)\n",
    "Q['location']=np.where(Q.Question.isna()==False, Q.Question.index, \"False\")"
   ]
  },
  {
   "cell_type": "code",
   "execution_count": 18,
   "id": "de121238",
   "metadata": {},
   "outputs": [],
   "source": [
    "# Main questions\n",
    "qq=Q[Q['location']!='False']\n",
    "qq=qq.reset_index(drop=True)"
   ]
  },
  {
   "cell_type": "code",
   "execution_count": null,
   "id": "7cb5b8e4",
   "metadata": {},
   "outputs": [],
   "source": []
  },
  {
   "cell_type": "code",
   "execution_count": 42,
   "id": "4a3dd689",
   "metadata": {},
   "outputs": [],
   "source": [
    "##Find dataset for queryed text\n",
    "\n",
    "def query_data(Q,qq,cleaned_data,query,indx):\n",
    "    que=Q[Q['Question'].str.contains(query)==True]\n",
    "    val=que.values\n",
    "    ind=que.index.values\n",
    "    print(Q.loc[ind[indx-1],'Question'])\n",
    "    start=ind[indx-1]\n",
    "    end=int(qq.iloc[qq[qq.location==str(ind[indx-1])].index+1]['location'])\n",
    "    df_return=cleaned_data.iloc[:,start:end]\n",
    "    return df_return"
   ]
  },
  {
   "cell_type": "code",
   "execution_count": 20,
   "id": "7deea5f0",
   "metadata": {},
   "outputs": [
    {
     "name": "stdout",
     "output_type": "stream",
     "text": [
      "Current Academic Program\n",
      "What is your current academic department or institute?\n",
      "Please indicate the gender(s) with which you identify (check all that apply):\n",
      "Do you identify yourself as part of the LGBTQ community?\n",
      "Please identify your ethnic background.\n",
      "Country of Origin\n",
      "What is your current age?\n"
     ]
    }
   ],
   "source": [
    "degree=query_data(Q,qq,cleaned_data,'Current Academic Program',indx=1)\n",
    "department=query_data(Q,qq,cleaned_data,'current academic department',indx=1)\n",
    "gender=query_data(Q,qq,cleaned_data,'gender',indx=3)\n",
    "LGBTQ=query_data(Q,qq,cleaned_data,'LGBTQ',indx=1)\n",
    "ethnic=query_data(Q,qq,cleaned_data,'ethnic',indx=1)\n",
    "country=query_data(Q,qq,cleaned_data,'Country',indx=1)\n",
    "age=query_data(Q,qq,cleaned_data,'age',indx=3)"
   ]
  },
  {
   "cell_type": "code",
   "execution_count": 21,
   "id": "f7e9718f",
   "metadata": {
    "scrolled": true
   },
   "outputs": [
    {
     "data": {
      "text/plain": [
       "Response.3                                    \n",
       "Industrial Engineering and Operations Research    314\n",
       "Computer Science                                  274\n",
       "Electrical Engineering                            148\n",
       "Biomedical Engineering                            138\n",
       "Mechanical Engineering                             95\n",
       "Data Science Institute                             76\n",
       "Chemical Engineering                               68\n",
       "Civil Engineering and Engineering Mechanics        62\n",
       "Applied Physics and Applied Mathematics            58\n",
       "Earth and Environmental Engineering                29\n",
       "I prefer not to answer.                             9\n",
       "dtype: int64"
      ]
     },
     "execution_count": 21,
     "metadata": {},
     "output_type": "execute_result"
    }
   ],
   "source": [
    "department.value_counts()"
   ]
  },
  {
   "cell_type": "code",
   "execution_count": 22,
   "id": "85c73b00",
   "metadata": {},
   "outputs": [],
   "source": [
    "data_2019 = pd.read_csv('data/Copy of de-identified Graduate Student Quality of Life Survey - Spring 2019.xlsx \\\n",
    "- Graduate Student Quality of Lif.csv',header=1)\n",
    "# use the same way to clean 2019 data\n",
    "print(data_2019.shape)\n",
    "cleaned_data_2019=response_time(data_2019,200)\n",
    "print(cleaned_data_2019.shape)\n",
    "d2019=numeric_scale(cleaned_data_2019)"
   ]
  },
  {
   "cell_type": "code",
   "execution_count": 43,
   "id": "3e4da046",
   "metadata": {},
   "outputs": [
    {
     "name": "stdout",
     "output_type": "stream",
     "text": [
      "What is your current academic department or institute?\n"
     ]
    },
    {
     "data": {
      "text/plain": [
       "Response.3                                    \n",
       "Industrial Engineering and Operations Research    243\n",
       "Computer Science                                  150\n",
       "Electrical Engineering                            116\n",
       "Civil Engineering and Engineering Mechanics        88\n",
       "Biomedical Engineering                             87\n",
       "Mechanical Engineering                             81\n",
       "Data Science Institute                             70\n",
       "Applied Physics and Applied Mathematics            56\n",
       "Chemical Engineering                               49\n",
       "Earth and Environmental Engineering                38\n",
       "I prefer not to answer.                             9\n",
       "dtype: int64"
      ]
     },
     "execution_count": 43,
     "metadata": {},
     "output_type": "execute_result"
    }
   ],
   "source": [
    "department2019=query_data(Q,qq,d2019,'current academic department',indx=1)\n",
    "department2019.value_counts()\n"
   ]
  },
  {
   "cell_type": "markdown",
   "id": "00882c55",
   "metadata": {},
   "source": [
    "### Biomedical Engineering  Number of response increased from 87 to 138"
   ]
  },
  {
   "cell_type": "code",
   "execution_count": null,
   "id": "0b973a32",
   "metadata": {},
   "outputs": [],
   "source": []
  }
 ],
 "metadata": {
  "kernelspec": {
   "display_name": "Python 3 (ipykernel)",
   "language": "python",
   "name": "python3"
  },
  "language_info": {
   "codemirror_mode": {
    "name": "ipython",
    "version": 3
   },
   "file_extension": ".py",
   "mimetype": "text/x-python",
   "name": "python",
   "nbconvert_exporter": "python",
   "pygments_lexer": "ipython3",
   "version": "3.8.12"
  }
 },
 "nbformat": 4,
 "nbformat_minor": 5
}
