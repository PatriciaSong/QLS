{
 "cells": [
  {
   "cell_type": "markdown",
   "id": "4e4b33a5",
   "metadata": {},
   "source": [
    "# Biomedical Engineering Department"
   ]
  },
  {
   "cell_type": "markdown",
   "id": "9173d829",
   "metadata": {},
   "source": [
    "### Data Loading and Preprocessing"
   ]
  },
  {
   "cell_type": "code",
   "execution_count": 2,
   "id": "34fe4acb",
   "metadata": {},
   "outputs": [],
   "source": [
    "import pandas as pd\n",
    "import numpy as np\n",
    "from datetime import datetime\n",
    "import seaborn as sns\n",
    "import matplotlib.cm as cm\n",
    "import matplotlib.pyplot as plt\n",
    "import matplotlib as mpl\n"
   ]
  },
  {
   "cell_type": "code",
   "execution_count": 3,
   "id": "62d798ee",
   "metadata": {},
   "outputs": [],
   "source": [
    "data = pd.read_csv('data/raw_survey_data_2022.csv',header=None)"
   ]
  },
  {
   "cell_type": "code",
   "execution_count": 4,
   "id": "75f31eea",
   "metadata": {},
   "outputs": [],
   "source": [
    "df = pd.read_csv('data/raw_survey_data_2022.csv',header=1)"
   ]
  },
  {
   "cell_type": "code",
   "execution_count": 5,
   "id": "7567ad13",
   "metadata": {},
   "outputs": [
    {
     "data": {
      "text/plain": [
       "Int64Index([176, 306], dtype='int64')"
      ]
     },
     "execution_count": 5,
     "metadata": {},
     "output_type": "execute_result"
    }
   ],
   "source": [
    "data.loc[0,data.iloc[0,:].str.contains('If you have read the survey up to this point')==True].index"
   ]
  },
  {
   "cell_type": "code",
   "execution_count": 6,
   "id": "f26bd80c",
   "metadata": {},
   "outputs": [],
   "source": [
    "df_1=df[(df.iloc[:,176]=='2')&(df.iloc[:,306]=='4')]"
   ]
  },
  {
   "cell_type": "code",
   "execution_count": 7,
   "id": "2342fcb2",
   "metadata": {},
   "outputs": [
    {
     "data": {
      "text/plain": [
       "(1271, 348)"
      ]
     },
     "execution_count": 7,
     "metadata": {},
     "output_type": "execute_result"
    }
   ],
   "source": [
    "## 2 response time more than 200s\n",
    "def response_time(df,minimum=200):\n",
    "    data1=df.iloc[:,1] #DataFrame with start time\n",
    "    data2=df.iloc[:,2] #DataFrame with end time\n",
    "    data3=df.iloc[:,3:] #DataFrame with data\n",
    "\n",
    "    data3[\"time\"]=data2.apply(lambda x: datetime.strptime(x, '%m/%d/%y %H:%M'))-data1.apply(lambda x: datetime.strptime(x, '%m/%d/%y %H:%M'))\n",
    "    #(data1.iloc[:,1].values.astype('datetime64[D]')-data1.iloc[:,0].values.astype('datetime64[D]'))\n",
    "\n",
    "                                                                                                    \n",
    "    index_time= data3[\"time\"].apply(lambda x: x/np.timedelta64(1, 's'))\n",
    "    data3['clean']=(index_time>200)\n",
    "    cleaned_data=data3.loc[data3.clean==True].iloc[:,:-2]\n",
    "\n",
    "    return cleaned_data\n",
    "cleaned_data=response_time(df_1,200)\n",
    "\n",
    "cleaned_data.shape"
   ]
  },
  {
   "cell_type": "code",
   "execution_count": 8,
   "id": "8c051826",
   "metadata": {},
   "outputs": [],
   "source": [
    "## change some answer to numerical\n",
    "def numeric_scale(cleaned_data):\n",
    "    for i in range(cleaned_data.shape[0]):\n",
    "        for j in range(cleaned_data.shape[1]):\n",
    "            if cleaned_data.iloc[i,j]=='Strongly agree':\n",
    "                cleaned_data.iloc[i,j]=5\n",
    "            if cleaned_data.iloc[i,j]=='Agree':\n",
    "                cleaned_data.iloc[i,j]=4\n",
    "            if cleaned_data.iloc[i,j]in['Neither agree or disagree','Neither agree nor disagree','Neither disagree nor agree']:\n",
    "                cleaned_data.iloc[i,j]=3\n",
    "            if cleaned_data.iloc[i,j]=='Disagree':\n",
    "                cleaned_data.iloc[i,j]=2\n",
    "            if cleaned_data.iloc[i,j]=='Strongly disagree':\n",
    "                cleaned_data.iloc[i,j]=1\n",
    "    return cleaned_data\n",
    "\n",
    "\n",
    "cleaned_data=numeric_scale(cleaned_data)"
   ]
  },
  {
   "cell_type": "markdown",
   "id": "d6482617",
   "metadata": {},
   "source": [
    "### Question 2022"
   ]
  },
  {
   "cell_type": "code",
   "execution_count": 9,
   "id": "d9d94e00",
   "metadata": {},
   "outputs": [],
   "source": [
    "# create the table of the first 2 rows to see the questions and the columns they locate\n",
    "Q=data.iloc[:2,3:].T\n",
    "Q.columns=['Question','Sub_Question']\n",
    "#Q['location']=[ lambda x: x.index*(x.Question.isna()==False)]\n",
    "Q=Q.reset_index(drop=True)\n",
    "Q['location']=np.where(Q.Question.isna()==False, Q.Question.index, \"False\")"
   ]
  },
  {
   "cell_type": "code",
   "execution_count": 10,
   "id": "de121238",
   "metadata": {},
   "outputs": [],
   "source": [
    "# Main questions\n",
    "qq=Q[Q['location']!='False']\n",
    "qq=qq.reset_index(drop=True)"
   ]
  },
  {
   "cell_type": "markdown",
   "id": "ae4391a0",
   "metadata": {},
   "source": [
    "### Question 2019"
   ]
  },
  {
   "cell_type": "code",
   "execution_count": 11,
   "id": "2d2fc429",
   "metadata": {},
   "outputs": [],
   "source": [
    "data2019 = pd.read_csv('data/Copy of de-identified Graduate Student Quality of Life Survey - Spring 2019.xlsx \\\n",
    "- Graduate Student Quality of Lif.csv',header=None)"
   ]
  },
  {
   "cell_type": "code",
   "execution_count": 12,
   "id": "8c522e1f",
   "metadata": {},
   "outputs": [],
   "source": [
    "# create the table of the first 2 rows to see the questions and the columns they locate\n",
    "Q2019=data2019.iloc[:2,3:].T\n",
    "Q2019.columns=['Question','Sub_Question']\n",
    "#Q['location']=[ lambda x: x.index*(x.Question.isna()==False)]\n",
    "Q2019=Q2019.reset_index(drop=True)\n",
    "Q2019['location']=np.where(Q2019.Question.isna()==False, Q2019.Question.index, \"False\")"
   ]
  },
  {
   "cell_type": "code",
   "execution_count": 13,
   "id": "184144f6",
   "metadata": {},
   "outputs": [],
   "source": [
    "#Q2019.to_csv(\"output/Questions-19.csv\", index=True)"
   ]
  },
  {
   "cell_type": "code",
   "execution_count": null,
   "id": "809058c5",
   "metadata": {},
   "outputs": [],
   "source": []
  },
  {
   "cell_type": "code",
   "execution_count": null,
   "id": "59683054",
   "metadata": {},
   "outputs": [],
   "source": []
  },
  {
   "cell_type": "code",
   "execution_count": 14,
   "id": "4a3dd689",
   "metadata": {},
   "outputs": [],
   "source": [
    "##Find dataset for queryed text\n",
    "\n",
    "def query_data(Q,qq,cleaned_data,query,indx):\n",
    "    que=Q[Q['Question'].str.contains(query)==True]\n",
    "    val=que.values\n",
    "    ind=que.index.values\n",
    "    print(Q.loc[ind[indx-1],'Question'])\n",
    "    start=ind[indx-1]\n",
    "    end=int(qq.iloc[qq[qq.location==str(ind[indx-1])].index+1]['location'])\n",
    "    df_return=cleaned_data.iloc[:,start:end]\n",
    "    return df_return"
   ]
  },
  {
   "cell_type": "markdown",
   "id": "00882c55",
   "metadata": {},
   "source": [
    "## Biomedical Engineering  Number of response increased from 87 to 138"
   ]
  },
  {
   "cell_type": "code",
   "execution_count": 15,
   "id": "7deea5f0",
   "metadata": {},
   "outputs": [
    {
     "name": "stdout",
     "output_type": "stream",
     "text": [
      "Current Academic Program\n",
      "What is your current academic department or institute?\n",
      "Please indicate the gender(s) with which you identify (check all that apply):\n",
      "Do you identify yourself as part of the LGBTQ community?\n",
      "Please identify your ethnic background.\n",
      "Country of Origin\n",
      "What is your current age?\n"
     ]
    }
   ],
   "source": [
    "degree=query_data(Q,qq,cleaned_data,'Current Academic Program',indx=1)\n",
    "department=query_data(Q,qq,cleaned_data,'current academic department',indx=1)\n",
    "gender=query_data(Q,qq,cleaned_data,'gender',indx=3)\n",
    "LGBTQ=query_data(Q,qq,cleaned_data,'LGBTQ',indx=1)\n",
    "ethnic=query_data(Q,qq,cleaned_data,'ethnic',indx=1)\n",
    "country=query_data(Q,qq,cleaned_data,'Country',indx=1)\n",
    "age=query_data(Q,qq,cleaned_data,'age',indx=3)"
   ]
  },
  {
   "cell_type": "code",
   "execution_count": 16,
   "id": "f7e9718f",
   "metadata": {
    "scrolled": true
   },
   "outputs": [
    {
     "data": {
      "text/plain": [
       "Response.3                                    \n",
       "Industrial Engineering and Operations Research    314\n",
       "Computer Science                                  274\n",
       "Electrical Engineering                            148\n",
       "Biomedical Engineering                            138\n",
       "Mechanical Engineering                             95\n",
       "Data Science Institute                             76\n",
       "Chemical Engineering                               68\n",
       "Civil Engineering and Engineering Mechanics        62\n",
       "Applied Physics and Applied Mathematics            58\n",
       "Earth and Environmental Engineering                29\n",
       "I prefer not to answer.                             9\n",
       "dtype: int64"
      ]
     },
     "execution_count": 16,
     "metadata": {},
     "output_type": "execute_result"
    }
   ],
   "source": [
    "department.value_counts()"
   ]
  },
  {
   "cell_type": "code",
   "execution_count": 17,
   "id": "85c73b00",
   "metadata": {},
   "outputs": [
    {
     "name": "stdout",
     "output_type": "stream",
     "text": [
      "(1033, 345)\n",
      "(997, 342)\n"
     ]
    }
   ],
   "source": [
    "data_2019 = pd.read_csv('data/Copy of de-identified Graduate Student Quality of Life Survey - Spring 2019.xlsx \\\n",
    "- Graduate Student Quality of Lif.csv',header=1)\n",
    "# use the same way to clean 2019 data\n",
    "print(data_2019.shape)\n",
    "cleaned_data_2019=response_time(data_2019,200)\n",
    "print(cleaned_data_2019.shape)\n",
    "d2019=numeric_scale(cleaned_data_2019)"
   ]
  },
  {
   "cell_type": "code",
   "execution_count": 18,
   "id": "3e4da046",
   "metadata": {},
   "outputs": [
    {
     "name": "stdout",
     "output_type": "stream",
     "text": [
      "What is your current academic department or institute?\n"
     ]
    },
    {
     "data": {
      "text/plain": [
       "Response.3                                    \n",
       "Industrial Engineering and Operations Research    243\n",
       "Computer Science                                  150\n",
       "Electrical Engineering                            116\n",
       "Civil Engineering and Engineering Mechanics        88\n",
       "Biomedical Engineering                             87\n",
       "Mechanical Engineering                             81\n",
       "Data Science Institute                             70\n",
       "Applied Physics and Applied Mathematics            56\n",
       "Chemical Engineering                               49\n",
       "Earth and Environmental Engineering                38\n",
       "I prefer not to answer.                             9\n",
       "dtype: int64"
      ]
     },
     "execution_count": 18,
     "metadata": {},
     "output_type": "execute_result"
    }
   ],
   "source": [
    "department2019=query_data(Q,qq,d2019,'current academic department',indx=1)\n",
    "department2019.value_counts()"
   ]
  },
  {
   "cell_type": "code",
   "execution_count": 19,
   "id": "6089ce99",
   "metadata": {},
   "outputs": [],
   "source": [
    "cleaned_data['department']=department\n",
    "cleaned_data['degree']=degree\n",
    "#cleaned_data['gender']=gender\n",
    "#cleaned_data['LGBTQ']=LGBTQ"
   ]
  },
  {
   "cell_type": "code",
   "execution_count": 20,
   "id": "789352a3",
   "metadata": {},
   "outputs": [
    {
     "name": "stdout",
     "output_type": "stream",
     "text": [
      "Current Academic Program\n",
      "Please indicate the gender(s) with which you identify (check all that apply):\n",
      "Do you identify yourself as part of the LGBTQ community?\n"
     ]
    }
   ],
   "source": [
    "degree2019=query_data(Q,qq,cleaned_data_2019,'Current Academic Program',indx=1)\n",
    "gender2019=query_data(Q,qq,cleaned_data_2019,'gender',indx=3)\n",
    "LGBTQ2019=query_data(Q,qq,cleaned_data_2019,'LGBTQ',indx=1)"
   ]
  },
  {
   "cell_type": "code",
   "execution_count": 26,
   "id": "68b5fea6",
   "metadata": {},
   "outputs": [],
   "source": [
    "cleaned_data_2019['department']=department2019\n",
    "cleaned_data_2019['degree']=degree2019\n",
    "#cleaned_data_2019['gender']=gender2019\n",
    "#cleaned_data_2019['LGBTQ']=LGBTQ2019"
   ]
  },
  {
   "cell_type": "markdown",
   "id": "5ec3d48e",
   "metadata": {},
   "source": [
    "#### Create Dataset for BMEN only"
   ]
  },
  {
   "cell_type": "code",
   "execution_count": 27,
   "id": "e2dc75d1",
   "metadata": {},
   "outputs": [],
   "source": [
    "df2022=cleaned_data[cleaned_data['department']=='Biomedical Engineering']\n",
    "df2019=cleaned_data_2019[cleaned_data_2019['department']=='Biomedical Engineering']"
   ]
  },
  {
   "cell_type": "code",
   "execution_count": 28,
   "id": "df2e39a1",
   "metadata": {},
   "outputs": [
    {
     "name": "stderr",
     "output_type": "stream",
     "text": [
      "/var/folders/_r/5vgvtlc95cvfjt0qzlww6hhm0000gn/T/ipykernel_29961/622508879.py:1: FutureWarning: The series.append method is deprecated and will be removed from pandas in a future version. Use pandas.concat instead.\n",
      "  df2019.columns=pd.MultiIndex.from_tuples(zip((Q2019['Question']).append(pd.Series(['department','degree'],index=[342, 343])), df2019.columns), names=[\"first\", \"second\"])\n",
      "/var/folders/_r/5vgvtlc95cvfjt0qzlww6hhm0000gn/T/ipykernel_29961/622508879.py:2: FutureWarning: The series.append method is deprecated and will be removed from pandas in a future version. Use pandas.concat instead.\n",
      "  df2022.columns=pd.MultiIndex.from_tuples(zip((Q['Question']).append(pd.Series(['department','degree'],index=[348, 349])), df2022.columns), names=[\"first\", \"second\"])\n"
     ]
    }
   ],
   "source": [
    "df2019.columns=pd.MultiIndex.from_tuples(zip((Q2019['Question']).append(pd.Series(['department','degree'],index=[342, 343])), df2019.columns), names=[\"first\", \"second\"])\n",
    "df2022.columns=pd.MultiIndex.from_tuples(zip((Q['Question']).append(pd.Series(['department','degree'],index=[348, 349])), df2022.columns), names=[\"first\", \"second\"])\n"
   ]
  },
  {
   "cell_type": "code",
   "execution_count": 29,
   "id": "b5f94880",
   "metadata": {
    "scrolled": true
   },
   "outputs": [
    {
     "data": {
      "text/html": [
       "<div>\n",
       "<style scoped>\n",
       "    .dataframe tbody tr th:only-of-type {\n",
       "        vertical-align: middle;\n",
       "    }\n",
       "\n",
       "    .dataframe tbody tr th {\n",
       "        vertical-align: top;\n",
       "    }\n",
       "\n",
       "    .dataframe thead tr th {\n",
       "        text-align: left;\n",
       "    }\n",
       "</style>\n",
       "<table border=\"1\" class=\"dataframe\">\n",
       "  <thead>\n",
       "    <tr>\n",
       "      <th>first</th>\n",
       "      <th>I am satisfied with my overall experience at Columbia.</th>\n",
       "      <th>I am satisfied with the following with respect to my overall experience at Columbia.</th>\n",
       "      <th colspan=\"8\" halign=\"left\">NaN</th>\n",
       "      <th>...</th>\n",
       "      <th>Please identify your ethnic background.</th>\n",
       "      <th>NaN</th>\n",
       "      <th>Country of Origin</th>\n",
       "      <th>NaN</th>\n",
       "      <th>What is your current age?</th>\n",
       "      <th>Is English your first language?</th>\n",
       "      <th>Was English the medium of instruction in your primary or secondary school?</th>\n",
       "      <th>Let us know about other important matters that are not covered by this survey</th>\n",
       "      <th>department</th>\n",
       "      <th>degree</th>\n",
       "    </tr>\n",
       "    <tr>\n",
       "      <th>second</th>\n",
       "      <th>Response</th>\n",
       "      <th>Academics</th>\n",
       "      <th>Mental health</th>\n",
       "      <th>Physical health</th>\n",
       "      <th>Professional development</th>\n",
       "      <th>Social life</th>\n",
       "      <th>Career Placement Team</th>\n",
       "      <th>Housing</th>\n",
       "      <th>Intercampus Shuttle/Via Service</th>\n",
       "      <th>Library services</th>\n",
       "      <th>...</th>\n",
       "      <th>Response.52</th>\n",
       "      <th>Other (please specify).8</th>\n",
       "      <th>Response.53</th>\n",
       "      <th>Other (please specify).9</th>\n",
       "      <th>Response.54</th>\n",
       "      <th>Response.55</th>\n",
       "      <th>Response.56</th>\n",
       "      <th>Open-Ended Response.15</th>\n",
       "      <th>department</th>\n",
       "      <th>degree</th>\n",
       "    </tr>\n",
       "  </thead>\n",
       "  <tbody>\n",
       "    <tr>\n",
       "      <th>0</th>\n",
       "      <td>4</td>\n",
       "      <td>5</td>\n",
       "      <td>4</td>\n",
       "      <td>4</td>\n",
       "      <td>4</td>\n",
       "      <td>4</td>\n",
       "      <td>4</td>\n",
       "      <td>3</td>\n",
       "      <td>3</td>\n",
       "      <td>4</td>\n",
       "      <td>...</td>\n",
       "      <td>Multiracial background</td>\n",
       "      <td>NaN</td>\n",
       "      <td>Jamaica (NA)</td>\n",
       "      <td>NaN</td>\n",
       "      <td>less than 18</td>\n",
       "      <td>Yes</td>\n",
       "      <td>Yes</td>\n",
       "      <td>NaN</td>\n",
       "      <td>Biomedical Engineering</td>\n",
       "      <td>Master of Science (M.S.)</td>\n",
       "    </tr>\n",
       "    <tr>\n",
       "      <th>16</th>\n",
       "      <td>5</td>\n",
       "      <td>5</td>\n",
       "      <td>5</td>\n",
       "      <td>5</td>\n",
       "      <td>5</td>\n",
       "      <td>5</td>\n",
       "      <td>5</td>\n",
       "      <td>3</td>\n",
       "      <td>3</td>\n",
       "      <td>5</td>\n",
       "      <td>...</td>\n",
       "      <td>East Asian</td>\n",
       "      <td>NaN</td>\n",
       "      <td>China (AS)</td>\n",
       "      <td>NaN</td>\n",
       "      <td>24-26</td>\n",
       "      <td>No</td>\n",
       "      <td>No</td>\n",
       "      <td>NaN</td>\n",
       "      <td>Biomedical Engineering</td>\n",
       "      <td>Master of Science (M.S.)</td>\n",
       "    </tr>\n",
       "    <tr>\n",
       "      <th>17</th>\n",
       "      <td>3</td>\n",
       "      <td>2</td>\n",
       "      <td>2</td>\n",
       "      <td>2</td>\n",
       "      <td>2</td>\n",
       "      <td>4</td>\n",
       "      <td>2</td>\n",
       "      <td>2</td>\n",
       "      <td>2</td>\n",
       "      <td>2</td>\n",
       "      <td>...</td>\n",
       "      <td>Middle Eastern and North African</td>\n",
       "      <td>NaN</td>\n",
       "      <td>United States (NA)</td>\n",
       "      <td>NaN</td>\n",
       "      <td>21-23</td>\n",
       "      <td>Yes</td>\n",
       "      <td>Yes</td>\n",
       "      <td>THERE NEEDS TO BE A MICROWAVE IN MUDD, ADDITIO...</td>\n",
       "      <td>Biomedical Engineering</td>\n",
       "      <td>Master of Science (M.S.)</td>\n",
       "    </tr>\n",
       "    <tr>\n",
       "      <th>22</th>\n",
       "      <td>3</td>\n",
       "      <td>4</td>\n",
       "      <td>3</td>\n",
       "      <td>3</td>\n",
       "      <td>4</td>\n",
       "      <td>2</td>\n",
       "      <td>3</td>\n",
       "      <td>3</td>\n",
       "      <td>3</td>\n",
       "      <td>3</td>\n",
       "      <td>...</td>\n",
       "      <td>Non-Hispanic White</td>\n",
       "      <td>NaN</td>\n",
       "      <td>United States (NA)</td>\n",
       "      <td>NaN</td>\n",
       "      <td>21-23</td>\n",
       "      <td>No</td>\n",
       "      <td>Yes</td>\n",
       "      <td>NaN</td>\n",
       "      <td>Biomedical Engineering</td>\n",
       "      <td>Master of Science (M.S.)</td>\n",
       "    </tr>\n",
       "    <tr>\n",
       "      <th>49</th>\n",
       "      <td>2</td>\n",
       "      <td>2</td>\n",
       "      <td>4</td>\n",
       "      <td>2</td>\n",
       "      <td>2</td>\n",
       "      <td>2</td>\n",
       "      <td>4</td>\n",
       "      <td>1</td>\n",
       "      <td>4</td>\n",
       "      <td>2</td>\n",
       "      <td>...</td>\n",
       "      <td>South Asian</td>\n",
       "      <td>NaN</td>\n",
       "      <td>NaN</td>\n",
       "      <td>NaN</td>\n",
       "      <td>24-26</td>\n",
       "      <td>Yes</td>\n",
       "      <td>Yes</td>\n",
       "      <td>NaN</td>\n",
       "      <td>Biomedical Engineering</td>\n",
       "      <td>Doctor of Philosophy (Ph.D.)</td>\n",
       "    </tr>\n",
       "    <tr>\n",
       "      <th>...</th>\n",
       "      <td>...</td>\n",
       "      <td>...</td>\n",
       "      <td>...</td>\n",
       "      <td>...</td>\n",
       "      <td>...</td>\n",
       "      <td>...</td>\n",
       "      <td>...</td>\n",
       "      <td>...</td>\n",
       "      <td>...</td>\n",
       "      <td>...</td>\n",
       "      <td>...</td>\n",
       "      <td>...</td>\n",
       "      <td>...</td>\n",
       "      <td>...</td>\n",
       "      <td>...</td>\n",
       "      <td>...</td>\n",
       "      <td>...</td>\n",
       "      <td>...</td>\n",
       "      <td>...</td>\n",
       "      <td>...</td>\n",
       "      <td>...</td>\n",
       "    </tr>\n",
       "    <tr>\n",
       "      <th>1547</th>\n",
       "      <td>4</td>\n",
       "      <td>4</td>\n",
       "      <td>3</td>\n",
       "      <td>4</td>\n",
       "      <td>4</td>\n",
       "      <td>3</td>\n",
       "      <td>4</td>\n",
       "      <td>2</td>\n",
       "      <td>4</td>\n",
       "      <td>4</td>\n",
       "      <td>...</td>\n",
       "      <td>South Asian</td>\n",
       "      <td>NaN</td>\n",
       "      <td>NaN</td>\n",
       "      <td>NaN</td>\n",
       "      <td>21-23</td>\n",
       "      <td>No</td>\n",
       "      <td>Yes</td>\n",
       "      <td>NaN</td>\n",
       "      <td>Biomedical Engineering</td>\n",
       "      <td>Master of Science (M.S.)</td>\n",
       "    </tr>\n",
       "    <tr>\n",
       "      <th>1551</th>\n",
       "      <td>4</td>\n",
       "      <td>4</td>\n",
       "      <td>4</td>\n",
       "      <td>5</td>\n",
       "      <td>3</td>\n",
       "      <td>4</td>\n",
       "      <td>3</td>\n",
       "      <td>4</td>\n",
       "      <td>5</td>\n",
       "      <td>3</td>\n",
       "      <td>...</td>\n",
       "      <td>Hispanic/Latino</td>\n",
       "      <td>NaN</td>\n",
       "      <td>United States (NA)</td>\n",
       "      <td>NaN</td>\n",
       "      <td>21-23</td>\n",
       "      <td>Yes</td>\n",
       "      <td>Yes</td>\n",
       "      <td>What can be done regarding poor advisor-studen...</td>\n",
       "      <td>Biomedical Engineering</td>\n",
       "      <td>M.S. leading to Ph.D.</td>\n",
       "    </tr>\n",
       "    <tr>\n",
       "      <th>1563</th>\n",
       "      <td>4</td>\n",
       "      <td>4</td>\n",
       "      <td>4</td>\n",
       "      <td>4</td>\n",
       "      <td>4</td>\n",
       "      <td>4</td>\n",
       "      <td>3</td>\n",
       "      <td>4</td>\n",
       "      <td>3</td>\n",
       "      <td>4</td>\n",
       "      <td>...</td>\n",
       "      <td>Non-Hispanic White</td>\n",
       "      <td>NaN</td>\n",
       "      <td>Brazil (SA)</td>\n",
       "      <td>NaN</td>\n",
       "      <td>27-29</td>\n",
       "      <td>No</td>\n",
       "      <td>No</td>\n",
       "      <td>NaN</td>\n",
       "      <td>Biomedical Engineering</td>\n",
       "      <td>Doctor of Philosophy (Ph.D.)</td>\n",
       "    </tr>\n",
       "    <tr>\n",
       "      <th>1580</th>\n",
       "      <td>3</td>\n",
       "      <td>4</td>\n",
       "      <td>2</td>\n",
       "      <td>2</td>\n",
       "      <td>4</td>\n",
       "      <td>4</td>\n",
       "      <td>4</td>\n",
       "      <td>3</td>\n",
       "      <td>2</td>\n",
       "      <td>5</td>\n",
       "      <td>...</td>\n",
       "      <td>Non-Hispanic White</td>\n",
       "      <td>NaN</td>\n",
       "      <td>United States (NA)</td>\n",
       "      <td>NaN</td>\n",
       "      <td>24-26</td>\n",
       "      <td>Yes</td>\n",
       "      <td>Yes</td>\n",
       "      <td>The university has things like preferred name ...</td>\n",
       "      <td>Biomedical Engineering</td>\n",
       "      <td>Doctor of Philosophy (Ph.D.)</td>\n",
       "    </tr>\n",
       "    <tr>\n",
       "      <th>1587</th>\n",
       "      <td>4</td>\n",
       "      <td>3</td>\n",
       "      <td>4</td>\n",
       "      <td>5</td>\n",
       "      <td>5</td>\n",
       "      <td>5</td>\n",
       "      <td>3</td>\n",
       "      <td>4</td>\n",
       "      <td>4</td>\n",
       "      <td>2</td>\n",
       "      <td>...</td>\n",
       "      <td>South Asian</td>\n",
       "      <td>NaN</td>\n",
       "      <td>United States (NA)</td>\n",
       "      <td>NaN</td>\n",
       "      <td>24-26</td>\n",
       "      <td>Yes</td>\n",
       "      <td>Yes</td>\n",
       "      <td>NaN</td>\n",
       "      <td>Biomedical Engineering</td>\n",
       "      <td>Master of Science (M.S.)</td>\n",
       "    </tr>\n",
       "  </tbody>\n",
       "</table>\n",
       "<p>138 rows × 350 columns</p>\n",
       "</div>"
      ],
      "text/plain": [
       "first  I am satisfied with my overall experience at Columbia.  \\\n",
       "second                                               Response   \n",
       "0                                                       4       \n",
       "16                                                      5       \n",
       "17                                                      3       \n",
       "22                                                      3       \n",
       "49                                                      2       \n",
       "...                                                   ...       \n",
       "1547                                                    4       \n",
       "1551                                                    4       \n",
       "1563                                                    4       \n",
       "1580                                                    3       \n",
       "1587                                                    4       \n",
       "\n",
       "first  I am satisfied with the following with respect to my overall experience at Columbia.  \\\n",
       "second                                                                            Academics   \n",
       "0                                                       5                                     \n",
       "16                                                      5                                     \n",
       "17                                                      2                                     \n",
       "22                                                      4                                     \n",
       "49                                                      2                                     \n",
       "...                                                   ...                                     \n",
       "1547                                                    4                                     \n",
       "1551                                                    4                                     \n",
       "1563                                                    4                                     \n",
       "1580                                                    4                                     \n",
       "1587                                                    3                                     \n",
       "\n",
       "first            NaN                                                       \\\n",
       "second Mental health Physical health Professional development Social life   \n",
       "0                  4               4                        4           4   \n",
       "16                 5               5                        5           5   \n",
       "17                 2               2                        2           4   \n",
       "22                 3               3                        4           2   \n",
       "49                 4               2                        2           2   \n",
       "...              ...             ...                      ...         ...   \n",
       "1547               3               4                        4           3   \n",
       "1551               4               5                        3           4   \n",
       "1563               4               4                        4           4   \n",
       "1580               2               2                        4           4   \n",
       "1587               4               5                        5           5   \n",
       "\n",
       "first                                                                 \\\n",
       "second Career Placement Team Housing Intercampus Shuttle/Via Service   \n",
       "0                          4       3                               3   \n",
       "16                         5       3                               3   \n",
       "17                         2       2                               2   \n",
       "22                         3       3                               3   \n",
       "49                         4       1                               4   \n",
       "...                      ...     ...                             ...   \n",
       "1547                       4       2                               4   \n",
       "1551                       3       4                               5   \n",
       "1563                       3       4                               3   \n",
       "1580                       4       3                               2   \n",
       "1587                       3       4                               4   \n",
       "\n",
       "first                    ... Please identify your ethnic background.  \\\n",
       "second Library services  ...                             Response.52   \n",
       "0                     4  ...                  Multiracial background   \n",
       "16                    5  ...                              East Asian   \n",
       "17                    2  ...        Middle Eastern and North African   \n",
       "22                    3  ...                      Non-Hispanic White   \n",
       "49                    2  ...                             South Asian   \n",
       "...                 ...  ...                                     ...   \n",
       "1547                  4  ...                             South Asian   \n",
       "1551                  3  ...                         Hispanic/Latino   \n",
       "1563                  4  ...                      Non-Hispanic White   \n",
       "1580                  5  ...                      Non-Hispanic White   \n",
       "1587                  2  ...                             South Asian   \n",
       "\n",
       "first                       NaN   Country of Origin                      NaN  \\\n",
       "second Other (please specify).8         Response.53 Other (please specify).9   \n",
       "0                           NaN        Jamaica (NA)                      NaN   \n",
       "16                          NaN          China (AS)                      NaN   \n",
       "17                          NaN  United States (NA)                      NaN   \n",
       "22                          NaN  United States (NA)                      NaN   \n",
       "49                          NaN                 NaN                      NaN   \n",
       "...                         ...                 ...                      ...   \n",
       "1547                        NaN                 NaN                      NaN   \n",
       "1551                        NaN  United States (NA)                      NaN   \n",
       "1563                        NaN         Brazil (SA)                      NaN   \n",
       "1580                        NaN  United States (NA)                      NaN   \n",
       "1587                        NaN  United States (NA)                      NaN   \n",
       "\n",
       "first  What is your current age? Is English your first language?  \\\n",
       "second               Response.54                     Response.55   \n",
       "0                   less than 18                             Yes   \n",
       "16                         24-26                              No   \n",
       "17                         21-23                             Yes   \n",
       "22                         21-23                              No   \n",
       "49                         24-26                             Yes   \n",
       "...                          ...                             ...   \n",
       "1547                       21-23                              No   \n",
       "1551                       21-23                             Yes   \n",
       "1563                       27-29                              No   \n",
       "1580                       24-26                             Yes   \n",
       "1587                       24-26                             Yes   \n",
       "\n",
       "first  Was English the medium of instruction in your primary or secondary school?  \\\n",
       "second                                                                Response.56   \n",
       "0                                                     Yes                           \n",
       "16                                                     No                           \n",
       "17                                                    Yes                           \n",
       "22                                                    Yes                           \n",
       "49                                                    Yes                           \n",
       "...                                                   ...                           \n",
       "1547                                                  Yes                           \n",
       "1551                                                  Yes                           \n",
       "1563                                                   No                           \n",
       "1580                                                  Yes                           \n",
       "1587                                                  Yes                           \n",
       "\n",
       "first  Let us know about other important matters that are not covered by this survey  \\\n",
       "second                                                        Open-Ended Response.15   \n",
       "0                                                     NaN                              \n",
       "16                                                    NaN                              \n",
       "17      THERE NEEDS TO BE A MICROWAVE IN MUDD, ADDITIO...                              \n",
       "22                                                    NaN                              \n",
       "49                                                    NaN                              \n",
       "...                                                   ...                              \n",
       "1547                                                  NaN                              \n",
       "1551    What can be done regarding poor advisor-studen...                              \n",
       "1563                                                  NaN                              \n",
       "1580    The university has things like preferred name ...                              \n",
       "1587                                                  NaN                              \n",
       "\n",
       "first               department                        degree  \n",
       "second              department                        degree  \n",
       "0       Biomedical Engineering      Master of Science (M.S.)  \n",
       "16      Biomedical Engineering      Master of Science (M.S.)  \n",
       "17      Biomedical Engineering      Master of Science (M.S.)  \n",
       "22      Biomedical Engineering      Master of Science (M.S.)  \n",
       "49      Biomedical Engineering  Doctor of Philosophy (Ph.D.)  \n",
       "...                        ...                           ...  \n",
       "1547    Biomedical Engineering      Master of Science (M.S.)  \n",
       "1551    Biomedical Engineering         M.S. leading to Ph.D.  \n",
       "1563    Biomedical Engineering  Doctor of Philosophy (Ph.D.)  \n",
       "1580    Biomedical Engineering  Doctor of Philosophy (Ph.D.)  \n",
       "1587    Biomedical Engineering      Master of Science (M.S.)  \n",
       "\n",
       "[138 rows x 350 columns]"
      ]
     },
     "execution_count": 29,
     "metadata": {},
     "output_type": "execute_result"
    }
   ],
   "source": [
    "df2022"
   ]
  },
  {
   "cell_type": "code",
   "execution_count": 452,
   "id": "f7b1aa9b",
   "metadata": {
    "scrolled": true
   },
   "outputs": [],
   "source": [
    "#df2019.to_csv('BMEN/Response2019.csv')"
   ]
  },
  {
   "cell_type": "code",
   "execution_count": 467,
   "id": "b22b9f72",
   "metadata": {
    "scrolled": true
   },
   "outputs": [],
   "source": [
    "#df2022.to_csv('BMEN/Response2022.csv')"
   ]
  },
  {
   "cell_type": "markdown",
   "id": "b598e742",
   "metadata": {},
   "source": [
    "## Basic Statistics"
   ]
  },
  {
   "cell_type": "code",
   "execution_count": 22,
   "id": "ce5d65a3",
   "metadata": {},
   "outputs": [],
   "source": [
    "df2019=pd.read_csv('BMEN/BMEN/Response2019.csv',header=[0, 1], skipinitialspace=True,index_col=0)\n",
    "df2022=pd.read_csv('BMEN/BMEN/Response2022.csv',header=[0, 1], skipinitialspace=True,index_col=0)"
   ]
  },
  {
   "cell_type": "code",
   "execution_count": 24,
   "id": "1bf1e5e5",
   "metadata": {},
   "outputs": [
    {
     "data": {
      "text/html": [
       "<div>\n",
       "<style scoped>\n",
       "    .dataframe tbody tr th:only-of-type {\n",
       "        vertical-align: middle;\n",
       "    }\n",
       "\n",
       "    .dataframe tbody tr th {\n",
       "        vertical-align: top;\n",
       "    }\n",
       "\n",
       "    .dataframe thead tr th {\n",
       "        text-align: left;\n",
       "    }\n",
       "</style>\n",
       "<table border=\"1\" class=\"dataframe\">\n",
       "  <thead>\n",
       "    <tr>\n",
       "      <th>first</th>\n",
       "      <th>I am satisfied with my overall experience at Columbia.</th>\n",
       "      <th>I am satisfied with the following with respect to my overall experience at Columbia.</th>\n",
       "      <th colspan=\"8\" halign=\"left\">nan</th>\n",
       "      <th>...</th>\n",
       "      <th>Please identify your ethnic background.</th>\n",
       "      <th>nan</th>\n",
       "      <th>Country of Origin</th>\n",
       "      <th>nan</th>\n",
       "      <th>What is your current age?</th>\n",
       "      <th>Is English your first language?</th>\n",
       "      <th>Was English the medium of instruction in your primary or secondary school?</th>\n",
       "      <th>Let us know about other important matters that are not covered by this survey</th>\n",
       "      <th>department</th>\n",
       "      <th>degree</th>\n",
       "    </tr>\n",
       "    <tr>\n",
       "      <th>second</th>\n",
       "      <th>Response</th>\n",
       "      <th>Academics</th>\n",
       "      <th>Mental health</th>\n",
       "      <th>Physical health</th>\n",
       "      <th>Professional development</th>\n",
       "      <th>Social life</th>\n",
       "      <th>Career services</th>\n",
       "      <th>Housing</th>\n",
       "      <th>Intercampus Shuttle</th>\n",
       "      <th>Library services</th>\n",
       "      <th>...</th>\n",
       "      <th>Response.49</th>\n",
       "      <th>Other (please specify).9</th>\n",
       "      <th>Response.50</th>\n",
       "      <th>Other (please specify).10</th>\n",
       "      <th>Response.51</th>\n",
       "      <th>Response.52</th>\n",
       "      <th>Response.53</th>\n",
       "      <th>Open-Ended Response.15</th>\n",
       "      <th>department</th>\n",
       "      <th>degree</th>\n",
       "    </tr>\n",
       "  </thead>\n",
       "  <tbody>\n",
       "    <tr>\n",
       "      <th>0</th>\n",
       "      <td>4</td>\n",
       "      <td>4</td>\n",
       "      <td>4</td>\n",
       "      <td>4</td>\n",
       "      <td>4</td>\n",
       "      <td>4</td>\n",
       "      <td>5</td>\n",
       "      <td>5</td>\n",
       "      <td>4</td>\n",
       "      <td>5</td>\n",
       "      <td>...</td>\n",
       "      <td>East Asian</td>\n",
       "      <td>NaN</td>\n",
       "      <td>NaN</td>\n",
       "      <td>NaN</td>\n",
       "      <td>24-26</td>\n",
       "      <td>No</td>\n",
       "      <td>No</td>\n",
       "      <td>NaN</td>\n",
       "      <td>Biomedical Engineering</td>\n",
       "      <td>M.S. leading to Ph.D.</td>\n",
       "    </tr>\n",
       "    <tr>\n",
       "      <th>47</th>\n",
       "      <td>5</td>\n",
       "      <td>5</td>\n",
       "      <td>5</td>\n",
       "      <td>5</td>\n",
       "      <td>5</td>\n",
       "      <td>5</td>\n",
       "      <td>5</td>\n",
       "      <td>5</td>\n",
       "      <td>3</td>\n",
       "      <td>5</td>\n",
       "      <td>...</td>\n",
       "      <td>Hispanic/Latino</td>\n",
       "      <td>NaN</td>\n",
       "      <td>Brazil (SA)</td>\n",
       "      <td>NaN</td>\n",
       "      <td>24-26</td>\n",
       "      <td>No</td>\n",
       "      <td>No</td>\n",
       "      <td>NaN</td>\n",
       "      <td>Biomedical Engineering</td>\n",
       "      <td>M.S. leading to Ph.D.</td>\n",
       "    </tr>\n",
       "    <tr>\n",
       "      <th>70</th>\n",
       "      <td>4</td>\n",
       "      <td>5</td>\n",
       "      <td>3</td>\n",
       "      <td>3</td>\n",
       "      <td>3</td>\n",
       "      <td>3</td>\n",
       "      <td>3</td>\n",
       "      <td>3</td>\n",
       "      <td>4</td>\n",
       "      <td>3</td>\n",
       "      <td>...</td>\n",
       "      <td>Non-Hispanic White</td>\n",
       "      <td>NaN</td>\n",
       "      <td>United States (NA)</td>\n",
       "      <td>NaN</td>\n",
       "      <td>27-29</td>\n",
       "      <td>Yes</td>\n",
       "      <td>Yes</td>\n",
       "      <td>NaN</td>\n",
       "      <td>Biomedical Engineering</td>\n",
       "      <td>Doctor of Philosophy (Ph.D.)</td>\n",
       "    </tr>\n",
       "    <tr>\n",
       "      <th>74</th>\n",
       "      <td>4</td>\n",
       "      <td>4</td>\n",
       "      <td>4</td>\n",
       "      <td>4</td>\n",
       "      <td>5</td>\n",
       "      <td>4</td>\n",
       "      <td>4</td>\n",
       "      <td>4</td>\n",
       "      <td>4</td>\n",
       "      <td>4</td>\n",
       "      <td>...</td>\n",
       "      <td>East Asian</td>\n",
       "      <td>NaN</td>\n",
       "      <td>Korea, South (AS)</td>\n",
       "      <td>NaN</td>\n",
       "      <td>24-26</td>\n",
       "      <td>No</td>\n",
       "      <td>Yes</td>\n",
       "      <td>NaN</td>\n",
       "      <td>Biomedical Engineering</td>\n",
       "      <td>Master of Science (M.S.)</td>\n",
       "    </tr>\n",
       "    <tr>\n",
       "      <th>81</th>\n",
       "      <td>4</td>\n",
       "      <td>2</td>\n",
       "      <td>3</td>\n",
       "      <td>3</td>\n",
       "      <td>4</td>\n",
       "      <td>4</td>\n",
       "      <td>3</td>\n",
       "      <td>4</td>\n",
       "      <td>1</td>\n",
       "      <td>4</td>\n",
       "      <td>...</td>\n",
       "      <td>Middle eastern</td>\n",
       "      <td>NaN</td>\n",
       "      <td>United States (NA)</td>\n",
       "      <td>NaN</td>\n",
       "      <td>21-23</td>\n",
       "      <td>Yes</td>\n",
       "      <td>Yes</td>\n",
       "      <td>NaN</td>\n",
       "      <td>Biomedical Engineering</td>\n",
       "      <td>M.S. leading to Ph.D.</td>\n",
       "    </tr>\n",
       "    <tr>\n",
       "      <th>...</th>\n",
       "      <td>...</td>\n",
       "      <td>...</td>\n",
       "      <td>...</td>\n",
       "      <td>...</td>\n",
       "      <td>...</td>\n",
       "      <td>...</td>\n",
       "      <td>...</td>\n",
       "      <td>...</td>\n",
       "      <td>...</td>\n",
       "      <td>...</td>\n",
       "      <td>...</td>\n",
       "      <td>...</td>\n",
       "      <td>...</td>\n",
       "      <td>...</td>\n",
       "      <td>...</td>\n",
       "      <td>...</td>\n",
       "      <td>...</td>\n",
       "      <td>...</td>\n",
       "      <td>...</td>\n",
       "      <td>...</td>\n",
       "      <td>...</td>\n",
       "    </tr>\n",
       "    <tr>\n",
       "      <th>1000</th>\n",
       "      <td>4</td>\n",
       "      <td>2</td>\n",
       "      <td>2</td>\n",
       "      <td>4</td>\n",
       "      <td>3</td>\n",
       "      <td>2</td>\n",
       "      <td>3</td>\n",
       "      <td>2</td>\n",
       "      <td>2</td>\n",
       "      <td>4</td>\n",
       "      <td>...</td>\n",
       "      <td>Middle eastern</td>\n",
       "      <td>NaN</td>\n",
       "      <td>Lebanon (AS)</td>\n",
       "      <td>NaN</td>\n",
       "      <td>21-23</td>\n",
       "      <td>No</td>\n",
       "      <td>Yes</td>\n",
       "      <td>NaN</td>\n",
       "      <td>Biomedical Engineering</td>\n",
       "      <td>M.S. leading to Ph.D.</td>\n",
       "    </tr>\n",
       "    <tr>\n",
       "      <th>1005</th>\n",
       "      <td>4</td>\n",
       "      <td>4</td>\n",
       "      <td>4</td>\n",
       "      <td>2</td>\n",
       "      <td>4</td>\n",
       "      <td>4</td>\n",
       "      <td>3</td>\n",
       "      <td>2</td>\n",
       "      <td>2</td>\n",
       "      <td>4</td>\n",
       "      <td>...</td>\n",
       "      <td>Non-Hispanic White</td>\n",
       "      <td>NaN</td>\n",
       "      <td>United States (NA)</td>\n",
       "      <td>NaN</td>\n",
       "      <td>21-23</td>\n",
       "      <td>Yes</td>\n",
       "      <td>Yes</td>\n",
       "      <td>NaN</td>\n",
       "      <td>Biomedical Engineering</td>\n",
       "      <td>M.S. leading to Ph.D.</td>\n",
       "    </tr>\n",
       "    <tr>\n",
       "      <th>1006</th>\n",
       "      <td>5</td>\n",
       "      <td>5</td>\n",
       "      <td>5</td>\n",
       "      <td>5</td>\n",
       "      <td>5</td>\n",
       "      <td>5</td>\n",
       "      <td>5</td>\n",
       "      <td>5</td>\n",
       "      <td>5</td>\n",
       "      <td>5</td>\n",
       "      <td>...</td>\n",
       "      <td>East Asian</td>\n",
       "      <td>NaN</td>\n",
       "      <td>China (AS)</td>\n",
       "      <td>NaN</td>\n",
       "      <td>21-23</td>\n",
       "      <td>No</td>\n",
       "      <td>No</td>\n",
       "      <td>NaN</td>\n",
       "      <td>Biomedical Engineering</td>\n",
       "      <td>Doctor of Philosophy (Ph.D.)</td>\n",
       "    </tr>\n",
       "    <tr>\n",
       "      <th>1009</th>\n",
       "      <td>5</td>\n",
       "      <td>4</td>\n",
       "      <td>4</td>\n",
       "      <td>4</td>\n",
       "      <td>4</td>\n",
       "      <td>4</td>\n",
       "      <td>4</td>\n",
       "      <td>4</td>\n",
       "      <td>4</td>\n",
       "      <td>4</td>\n",
       "      <td>...</td>\n",
       "      <td>Non-Hispanic White</td>\n",
       "      <td>NaN</td>\n",
       "      <td>Brazil (SA)</td>\n",
       "      <td>NaN</td>\n",
       "      <td>24-26</td>\n",
       "      <td>No</td>\n",
       "      <td>No</td>\n",
       "      <td>NaN</td>\n",
       "      <td>Biomedical Engineering</td>\n",
       "      <td>M.S. leading to Ph.D.</td>\n",
       "    </tr>\n",
       "    <tr>\n",
       "      <th>1012</th>\n",
       "      <td>5</td>\n",
       "      <td>4</td>\n",
       "      <td>4</td>\n",
       "      <td>4</td>\n",
       "      <td>4</td>\n",
       "      <td>4</td>\n",
       "      <td>3</td>\n",
       "      <td>4</td>\n",
       "      <td>3</td>\n",
       "      <td>5</td>\n",
       "      <td>...</td>\n",
       "      <td>NaN</td>\n",
       "      <td>Egyptian-American</td>\n",
       "      <td>NaN</td>\n",
       "      <td>NaN</td>\n",
       "      <td>21-23</td>\n",
       "      <td>Yes</td>\n",
       "      <td>Yes</td>\n",
       "      <td>NaN</td>\n",
       "      <td>Biomedical Engineering</td>\n",
       "      <td>M.S. leading to Ph.D.</td>\n",
       "    </tr>\n",
       "  </tbody>\n",
       "</table>\n",
       "<p>87 rows × 344 columns</p>\n",
       "</div>"
      ],
      "text/plain": [
       "first  I am satisfied with my overall experience at Columbia.  \\\n",
       "second                                               Response   \n",
       "0                                                       4       \n",
       "47                                                      5       \n",
       "70                                                      4       \n",
       "74                                                      4       \n",
       "81                                                      4       \n",
       "...                                                   ...       \n",
       "1000                                                    4       \n",
       "1005                                                    4       \n",
       "1006                                                    5       \n",
       "1009                                                    5       \n",
       "1012                                                    5       \n",
       "\n",
       "first  I am satisfied with the following with respect to my overall experience at Columbia.  \\\n",
       "second                                                                            Academics   \n",
       "0                                                       4                                     \n",
       "47                                                      5                                     \n",
       "70                                                      5                                     \n",
       "74                                                      4                                     \n",
       "81                                                      2                                     \n",
       "...                                                   ...                                     \n",
       "1000                                                    2                                     \n",
       "1005                                                    4                                     \n",
       "1006                                                    5                                     \n",
       "1009                                                    4                                     \n",
       "1012                                                    4                                     \n",
       "\n",
       "first            nan                                                       \\\n",
       "second Mental health Physical health Professional development Social life   \n",
       "0                  4               4                        4           4   \n",
       "47                 5               5                        5           5   \n",
       "70                 3               3                        3           3   \n",
       "74                 4               4                        5           4   \n",
       "81                 3               3                        4           4   \n",
       "...              ...             ...                      ...         ...   \n",
       "1000               2               4                        3           2   \n",
       "1005               4               2                        4           4   \n",
       "1006               5               5                        5           5   \n",
       "1009               4               4                        4           4   \n",
       "1012               4               4                        4           4   \n",
       "\n",
       "first                                                                ...  \\\n",
       "second Career services Housing Intercampus Shuttle Library services  ...   \n",
       "0                    5       5                   4                5  ...   \n",
       "47                   5       5                   3                5  ...   \n",
       "70                   3       3                   4                3  ...   \n",
       "74                   4       4                   4                4  ...   \n",
       "81                   3       4                   1                4  ...   \n",
       "...                ...     ...                 ...              ...  ...   \n",
       "1000                 3       2                   2                4  ...   \n",
       "1005                 3       2                   2                4  ...   \n",
       "1006                 5       5                   5                5  ...   \n",
       "1009                 4       4                   4                4  ...   \n",
       "1012                 3       4                   3                5  ...   \n",
       "\n",
       "first  Please identify your ethnic background.                      nan  \\\n",
       "second                             Response.49 Other (please specify).9   \n",
       "0                                   East Asian                      NaN   \n",
       "47                             Hispanic/Latino                      NaN   \n",
       "70                          Non-Hispanic White                      NaN   \n",
       "74                                  East Asian                      NaN   \n",
       "81                              Middle eastern                      NaN   \n",
       "...                                        ...                      ...   \n",
       "1000                            Middle eastern                      NaN   \n",
       "1005                        Non-Hispanic White                      NaN   \n",
       "1006                                East Asian                      NaN   \n",
       "1009                        Non-Hispanic White                      NaN   \n",
       "1012                                       NaN        Egyptian-American   \n",
       "\n",
       "first    Country of Origin                       nan  \\\n",
       "second         Response.50 Other (please specify).10   \n",
       "0                      NaN                       NaN   \n",
       "47             Brazil (SA)                       NaN   \n",
       "70      United States (NA)                       NaN   \n",
       "74       Korea, South (AS)                       NaN   \n",
       "81      United States (NA)                       NaN   \n",
       "...                    ...                       ...   \n",
       "1000          Lebanon (AS)                       NaN   \n",
       "1005    United States (NA)                       NaN   \n",
       "1006            China (AS)                       NaN   \n",
       "1009           Brazil (SA)                       NaN   \n",
       "1012                   NaN                       NaN   \n",
       "\n",
       "first  What is your current age? Is English your first language?  \\\n",
       "second               Response.51                     Response.52   \n",
       "0                          24-26                              No   \n",
       "47                         24-26                              No   \n",
       "70                         27-29                             Yes   \n",
       "74                         24-26                              No   \n",
       "81                         21-23                             Yes   \n",
       "...                          ...                             ...   \n",
       "1000                       21-23                              No   \n",
       "1005                       21-23                             Yes   \n",
       "1006                       21-23                              No   \n",
       "1009                       24-26                              No   \n",
       "1012                       21-23                             Yes   \n",
       "\n",
       "first  Was English the medium of instruction in your primary or secondary school?  \\\n",
       "second                                                                Response.53   \n",
       "0                                                      No                           \n",
       "47                                                     No                           \n",
       "70                                                    Yes                           \n",
       "74                                                    Yes                           \n",
       "81                                                    Yes                           \n",
       "...                                                   ...                           \n",
       "1000                                                  Yes                           \n",
       "1005                                                  Yes                           \n",
       "1006                                                   No                           \n",
       "1009                                                   No                           \n",
       "1012                                                  Yes                           \n",
       "\n",
       "first  Let us know about other important matters that are not covered by this survey  \\\n",
       "second                                                        Open-Ended Response.15   \n",
       "0                                                     NaN                              \n",
       "47                                                    NaN                              \n",
       "70                                                    NaN                              \n",
       "74                                                    NaN                              \n",
       "81                                                    NaN                              \n",
       "...                                                   ...                              \n",
       "1000                                                  NaN                              \n",
       "1005                                                  NaN                              \n",
       "1006                                                  NaN                              \n",
       "1009                                                  NaN                              \n",
       "1012                                                  NaN                              \n",
       "\n",
       "first               department                        degree  \n",
       "second              department                        degree  \n",
       "0       Biomedical Engineering         M.S. leading to Ph.D.  \n",
       "47      Biomedical Engineering         M.S. leading to Ph.D.  \n",
       "70      Biomedical Engineering  Doctor of Philosophy (Ph.D.)  \n",
       "74      Biomedical Engineering      Master of Science (M.S.)  \n",
       "81      Biomedical Engineering         M.S. leading to Ph.D.  \n",
       "...                        ...                           ...  \n",
       "1000    Biomedical Engineering         M.S. leading to Ph.D.  \n",
       "1005    Biomedical Engineering         M.S. leading to Ph.D.  \n",
       "1006    Biomedical Engineering  Doctor of Philosophy (Ph.D.)  \n",
       "1009    Biomedical Engineering         M.S. leading to Ph.D.  \n",
       "1012    Biomedical Engineering         M.S. leading to Ph.D.  \n",
       "\n",
       "[87 rows x 344 columns]"
      ]
     },
     "execution_count": 24,
     "metadata": {},
     "output_type": "execute_result"
    }
   ],
   "source": [
    "df2019"
   ]
  },
  {
   "cell_type": "code",
   "execution_count": 23,
   "id": "ffc16b94",
   "metadata": {},
   "outputs": [
    {
     "data": {
      "text/plain": [
       "degree                      \n",
       "Master of Science (M.S.)        74\n",
       "Doctor of Philosophy (Ph.D.)    43\n",
       "M.S. leading to Ph.D.           21\n",
       "dtype: int64"
      ]
     },
     "execution_count": 23,
     "metadata": {},
     "output_type": "execute_result"
    }
   ],
   "source": [
    "df2022['degree'].value_counts()"
   ]
  },
  {
   "cell_type": "code",
   "execution_count": 476,
   "id": "61b09eb5",
   "metadata": {
    "scrolled": false
   },
   "outputs": [
    {
     "data": {
      "text/plain": [
       "degree                                   \n",
       "Master of Science (M.S.)                     36\n",
       "Doctor of Philosophy (Ph.D.)                 28\n",
       "M.S. leading to Ph.D.                        22\n",
       "Doctor of Engineering Science (Eng.Sc.D.)     1\n",
       "dtype: int64"
      ]
     },
     "execution_count": 476,
     "metadata": {},
     "output_type": "execute_result"
    }
   ],
   "source": [
    "df2019['degree'].value_counts()"
   ]
  },
  {
   "cell_type": "code",
   "execution_count": 477,
   "id": "5ba5d6d6",
   "metadata": {},
   "outputs": [],
   "source": [
    "dg=pd.DataFrame(df2019['degree'].value_counts())\n",
    "dg.rename(columns={\"degree\":'2019'},inplace=True)\n",
    "dg['2022']=df2022['degree'].value_counts()\n",
    "dg.rename(inplace=True,index={'Master of Science (M.S.)':'M.S.','Doctor of Philosophy (Ph.D.)':'Ph.D.'\\\n",
    "                                         ,'Doctor of Engineering Science (Eng.Sc.D.)':'Eng.Sc.D.'})"
   ]
  },
  {
   "cell_type": "code",
   "execution_count": 478,
   "id": "e31d1230",
   "metadata": {},
   "outputs": [
    {
     "data": {
      "image/png": "[encoded data removed]",
      "text/plain": [
       "<Figure size 1200x900 with 1 Axes>"
      ]
     },
     "metadata": {
      "needs_background": "light"
     },
     "output_type": "display_data"
    }
   ],
   "source": [
    "cmap = mpl.cm.Blues(np.linspace(0.4,0.9,100))\n",
    "cmap = mpl.colors.ListedColormap(cmap[10:,:-1])\n",
    "fig,ax=plt.subplots(figsize=(8,6),dpi=150)\n",
    "\n",
    "dg.plot(kind='bar',colormap=cmap,ax=ax)\n",
    "\n",
    "plt.ylabel(\"Number\",fontsize=12)\n",
    "plt.xlabel(\"Degree\",fontsize=12)\n",
    "plt.title(\"Responded BMEN Students by Degree\",fontsize=20)\n",
    "plt.xticks(rotation=0)\n",
    "x_offset = -0.1\n",
    "y_offset = 0.0\n",
    "for p in ax.patches:\n",
    "    b = p.get_bbox()\n",
    "    val = \"{:.0f}\".format(b.y1 + b.y0)        \n",
    "    ax.annotate(val, ((b.x0 + b.x1)/2+ x_offset, b.y1+y_offset),fontsize=12)\n",
    "\n",
    "ax.spines['top'].set_visible(False)\n",
    "ax.spines['right'].set_visible(False)\n",
    "ax.spines['bottom'].set_visible(False)\n",
    "ax.spines['left'].set_visible(False)\n",
    "\n",
    "\n"
   ]
  },
  {
   "cell_type": "markdown",
   "id": "69ad6d07",
   "metadata": {},
   "source": [
    "## Satisfaction of Biomedical Engineering Department"
   ]
  },
  {
   "cell_type": "code",
   "execution_count": 479,
   "id": "2498a42c",
   "metadata": {},
   "outputs": [
    {
     "name": "stdout",
     "output_type": "stream",
     "text": [
      "I am satisfied with my overall experience at Columbia.\n",
      "I am satisfied with my overall experience at Columbia.\n"
     ]
    }
   ],
   "source": [
    "sat2019=query_data(Q,qq,df2019,'satisfied',indx=1)\n",
    "sat2022=query_data(Q,qq,df2022,'satisfied',indx=1)"
   ]
  },
  {
   "cell_type": "code",
   "execution_count": 480,
   "id": "aeee1e3a",
   "metadata": {},
   "outputs": [
    {
     "name": "stdout",
     "output_type": "stream",
     "text": [
      "Mean Satisfaction of 2019 is : 3.828\n",
      "Mean Satisfaction of 2022 is : 3.761\n"
     ]
    }
   ],
   "source": [
    "print(f'Mean Satisfaction of 2019 is : {sat2019.mean().sum():0.3f}')\n",
    "print(f'Mean Satisfaction of 2022 is : {sat2022.mean().sum():0.3f}')"
   ]
  },
  {
   "cell_type": "code",
   "execution_count": 348,
   "id": "18274283",
   "metadata": {
    "scrolled": true
   },
   "outputs": [
    {
     "data": {
      "text/html": [
       "<div>\n",
       "<style scoped>\n",
       "    .dataframe tbody tr th:only-of-type {\n",
       "        vertical-align: middle;\n",
       "    }\n",
       "\n",
       "    .dataframe tbody tr th {\n",
       "        vertical-align: top;\n",
       "    }\n",
       "\n",
       "    .dataframe thead th {\n",
       "        text-align: right;\n",
       "    }\n",
       "</style>\n",
       "<table border=\"1\" class=\"dataframe\">\n",
       "  <thead>\n",
       "    <tr style=\"text-align: right;\">\n",
       "      <th></th>\n",
       "      <th>2019</th>\n",
       "      <th>2022</th>\n",
       "    </tr>\n",
       "  </thead>\n",
       "  <tbody>\n",
       "    <tr>\n",
       "      <th>1</th>\n",
       "      <td>2</td>\n",
       "      <td>5</td>\n",
       "    </tr>\n",
       "    <tr>\n",
       "      <th>2</th>\n",
       "      <td>5</td>\n",
       "      <td>9</td>\n",
       "    </tr>\n",
       "    <tr>\n",
       "      <th>3</th>\n",
       "      <td>13</td>\n",
       "      <td>22</td>\n",
       "    </tr>\n",
       "    <tr>\n",
       "      <th>4</th>\n",
       "      <td>53</td>\n",
       "      <td>80</td>\n",
       "    </tr>\n",
       "    <tr>\n",
       "      <th>5</th>\n",
       "      <td>14</td>\n",
       "      <td>22</td>\n",
       "    </tr>\n",
       "  </tbody>\n",
       "</table>\n",
       "</div>"
      ],
      "text/plain": [
       "   2019  2022\n",
       "1     2     5\n",
       "2     5     9\n",
       "3    13    22\n",
       "4    53    80\n",
       "5    14    22"
      ]
     },
     "execution_count": 348,
     "metadata": {},
     "output_type": "execute_result"
    }
   ],
   "source": [
    "a=pd.DataFrame(((sat2019.Response.value_counts()).sort_index(ascending=True)))\n",
    "a.rename(columns={\"Response\":'2019'},inplace=True)\n",
    "b=(sat2022.Response.value_counts()).sort_index(ascending=True)\n",
    "a['2022']=(b)\n",
    "a"
   ]
  },
  {
   "cell_type": "code",
   "execution_count": 350,
   "id": "71401d52",
   "metadata": {
    "scrolled": false
   },
   "outputs": [],
   "source": [
    "aa=a.apply(lambda x: x / x.sum(), axis=0)"
   ]
  },
  {
   "cell_type": "code",
   "execution_count": 114,
   "id": "b0fd3008",
   "metadata": {},
   "outputs": [
    {
     "data": {
      "text/html": [
       "<div>\n",
       "<style scoped>\n",
       "    .dataframe tbody tr th:only-of-type {\n",
       "        vertical-align: middle;\n",
       "    }\n",
       "\n",
       "    .dataframe tbody tr th {\n",
       "        vertical-align: top;\n",
       "    }\n",
       "\n",
       "    .dataframe thead th {\n",
       "        text-align: right;\n",
       "    }\n",
       "</style>\n",
       "<table border=\"1\" class=\"dataframe\">\n",
       "  <thead>\n",
       "    <tr style=\"text-align: right;\">\n",
       "      <th></th>\n",
       "      <th>2019</th>\n",
       "      <th>2022</th>\n",
       "    </tr>\n",
       "  </thead>\n",
       "  <tbody>\n",
       "    <tr>\n",
       "      <th>1</th>\n",
       "      <td>0.022989</td>\n",
       "      <td>0.036232</td>\n",
       "    </tr>\n",
       "    <tr>\n",
       "      <th>2</th>\n",
       "      <td>0.057471</td>\n",
       "      <td>0.065217</td>\n",
       "    </tr>\n",
       "    <tr>\n",
       "      <th>3</th>\n",
       "      <td>0.149425</td>\n",
       "      <td>0.159420</td>\n",
       "    </tr>\n",
       "    <tr>\n",
       "      <th>4</th>\n",
       "      <td>0.609195</td>\n",
       "      <td>0.579710</td>\n",
       "    </tr>\n",
       "    <tr>\n",
       "      <th>5</th>\n",
       "      <td>0.160920</td>\n",
       "      <td>0.159420</td>\n",
       "    </tr>\n",
       "  </tbody>\n",
       "</table>\n",
       "</div>"
      ],
      "text/plain": [
       "       2019      2022\n",
       "1  0.022989  0.036232\n",
       "2  0.057471  0.065217\n",
       "3  0.149425  0.159420\n",
       "4  0.609195  0.579710\n",
       "5  0.160920  0.159420"
      ]
     },
     "execution_count": 114,
     "metadata": {},
     "output_type": "execute_result"
    }
   ],
   "source": [
    "aa"
   ]
  },
  {
   "cell_type": "code",
   "execution_count": 351,
   "id": "745bf7b2",
   "metadata": {},
   "outputs": [],
   "source": [
    "\n",
    "ind=['Strongly agree','Agree','Neither agree \\n nor disagree','Disagree','Strongly disagree'][::-1]\n",
    "aa.rename(index={1:ind[0],2:ind[1],3:ind[2],4:ind[3],5:ind[4]},inplace=True)\n"
   ]
  },
  {
   "cell_type": "code",
   "execution_count": 352,
   "id": "a4966b8a",
   "metadata": {},
   "outputs": [
    {
     "data": {
      "image/png": "[encoded data removed]",
      "text/plain": [
       "<Figure size 1200x900 with 1 Axes>"
      ]
     },
     "metadata": {
      "needs_background": "light"
     },
     "output_type": "display_data"
    }
   ],
   "source": [
    "cmap = mpl.cm.Blues(np.linspace(0.4,0.9,100))\n",
    "cmap = mpl.colors.ListedColormap(cmap[10:,:-1])\n",
    "fig,ax=plt.subplots(figsize=(8,6),dpi=150)\n",
    "\n",
    "aa.plot(kind='bar',colormap=cmap,ax=ax)\n",
    "\n",
    "plt.ylabel(\"Proportion\",fontsize=12)\n",
    "plt.xlabel(\"Level of Satisfaction\",fontsize=12)\n",
    "plt.title(\"Overall Student Satisfaction of BMEN\",fontsize=20)\n",
    "plt.xticks(rotation=0)\n",
    "x_offset = -0.1\n",
    "y_offset = 0.0\n",
    "for p in ax.patches:\n",
    "    b = p.get_bbox()\n",
    "    val = \"{:.2f}\".format(b.y1 + b.y0)        \n",
    "    ax.annotate(val, ((b.x0 + b.x1)/2+ x_offset, b.y1+y_offset),fontsize=10)\n",
    "\n",
    "\n",
    "ax.spines['top'].set_visible(False)\n",
    "ax.spines['right'].set_visible(False)\n",
    "ax.spines['bottom'].set_visible(False)\n",
    "ax.spines['left'].set_visible(False)\n",
    "\n"
   ]
  },
  {
   "cell_type": "markdown",
   "id": "9faf970f",
   "metadata": {},
   "source": [
    "### \n",
    "\n",
    "## \n",
    "\n",
    "## \n",
    "\n"
   ]
  },
  {
   "cell_type": "markdown",
   "id": "9d471c14",
   "metadata": {},
   "source": [
    "## Satisfaction v.s Importance"
   ]
  },
  {
   "cell_type": "code",
   "execution_count": 237,
   "id": "09fab16e",
   "metadata": {},
   "outputs": [
    {
     "name": "stdout",
     "output_type": "stream",
     "text": [
      "The following are important with respect to my overall experience at Columbia.\n",
      "I am satisfied with the following with respect to my overall experience at Columbia.\n"
     ]
    }
   ],
   "source": [
    "important_2019=query_data(Q,qq,df2019,\"important\",indx=1)\n",
    "satisfied2_2019 = query_data(Q,qq,df2019,\"satisfied\",indx=2)"
   ]
  },
  {
   "cell_type": "code",
   "execution_count": 238,
   "id": "3d165d30",
   "metadata": {},
   "outputs": [
    {
     "name": "stdout",
     "output_type": "stream",
     "text": [
      "The following are important with respect to my overall experience at Columbia.\n",
      "I am satisfied with the following with respect to my overall experience at Columbia.\n"
     ]
    }
   ],
   "source": [
    "important_2022=query_data(Q,qq,df2022,\"important\",indx=1)\n",
    "satisfied2_2022 = query_data(Q,qq,df2022,\"satisfied\",indx=2)"
   ]
  },
  {
   "cell_type": "code",
   "execution_count": 243,
   "id": "f026dc02",
   "metadata": {
    "scrolled": true
   },
   "outputs": [
    {
     "data": {
      "text/html": [
       "<div>\n",
       "<style scoped>\n",
       "    .dataframe tbody tr th:only-of-type {\n",
       "        vertical-align: middle;\n",
       "    }\n",
       "\n",
       "    .dataframe tbody tr th {\n",
       "        vertical-align: top;\n",
       "    }\n",
       "\n",
       "    .dataframe thead th {\n",
       "        text-align: right;\n",
       "    }\n",
       "</style>\n",
       "<table border=\"1\" class=\"dataframe\">\n",
       "  <thead>\n",
       "    <tr style=\"text-align: right;\">\n",
       "      <th></th>\n",
       "      <th>Academics</th>\n",
       "      <th>Mental health</th>\n",
       "      <th>Physical health</th>\n",
       "      <th>Professional development</th>\n",
       "      <th>Social life</th>\n",
       "      <th>Career Placement Team</th>\n",
       "      <th>Housing</th>\n",
       "      <th>Intercampus Shuttle/Via Service</th>\n",
       "      <th>Library services</th>\n",
       "      <th>Funding opportunities</th>\n",
       "      <th>Student life and academic advising</th>\n",
       "      <th>Technology services and support</th>\n",
       "    </tr>\n",
       "  </thead>\n",
       "  <tbody>\n",
       "    <tr>\n",
       "      <th>0</th>\n",
       "      <td>3.731884</td>\n",
       "      <td>3.268116</td>\n",
       "      <td>3.456522</td>\n",
       "      <td>3.775362</td>\n",
       "      <td>3.739130</td>\n",
       "      <td>3.471014</td>\n",
       "      <td>3.072464</td>\n",
       "      <td>3.427536</td>\n",
       "      <td>3.949275</td>\n",
       "      <td>3.239130</td>\n",
       "      <td>3.586957</td>\n",
       "      <td>3.623188</td>\n",
       "    </tr>\n",
       "    <tr>\n",
       "      <th>1</th>\n",
       "      <td>4.572464</td>\n",
       "      <td>4.420290</td>\n",
       "      <td>4.275362</td>\n",
       "      <td>4.376812</td>\n",
       "      <td>4.173913</td>\n",
       "      <td>4.181159</td>\n",
       "      <td>4.014493</td>\n",
       "      <td>3.956522</td>\n",
       "      <td>3.811594</td>\n",
       "      <td>4.028986</td>\n",
       "      <td>4.268116</td>\n",
       "      <td>3.927536</td>\n",
       "    </tr>\n",
       "  </tbody>\n",
       "</table>\n",
       "</div>"
      ],
      "text/plain": [
       "   Academics  Mental health  Physical health  Professional development  \\\n",
       "0   3.731884       3.268116         3.456522                  3.775362   \n",
       "1   4.572464       4.420290         4.275362                  4.376812   \n",
       "\n",
       "   Social life  Career Placement Team   Housing  \\\n",
       "0     3.739130               3.471014  3.072464   \n",
       "1     4.173913               4.181159  4.014493   \n",
       "\n",
       "   Intercampus Shuttle/Via Service  Library services  Funding opportunities  \\\n",
       "0                         3.427536          3.949275               3.239130   \n",
       "1                         3.956522          3.811594               4.028986   \n",
       "\n",
       "   Student life and academic advising  Technology services and support  \n",
       "0                            3.586957                         3.623188  \n",
       "1                            4.268116                         3.927536  "
      ]
     },
     "execution_count": 243,
     "metadata": {},
     "output_type": "execute_result"
    }
   ],
   "source": [
    "a=pd.DataFrame(satisfied2_2022.mean()).T\n",
    "b=pd.DataFrame(important_2022.mean()).T\n",
    "b.columns=a.columns\n",
    "c2022=pd.concat([a,b],ignore_index=True)\n",
    "c2022"
   ]
  },
  {
   "cell_type": "code",
   "execution_count": 242,
   "id": "aec1c695",
   "metadata": {
    "scrolled": true
   },
   "outputs": [
    {
     "data": {
      "text/html": [
       "<div>\n",
       "<style scoped>\n",
       "    .dataframe tbody tr th:only-of-type {\n",
       "        vertical-align: middle;\n",
       "    }\n",
       "\n",
       "    .dataframe tbody tr th {\n",
       "        vertical-align: top;\n",
       "    }\n",
       "\n",
       "    .dataframe thead th {\n",
       "        text-align: right;\n",
       "    }\n",
       "</style>\n",
       "<table border=\"1\" class=\"dataframe\">\n",
       "  <thead>\n",
       "    <tr style=\"text-align: right;\">\n",
       "      <th></th>\n",
       "      <th>Academics</th>\n",
       "      <th>Mental health</th>\n",
       "      <th>Physical health</th>\n",
       "      <th>Professional development</th>\n",
       "      <th>Social life</th>\n",
       "      <th>Career services</th>\n",
       "      <th>Housing</th>\n",
       "      <th>Intercampus Shuttle</th>\n",
       "      <th>Library services</th>\n",
       "      <th>Funding opportunities</th>\n",
       "      <th>Student life and academic advising</th>\n",
       "      <th>Technology services and support</th>\n",
       "    </tr>\n",
       "  </thead>\n",
       "  <tbody>\n",
       "    <tr>\n",
       "      <th>0</th>\n",
       "      <td>3.873563</td>\n",
       "      <td>3.436782</td>\n",
       "      <td>3.333333</td>\n",
       "      <td>3.770115</td>\n",
       "      <td>3.609195</td>\n",
       "      <td>3.609195</td>\n",
       "      <td>3.390805</td>\n",
       "      <td>3.160920</td>\n",
       "      <td>3.988506</td>\n",
       "      <td>3.333333</td>\n",
       "      <td>3.586207</td>\n",
       "      <td>3.666667</td>\n",
       "    </tr>\n",
       "    <tr>\n",
       "      <th>1</th>\n",
       "      <td>4.574713</td>\n",
       "      <td>4.356322</td>\n",
       "      <td>4.333333</td>\n",
       "      <td>4.390805</td>\n",
       "      <td>4.068966</td>\n",
       "      <td>4.298851</td>\n",
       "      <td>4.011494</td>\n",
       "      <td>3.827586</td>\n",
       "      <td>3.931034</td>\n",
       "      <td>4.287356</td>\n",
       "      <td>4.218391</td>\n",
       "      <td>3.977011</td>\n",
       "    </tr>\n",
       "  </tbody>\n",
       "</table>\n",
       "</div>"
      ],
      "text/plain": [
       "   Academics  Mental health  Physical health  Professional development  \\\n",
       "0   3.873563       3.436782         3.333333                  3.770115   \n",
       "1   4.574713       4.356322         4.333333                  4.390805   \n",
       "\n",
       "   Social life  Career services   Housing  Intercampus Shuttle  \\\n",
       "0     3.609195         3.609195  3.390805             3.160920   \n",
       "1     4.068966         4.298851  4.011494             3.827586   \n",
       "\n",
       "   Library services  Funding opportunities  \\\n",
       "0          3.988506               3.333333   \n",
       "1          3.931034               4.287356   \n",
       "\n",
       "   Student life and academic advising  Technology services and support  \n",
       "0                            3.586207                         3.666667  \n",
       "1                            4.218391                         3.977011  "
      ]
     },
     "execution_count": 242,
     "metadata": {},
     "output_type": "execute_result"
    }
   ],
   "source": [
    "a=pd.DataFrame(satisfied2_2019.mean()).T\n",
    "b=pd.DataFrame(important_2019.mean()).T\n",
    "b.columns=a.columns\n",
    "c2019=pd.concat([a,b],ignore_index=True)\n",
    "c2019"
   ]
  },
  {
   "cell_type": "code",
   "execution_count": 248,
   "id": "1b35ebbe",
   "metadata": {},
   "outputs": [
    {
     "data": {
      "text/plain": [
       "4.167270531400965"
      ]
     },
     "execution_count": 248,
     "metadata": {},
     "output_type": "execute_result"
    }
   ],
   "source": [
    "c2022.iloc[1,:].mean()"
   ]
  },
  {
   "cell_type": "code",
   "execution_count": 253,
   "id": "3a9d40dd",
   "metadata": {},
   "outputs": [
    {
     "data": {
      "image/png": "[encoded data removed]",
      "text/plain": [
       "<Figure size 1200x900 with 1 Axes>"
      ]
     },
     "metadata": {
      "needs_background": "light"
     },
     "output_type": "display_data"
    }
   ],
   "source": [
    "import matplotlib.cm as cm\n",
    "colors = cm.tab20(np.linspace(0, 1, (12)))\n",
    "\n",
    "fig,ax=plt.subplots(figsize=(8,6),dpi=150)\n",
    "\n",
    "for i in range(12):\n",
    "    ax.scatter(c2022.iloc[0,i], c2022.iloc[1,i],s=90,marker='^',label=c2022.columns[i],c=colors[i].reshape(1,-1))\n",
    "\n",
    "for i in range(12):\n",
    "    ax.scatter(c2019.iloc[0,i], c2019.iloc[1,i],s=90,marker='^',facecolors='none',edgecolors=colors[i].reshape(1,-1))\n",
    "\n",
    "line1=ax.axhline(y=c2022.iloc[1,:].mean(),c='grey')\n",
    "ax.axvline(x=c2022.iloc[0,:].mean(),c='grey' )\n",
    "\n",
    "line2=ax.axhline(y=c2019.iloc[1,:].mean(),c='grey',ls='--')\n",
    "ax.axvline(x=c2019.iloc[0,:].mean(),c='grey' ,ls='--')\n",
    "\n",
    "\n",
    "ax.set_xlim([3.0, 4.250])\n",
    "ax.set_ylim([3.25, 4.750])\n",
    "\n",
    "\n",
    "ax.set_title(\"Importance vs Satisfaction for BMEN\",fontsize=22)\n",
    "\n",
    "leg = plt.legend(loc=(1.05,0.4), title=\"Features\")\n",
    "ax.add_artist(leg)\n",
    "#leg = plt.legend(,loc=(1.05,0.4), title=\"Year\")\n",
    "\n",
    "\n",
    "#import matplotlib.lines as mlines\n",
    "\n",
    "import matplotlib.patches as mpatches\n",
    "\n",
    "grey_triangle1 = ax.scatter([], [], color='grey', marker='^', linestyle='None')\n",
    "grey_triangle2 = ax.scatter([], [], color='grey', marker='^', facecolors='none',edgecolors=\"grey\",linestyle='None')\n",
    "\n",
    "#first_legend=plt.legend([line1,line2],['2022','2019'],bbox_to_anchor=(1, 1.05))\n",
    "leg1=plt.legend(handles=[line1,line2,grey_triangle1,grey_triangle2], labels=['2022 ','2019','2022 ','2019'],loc=(1.05,0.15), title=\"Year\")\n",
    "ax.add_artist(leg1)\n",
    "\n",
    "ax.set_xlabel(\"Satisfaction\",fontsize=14)\n",
    "ax.set_ylabel(\"Importance\",fontsize=14)\n",
    "\n",
    "\n",
    "ax.spines['top'].set_visible(False)\n",
    "ax.spines['right'].set_visible(False)\n",
    "ax.spines['bottom'].set_visible(False)\n",
    "ax.spines['left'].set_visible(False)\n",
    "\n",
    "\n",
    "\n",
    "plt.show()"
   ]
  },
  {
   "cell_type": "markdown",
   "id": "8a3f89c2",
   "metadata": {},
   "source": [
    "## Academics"
   ]
  },
  {
   "cell_type": "code",
   "execution_count": 186,
   "id": "8ed87f9d",
   "metadata": {},
   "outputs": [
    {
     "name": "stdout",
     "output_type": "stream",
     "text": [
      "The following are important with respect to my overall satisfaction with SEAS classes and academics.\n",
      "The following are important with respect to my overall satisfaction with SEAS classes and academics.\n"
     ]
    }
   ],
   "source": [
    "aca_import_2019=query_data(Q,qq,df2019,\"academics\",indx=1)\n",
    "aca_import_2022=query_data(Q,qq,df2022,\"academics\",indx=1)"
   ]
  },
  {
   "cell_type": "code",
   "execution_count": 365,
   "id": "594be7f8",
   "metadata": {},
   "outputs": [
    {
     "data": {
      "text/plain": [
       "Instruction                                                       4.425287\n",
       "Course content                                                    4.413793\n",
       "Supplementary educational tools                                   3.724138\n",
       "Degree requirements                                               3.942529\n",
       "The overall teaching quality of the lecturer was satisfactory:    3.770115\n",
       "dtype: float64"
      ]
     },
     "execution_count": 365,
     "metadata": {},
     "output_type": "execute_result"
    }
   ],
   "source": [
    "aca_import_2019.mean(axis=0)"
   ]
  },
  {
   "cell_type": "code",
   "execution_count": 385,
   "id": "dffafbde",
   "metadata": {
    "scrolled": true
   },
   "outputs": [],
   "source": [
    "aca=pd.DataFrame(aca_import_2019.mean(axis=0)[:4])\n",
    "aca.rename(columns={0:'2019'},inplace=True)\n",
    "aca['2022']=(aca_import_2022.mean(axis=0)[:4])\n",
    "aca.rename(index={'Supplementary educational tools':'Supplementary \\n educational tools'},inplace=True)\n",
    "\n"
   ]
  },
  {
   "cell_type": "code",
   "execution_count": 386,
   "id": "b3638d2c",
   "metadata": {},
   "outputs": [
    {
     "data": {
      "text/html": [
       "<div>\n",
       "<style scoped>\n",
       "    .dataframe tbody tr th:only-of-type {\n",
       "        vertical-align: middle;\n",
       "    }\n",
       "\n",
       "    .dataframe tbody tr th {\n",
       "        vertical-align: top;\n",
       "    }\n",
       "\n",
       "    .dataframe thead th {\n",
       "        text-align: right;\n",
       "    }\n",
       "</style>\n",
       "<table border=\"1\" class=\"dataframe\">\n",
       "  <thead>\n",
       "    <tr style=\"text-align: right;\">\n",
       "      <th></th>\n",
       "      <th>2019</th>\n",
       "      <th>2022</th>\n",
       "    </tr>\n",
       "  </thead>\n",
       "  <tbody>\n",
       "    <tr>\n",
       "      <th>Instruction</th>\n",
       "      <td>4.425287</td>\n",
       "      <td>4.355072</td>\n",
       "    </tr>\n",
       "    <tr>\n",
       "      <th>Course content</th>\n",
       "      <td>4.413793</td>\n",
       "      <td>4.362319</td>\n",
       "    </tr>\n",
       "    <tr>\n",
       "      <th>Supplementary \\n educational tools</th>\n",
       "      <td>3.724138</td>\n",
       "      <td>3.804348</td>\n",
       "    </tr>\n",
       "    <tr>\n",
       "      <th>Degree requirements</th>\n",
       "      <td>3.942529</td>\n",
       "      <td>3.971014</td>\n",
       "    </tr>\n",
       "  </tbody>\n",
       "</table>\n",
       "</div>"
      ],
      "text/plain": [
       "                                        2019      2022\n",
       "Instruction                         4.425287  4.355072\n",
       "Course content                      4.413793  4.362319\n",
       "Supplementary \\n educational tools  3.724138  3.804348\n",
       "Degree requirements                 3.942529  3.971014"
      ]
     },
     "execution_count": 386,
     "metadata": {},
     "output_type": "execute_result"
    }
   ],
   "source": [
    "aca"
   ]
  },
  {
   "cell_type": "code",
   "execution_count": 387,
   "id": "bb6961cf",
   "metadata": {},
   "outputs": [
    {
     "data": {
      "image/png": "[encoded data removed]",
      "text/plain": [
       "<Figure size 1200x900 with 1 Axes>"
      ]
     },
     "metadata": {
      "needs_background": "light"
     },
     "output_type": "display_data"
    }
   ],
   "source": [
    "cmap = mpl.cm.Blues(np.linspace(0.4,0.9,100))\n",
    "cmap = mpl.colors.ListedColormap(cmap[10:,:-1])\n",
    "fig,ax=plt.subplots(figsize=(8,6),dpi=150)\n",
    "\n",
    "aca.plot(kind='bar',colormap=cmap,ax=ax)\n",
    "\n",
    "plt.ylabel(\"Level of Satisfaction\",fontsize=12)\n",
    "plt.xlabel(\"Academics Features\",fontsize=12)\n",
    "plt.title(\"Student Satisfaction for Academics of BMEN\",fontsize=20)\n",
    "plt.xticks(rotation=0)\n",
    "ax.spines['top'].set_visible(False)\n",
    "ax.spines['right'].set_visible(False)\n",
    "ax.spines['bottom'].set_visible(False)\n",
    "ax.spines['left'].set_visible(False)\n",
    "\n",
    "x_offset = -0.1\n",
    "y_offset = 0.0\n",
    "for p in ax.patches:\n",
    "    b = p.get_bbox()\n",
    "    val = \"{:.2f}\".format(b.y1 + b.y0)        \n",
    "    ax.annotate(val, ((b.x0 + b.x1)/2+ x_offset, b.y1+y_offset),fontsize=10)\n",
    "\n",
    "\n"
   ]
  },
  {
   "cell_type": "code",
   "execution_count": null,
   "id": "53e70432",
   "metadata": {},
   "outputs": [],
   "source": []
  },
  {
   "cell_type": "code",
   "execution_count": null,
   "id": "2a54cec6",
   "metadata": {},
   "outputs": [],
   "source": []
  }
 ],
 "metadata": {
  "kernelspec": {
   "display_name": "Python 3 (ipykernel)",
   "language": "python",
   "name": "python3"
  },
  "language_info": {
   "codemirror_mode": {
    "name": "ipython",
    "version": 3
   },
   "file_extension": ".py",
   "mimetype": "text/x-python",
   "name": "python",
   "nbconvert_exporter": "python",
   "pygments_lexer": "ipython3",
   "version": "3.8.12"
  }
 },
 "nbformat": 4,
 "nbformat_minor": 5
}
