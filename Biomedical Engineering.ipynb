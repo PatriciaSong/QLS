{
 "cells": [
  {
   "cell_type": "markdown",
   "id": "4e4b33a5",
   "metadata": {},
   "source": [
    "# Biomedical Engineering Department"
   ]
  },
  {
   "cell_type": "markdown",
   "id": "9173d829",
   "metadata": {},
   "source": [
    "### Data Loading and Preprocessing"
   ]
  },
  {
   "cell_type": "code",
   "execution_count": 78,
   "id": "34fe4acb",
   "metadata": {},
   "outputs": [],
   "source": [
    "import pandas as pd\n",
    "import numpy as np\n",
    "from datetime import datetime\n",
    "import seaborn as sns\n",
    "import matplotlib.cm as cm\n",
    "import matplotlib.pyplot as plt\n",
    "import matplotlib as mpl\n"
   ]
  },
  {
   "cell_type": "code",
   "execution_count": 11,
   "id": "62d798ee",
   "metadata": {},
   "outputs": [],
   "source": [
    "data = pd.read_csv('data/raw_survey_data_2022.csv',header=None)"
   ]
  },
  {
   "cell_type": "code",
   "execution_count": 12,
   "id": "75f31eea",
   "metadata": {},
   "outputs": [],
   "source": [
    "df = pd.read_csv('data/raw_survey_data_2022.csv',header=1)"
   ]
  },
  {
   "cell_type": "code",
   "execution_count": 13,
   "id": "7567ad13",
   "metadata": {},
   "outputs": [
    {
     "data": {
      "text/plain": [
       "Int64Index([176, 306], dtype='int64')"
      ]
     },
     "execution_count": 13,
     "metadata": {},
     "output_type": "execute_result"
    }
   ],
   "source": [
    "data.loc[0,data.iloc[0,:].str.contains('If you have read the survey up to this point')==True].index"
   ]
  },
  {
   "cell_type": "code",
   "execution_count": 14,
   "id": "f26bd80c",
   "metadata": {},
   "outputs": [],
   "source": [
    "df_1=df[(df.iloc[:,176]=='2')&(df.iloc[:,306]=='4')]"
   ]
  },
  {
   "cell_type": "code",
   "execution_count": 15,
   "id": "2342fcb2",
   "metadata": {},
   "outputs": [
    {
     "data": {
      "text/plain": [
       "(1271, 348)"
      ]
     },
     "execution_count": 15,
     "metadata": {},
     "output_type": "execute_result"
    }
   ],
   "source": [
    "## 2 response time more than 200s\n",
    "def response_time(df,minimum=200):\n",
    "    data1=df.iloc[:,1] #DataFrame with start time\n",
    "    data2=df.iloc[:,2] #DataFrame with end time\n",
    "    data3=df.iloc[:,3:] #DataFrame with data\n",
    "\n",
    "    data3[\"time\"]=data2.apply(lambda x: datetime.strptime(x, '%m/%d/%y %H:%M'))-data1.apply(lambda x: datetime.strptime(x, '%m/%d/%y %H:%M'))\n",
    "    #(data1.iloc[:,1].values.astype('datetime64[D]')-data1.iloc[:,0].values.astype('datetime64[D]'))\n",
    "\n",
    "                                                                                                    \n",
    "    index_time= data3[\"time\"].apply(lambda x: x/np.timedelta64(1, 's'))\n",
    "    data3['clean']=(index_time>200)\n",
    "    cleaned_data=data3.loc[data3.clean==True].iloc[:,:-2]\n",
    "\n",
    "    return cleaned_data\n",
    "cleaned_data=response_time(df_1,200)\n",
    "\n",
    "cleaned_data.shape"
   ]
  },
  {
   "cell_type": "code",
   "execution_count": 16,
   "id": "8c051826",
   "metadata": {},
   "outputs": [],
   "source": [
    "## change some answer to numerical\n",
    "def numeric_scale(cleaned_data):\n",
    "    for i in range(cleaned_data.shape[0]):\n",
    "        for j in range(cleaned_data.shape[1]):\n",
    "            if cleaned_data.iloc[i,j]=='Strongly agree':\n",
    "                cleaned_data.iloc[i,j]=5\n",
    "            if cleaned_data.iloc[i,j]=='Agree':\n",
    "                cleaned_data.iloc[i,j]=4\n",
    "            if cleaned_data.iloc[i,j]in['Neither agree or disagree','Neither agree nor disagree','Neither disagree nor agree']:\n",
    "                cleaned_data.iloc[i,j]=3\n",
    "            if cleaned_data.iloc[i,j]=='Disagree':\n",
    "                cleaned_data.iloc[i,j]=2\n",
    "            if cleaned_data.iloc[i,j]=='Strongly disagree':\n",
    "                cleaned_data.iloc[i,j]=1\n",
    "    return cleaned_data\n",
    "\n",
    "\n",
    "cleaned_data=numeric_scale(cleaned_data)"
   ]
  },
  {
   "cell_type": "code",
   "execution_count": null,
   "id": "0b834f6e",
   "metadata": {},
   "outputs": [],
   "source": []
  },
  {
   "cell_type": "code",
   "execution_count": 17,
   "id": "d9d94e00",
   "metadata": {},
   "outputs": [],
   "source": [
    "# create the table of the first 2 rows to see the questions and the columns they locate\n",
    "Q=data.iloc[:2,3:].T\n",
    "Q.columns=['Question','Sub_Question']\n",
    "#Q['location']=[ lambda x: x.index*(x.Question.isna()==False)]\n",
    "Q=Q.reset_index(drop=True)\n",
    "Q['location']=np.where(Q.Question.isna()==False, Q.Question.index, \"False\")"
   ]
  },
  {
   "cell_type": "code",
   "execution_count": 18,
   "id": "de121238",
   "metadata": {},
   "outputs": [],
   "source": [
    "# Main questions\n",
    "qq=Q[Q['location']!='False']\n",
    "qq=qq.reset_index(drop=True)"
   ]
  },
  {
   "cell_type": "code",
   "execution_count": null,
   "id": "7cb5b8e4",
   "metadata": {},
   "outputs": [],
   "source": []
  },
  {
   "cell_type": "code",
   "execution_count": 42,
   "id": "4a3dd689",
   "metadata": {},
   "outputs": [],
   "source": [
    "##Find dataset for queryed text\n",
    "\n",
    "def query_data(Q,qq,cleaned_data,query,indx):\n",
    "    que=Q[Q['Question'].str.contains(query)==True]\n",
    "    val=que.values\n",
    "    ind=que.index.values\n",
    "    print(Q.loc[ind[indx-1],'Question'])\n",
    "    start=ind[indx-1]\n",
    "    end=int(qq.iloc[qq[qq.location==str(ind[indx-1])].index+1]['location'])\n",
    "    df_return=cleaned_data.iloc[:,start:end]\n",
    "    return df_return"
   ]
  },
  {
   "cell_type": "markdown",
   "id": "00882c55",
   "metadata": {},
   "source": [
    "### Biomedical Engineering  Number of response increased from 87 to 138"
   ]
  },
  {
   "cell_type": "code",
   "execution_count": 20,
   "id": "7deea5f0",
   "metadata": {},
   "outputs": [
    {
     "name": "stdout",
     "output_type": "stream",
     "text": [
      "Current Academic Program\n",
      "What is your current academic department or institute?\n",
      "Please indicate the gender(s) with which you identify (check all that apply):\n",
      "Do you identify yourself as part of the LGBTQ community?\n",
      "Please identify your ethnic background.\n",
      "Country of Origin\n",
      "What is your current age?\n"
     ]
    }
   ],
   "source": [
    "degree=query_data(Q,qq,cleaned_data,'Current Academic Program',indx=1)\n",
    "department=query_data(Q,qq,cleaned_data,'current academic department',indx=1)\n",
    "gender=query_data(Q,qq,cleaned_data,'gender',indx=3)\n",
    "LGBTQ=query_data(Q,qq,cleaned_data,'LGBTQ',indx=1)\n",
    "ethnic=query_data(Q,qq,cleaned_data,'ethnic',indx=1)\n",
    "country=query_data(Q,qq,cleaned_data,'Country',indx=1)\n",
    "age=query_data(Q,qq,cleaned_data,'age',indx=3)"
   ]
  },
  {
   "cell_type": "code",
   "execution_count": 21,
   "id": "f7e9718f",
   "metadata": {
    "scrolled": true
   },
   "outputs": [
    {
     "data": {
      "text/plain": [
       "Response.3                                    \n",
       "Industrial Engineering and Operations Research    314\n",
       "Computer Science                                  274\n",
       "Electrical Engineering                            148\n",
       "Biomedical Engineering                            138\n",
       "Mechanical Engineering                             95\n",
       "Data Science Institute                             76\n",
       "Chemical Engineering                               68\n",
       "Civil Engineering and Engineering Mechanics        62\n",
       "Applied Physics and Applied Mathematics            58\n",
       "Earth and Environmental Engineering                29\n",
       "I prefer not to answer.                             9\n",
       "dtype: int64"
      ]
     },
     "execution_count": 21,
     "metadata": {},
     "output_type": "execute_result"
    }
   ],
   "source": [
    "department.value_counts()"
   ]
  },
  {
   "cell_type": "code",
   "execution_count": 22,
   "id": "85c73b00",
   "metadata": {},
   "outputs": [],
   "source": [
    "data_2019 = pd.read_csv('data/Copy of de-identified Graduate Student Quality of Life Survey - Spring 2019.xlsx \\\n",
    "- Graduate Student Quality of Lif.csv',header=1)\n",
    "# use the same way to clean 2019 data\n",
    "print(data_2019.shape)\n",
    "cleaned_data_2019=response_time(data_2019,200)\n",
    "print(cleaned_data_2019.shape)\n",
    "d2019=numeric_scale(cleaned_data_2019)"
   ]
  },
  {
   "cell_type": "code",
   "execution_count": 43,
   "id": "3e4da046",
   "metadata": {},
   "outputs": [
    {
     "name": "stdout",
     "output_type": "stream",
     "text": [
      "What is your current academic department or institute?\n"
     ]
    },
    {
     "data": {
      "text/plain": [
       "Response.3                                    \n",
       "Industrial Engineering and Operations Research    243\n",
       "Computer Science                                  150\n",
       "Electrical Engineering                            116\n",
       "Civil Engineering and Engineering Mechanics        88\n",
       "Biomedical Engineering                             87\n",
       "Mechanical Engineering                             81\n",
       "Data Science Institute                             70\n",
       "Applied Physics and Applied Mathematics            56\n",
       "Chemical Engineering                               49\n",
       "Earth and Environmental Engineering                38\n",
       "I prefer not to answer.                             9\n",
       "dtype: int64"
      ]
     },
     "execution_count": 43,
     "metadata": {},
     "output_type": "execute_result"
    }
   ],
   "source": [
    "department2019=query_data(Q,qq,d2019,'current academic department',indx=1)\n",
    "department2019.value_counts()\n"
   ]
  },
  {
   "cell_type": "markdown",
   "id": "b8896eed",
   "metadata": {},
   "source": [
    "#### Create Dataset for BMEN only"
   ]
  },
  {
   "cell_type": "code",
   "execution_count": 132,
   "id": "03d291f6",
   "metadata": {},
   "outputs": [],
   "source": [
    "cleaned_data['department']=department\n",
    "cleaned_data['degree']=degree\n",
    "#cleaned_data['gender']=gender\n",
    "#cleaned_data['LGBTQ']=LGBTQ"
   ]
  },
  {
   "cell_type": "code",
   "execution_count": 128,
   "id": "16b3627a",
   "metadata": {},
   "outputs": [
    {
     "name": "stdout",
     "output_type": "stream",
     "text": [
      "Current Academic Program\n",
      "Please indicate the gender(s) with which you identify (check all that apply):\n",
      "Do you identify yourself as part of the LGBTQ community?\n"
     ]
    }
   ],
   "source": [
    "degree2019=query_data(Q,qq,cleaned_data_2019,'Current Academic Program',indx=1)\n",
    "gender2019=query_data(Q,qq,cleaned_data_2019,'gender',indx=3)\n",
    "LGBTQ2019=query_data(Q,qq,cleaned_data_2019,'LGBTQ',indx=1)"
   ]
  },
  {
   "cell_type": "code",
   "execution_count": 133,
   "id": "1afd2306",
   "metadata": {},
   "outputs": [],
   "source": [
    "cleaned_data_2019['department']=department2019\n",
    "cleaned_data_2019['degree']=degree2019\n",
    "#cleaned_data_2019['gender']=gender2019\n",
    "#cleaned_data_2019['LGBTQ']=LGBTQ2019"
   ]
  },
  {
   "cell_type": "code",
   "execution_count": 134,
   "id": "bed45597",
   "metadata": {},
   "outputs": [],
   "source": [
    "df2022=cleaned_data[cleaned_data['department']=='Biomedical Engineering']\n",
    "df2019=cleaned_data_2019[cleaned_data_2019['department']=='Biomedical Engineering']"
   ]
  },
  {
   "cell_type": "markdown",
   "id": "1b9e8f4b",
   "metadata": {},
   "source": [
    "### Satisfaction of Biomedical Engineering Department"
   ]
  },
  {
   "cell_type": "code",
   "execution_count": 51,
   "id": "6c2e3d57",
   "metadata": {},
   "outputs": [
    {
     "name": "stdout",
     "output_type": "stream",
     "text": [
      "I am satisfied with my overall experience at Columbia.\n",
      "I am satisfied with my overall experience at Columbia.\n"
     ]
    }
   ],
   "source": [
    "sat2019=query_data(Q,qq,df2019,'satisfied',indx=1)\n",
    "sat2022=query_data(Q,qq,df2022,'satisfied',indx=1)"
   ]
  },
  {
   "cell_type": "code",
   "execution_count": 60,
   "id": "ec5982eb",
   "metadata": {},
   "outputs": [
    {
     "name": "stdout",
     "output_type": "stream",
     "text": [
      "Mean Satisfaction of 2019 is : 3.828\n",
      "Mean Satisfaction of 2022 is : 3.761\n"
     ]
    }
   ],
   "source": [
    "print(f'Mean Satisfaction of 2019 is : {sat2019.mean().sum():0.3f}')\n",
    "print(f'Mean Satisfaction of 2022 is : {sat2022.mean().sum():0.3f}')"
   ]
  },
  {
   "cell_type": "code",
   "execution_count": 108,
   "id": "b2356395",
   "metadata": {
    "scrolled": true
   },
   "outputs": [
    {
     "data": {
      "text/html": [
       "<div>\n",
       "<style scoped>\n",
       "    .dataframe tbody tr th:only-of-type {\n",
       "        vertical-align: middle;\n",
       "    }\n",
       "\n",
       "    .dataframe tbody tr th {\n",
       "        vertical-align: top;\n",
       "    }\n",
       "\n",
       "    .dataframe thead th {\n",
       "        text-align: right;\n",
       "    }\n",
       "</style>\n",
       "<table border=\"1\" class=\"dataframe\">\n",
       "  <thead>\n",
       "    <tr style=\"text-align: right;\">\n",
       "      <th></th>\n",
       "      <th>2019</th>\n",
       "      <th>2022</th>\n",
       "    </tr>\n",
       "  </thead>\n",
       "  <tbody>\n",
       "    <tr>\n",
       "      <th>1</th>\n",
       "      <td>2</td>\n",
       "      <td>5</td>\n",
       "    </tr>\n",
       "    <tr>\n",
       "      <th>2</th>\n",
       "      <td>5</td>\n",
       "      <td>9</td>\n",
       "    </tr>\n",
       "    <tr>\n",
       "      <th>3</th>\n",
       "      <td>13</td>\n",
       "      <td>22</td>\n",
       "    </tr>\n",
       "    <tr>\n",
       "      <th>4</th>\n",
       "      <td>53</td>\n",
       "      <td>80</td>\n",
       "    </tr>\n",
       "    <tr>\n",
       "      <th>5</th>\n",
       "      <td>14</td>\n",
       "      <td>22</td>\n",
       "    </tr>\n",
       "  </tbody>\n",
       "</table>\n",
       "</div>"
      ],
      "text/plain": [
       "   2019  2022\n",
       "1     2     5\n",
       "2     5     9\n",
       "3    13    22\n",
       "4    53    80\n",
       "5    14    22"
      ]
     },
     "execution_count": 108,
     "metadata": {},
     "output_type": "execute_result"
    }
   ],
   "source": [
    "a=pd.DataFrame(((sat2019.Response.value_counts()).sort_index(ascending=True)))\n",
    "a.rename(columns={\"Response\":'2019'},inplace=True)\n",
    "b=(sat2022.Response.value_counts()).sort_index(ascending=True)\n",
    "a['2022']=(b)\n",
    "a"
   ]
  },
  {
   "cell_type": "code",
   "execution_count": 109,
   "id": "ed076d24",
   "metadata": {
    "scrolled": false
   },
   "outputs": [],
   "source": [
    "aa=a.apply(lambda x: x / x.sum(), axis=0)"
   ]
  },
  {
   "cell_type": "code",
   "execution_count": 114,
   "id": "6bec08f9",
   "metadata": {},
   "outputs": [
    {
     "data": {
      "text/html": [
       "<div>\n",
       "<style scoped>\n",
       "    .dataframe tbody tr th:only-of-type {\n",
       "        vertical-align: middle;\n",
       "    }\n",
       "\n",
       "    .dataframe tbody tr th {\n",
       "        vertical-align: top;\n",
       "    }\n",
       "\n",
       "    .dataframe thead th {\n",
       "        text-align: right;\n",
       "    }\n",
       "</style>\n",
       "<table border=\"1\" class=\"dataframe\">\n",
       "  <thead>\n",
       "    <tr style=\"text-align: right;\">\n",
       "      <th></th>\n",
       "      <th>2019</th>\n",
       "      <th>2022</th>\n",
       "    </tr>\n",
       "  </thead>\n",
       "  <tbody>\n",
       "    <tr>\n",
       "      <th>1</th>\n",
       "      <td>0.022989</td>\n",
       "      <td>0.036232</td>\n",
       "    </tr>\n",
       "    <tr>\n",
       "      <th>2</th>\n",
       "      <td>0.057471</td>\n",
       "      <td>0.065217</td>\n",
       "    </tr>\n",
       "    <tr>\n",
       "      <th>3</th>\n",
       "      <td>0.149425</td>\n",
       "      <td>0.159420</td>\n",
       "    </tr>\n",
       "    <tr>\n",
       "      <th>4</th>\n",
       "      <td>0.609195</td>\n",
       "      <td>0.579710</td>\n",
       "    </tr>\n",
       "    <tr>\n",
       "      <th>5</th>\n",
       "      <td>0.160920</td>\n",
       "      <td>0.159420</td>\n",
       "    </tr>\n",
       "  </tbody>\n",
       "</table>\n",
       "</div>"
      ],
      "text/plain": [
       "       2019      2022\n",
       "1  0.022989  0.036232\n",
       "2  0.057471  0.065217\n",
       "3  0.149425  0.159420\n",
       "4  0.609195  0.579710\n",
       "5  0.160920  0.159420"
      ]
     },
     "execution_count": 114,
     "metadata": {},
     "output_type": "execute_result"
    }
   ],
   "source": [
    "aa"
   ]
  },
  {
   "cell_type": "code",
   "execution_count": 115,
   "id": "3c390bf0",
   "metadata": {},
   "outputs": [],
   "source": [
    "\n",
    "ind=['Strongly agree','Agree','Neither agree \\n nor disagree','Disagree','Strongly disagree'][::-1]\n",
    "aa.rename(index={1:ind[0],2:ind[1],3:ind[2],4:ind[3],5:ind[4]},inplace=True)\n"
   ]
  },
  {
   "cell_type": "code",
   "execution_count": 118,
   "id": "8b545e58",
   "metadata": {},
   "outputs": [
    {
     "data": {
      "image/png": "[encoded data removed]",
      "text/plain": [
       "<Figure size 1200x900 with 1 Axes>"
      ]
     },
     "metadata": {
      "needs_background": "light"
     },
     "output_type": "display_data"
    }
   ],
   "source": [
    "cmap = mpl.cm.Blues(np.linspace(0.4,0.9,100))\n",
    "cmap = mpl.colors.ListedColormap(cmap[10:,:-1])\n",
    "\n",
    "fig,ax=plt.subplots(figsize=(8,6),dpi=150)\n",
    "\n",
    "\n",
    "aa.plot(kind='bar',colormap=cmap,ax=ax)\n",
    "\n",
    "plt.ylabel(\"Proportion\",fontsize=12)\n",
    "plt.xlabel(\"Level of Satisfaction\",fontsize=12)\n",
    "plt.title(\"Overall Student Satisfaction of BMEN\",fontsize=20)\n",
    "plt.xticks(rotation=0)\n",
    "ax.spines['top'].set_visible(False)\n",
    "ax.spines['right'].set_visible(False)\n",
    "ax.spines['bottom'].set_visible(False)\n",
    "ax.spines['left'].set_visible(False)\n",
    "\n"
   ]
  },
  {
   "cell_type": "markdown",
   "id": "ee45d0b1",
   "metadata": {},
   "source": [
    "### "
   ]
  },
  {
   "cell_type": "code",
   "execution_count": null,
   "id": "0d117b35",
   "metadata": {},
   "outputs": [],
   "source": []
  },
  {
   "cell_type": "code",
   "execution_count": null,
   "id": "dc917455",
   "metadata": {},
   "outputs": [],
   "source": []
  },
  {
   "cell_type": "code",
   "execution_count": null,
   "id": "16f9481f",
   "metadata": {},
   "outputs": [],
   "source": []
  },
  {
   "cell_type": "code",
   "execution_count": null,
   "id": "dea6a542",
   "metadata": {},
   "outputs": [],
   "source": []
  },
  {
   "cell_type": "code",
   "execution_count": null,
   "id": "f4e3235c",
   "metadata": {},
   "outputs": [],
   "source": []
  },
  {
   "cell_type": "code",
   "execution_count": null,
   "id": "a5fa51ac",
   "metadata": {},
   "outputs": [],
   "source": []
  },
  {
   "cell_type": "code",
   "execution_count": null,
   "id": "d21cb454",
   "metadata": {},
   "outputs": [],
   "source": []
  },
  {
   "cell_type": "code",
   "execution_count": null,
   "id": "fcca419e",
   "metadata": {},
   "outputs": [],
   "source": []
  },
  {
   "cell_type": "code",
   "execution_count": null,
   "id": "9b8c7722",
   "metadata": {},
   "outputs": [],
   "source": []
  },
  {
   "cell_type": "code",
   "execution_count": null,
   "id": "bf79854a",
   "metadata": {},
   "outputs": [],
   "source": []
  }
 ],
 "metadata": {
  "kernelspec": {
   "display_name": "Python 3 (ipykernel)",
   "language": "python",
   "name": "python3"
  },
  "language_info": {
   "codemirror_mode": {
    "name": "ipython",
    "version": 3
   },
   "file_extension": ".py",
   "mimetype": "text/x-python",
   "name": "python",
   "nbconvert_exporter": "python",
   "pygments_lexer": "ipython3",
   "version": "3.8.12"
  }
 },
 "nbformat": 4,
 "nbformat_minor": 5
}
