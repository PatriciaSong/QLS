{
 "cells": [
  {
   "cell_type": "markdown",
   "id": "401610bd",
   "metadata": {},
   "source": [
    "# Data Cleaning"
   ]
  },
  {
   "cell_type": "code",
   "execution_count": 14,
   "id": "eb75db3b",
   "metadata": {},
   "outputs": [],
   "source": [
    "import pandas as pd\n",
    "import numpy as np\n",
    "import seaborn as sns\n",
    "import matplotlib.cm as cm\n",
    "import matplotlib.pyplot as plt\n",
    "import matplotlib as mpl\n",
    "\n",
    "df = pd.read_csv('data/raw_survey_data_2022.csv',header=1)\n",
    "\n",
    "from datetime import datetime\n",
    "\n",
    "data1=df.iloc[:,1] #DataFrame with start time\n",
    "data2=df.iloc[:,2] #DataFrame with end time\n",
    "data3=df.iloc[:,3:] #DataFrame with data\n",
    "\n",
    "data3[\"time\"]=data2.apply(lambda x: datetime.strptime(x, '%m/%d/%y %H:%M'))-data1.apply(lambda x: datetime.strptime(x, '%m/%d/%y %H:%M'))\n",
    "#(data1.iloc[:,1].values.astype('datetime64[D]')-data1.iloc[:,0].values.astype('datetime64[D]'))\n",
    "\n",
    "                                                                                                    \n",
    "index_time= data3[\"time\"].apply(lambda x: x/np.timedelta64(1, 's'))\n",
    "\n",
    "data3['clean']=(index_time>200)&(data3.iloc[:,176-3]=='2')&(data3.iloc[:,306-3]=='4')\n",
    "\n",
    "df=data3.loc[data3.clean==True].iloc[:,:-2]\n",
    "df.shape\n",
    "\n",
    "n = 1271\n",
    "\n"
   ]
  },
  {
   "cell_type": "code",
   "execution_count": 20,
   "id": "f47a82bc",
   "metadata": {},
   "outputs": [],
   "source": [
    "df = df.rename(columns={df.columns.tolist()[67]:'department'})\n",
    "df = df[df.department == 'Biomedical Engineering']\n",
    "df.shape\n",
    "\n",
    "n = 138"
   ]
  },
  {
   "cell_type": "code",
   "execution_count": 126,
   "id": "9c0837b8",
   "metadata": {},
   "outputs": [
    {
     "data": {
      "text/plain": [
       "(87, 345)"
      ]
     },
     "execution_count": 126,
     "metadata": {},
     "output_type": "execute_result"
    }
   ],
   "source": [
    "df2019 = pd.read_csv('/Users/lizhenni/Documents/MAZhenniLi/QoL/Copy of de-identified Graduate Student Quality of Life Survey - Spring 2019.xlsx - Graduate Student Quality of Lif.csv', header=0)\n",
    "df2019 = df2019.rename(columns={df2019.columns.tolist()[70]:'department'})\n",
    "df2019 = df2019[df2019.department == 'Biomedical Engineering']\n",
    "df2019.shape"
   ]
  },
  {
   "cell_type": "code",
   "execution_count": 28,
   "id": "a59cc653",
   "metadata": {},
   "outputs": [
    {
     "data": {
      "text/html": [
       "<div>\n",
       "<style scoped>\n",
       "    .dataframe tbody tr th:only-of-type {\n",
       "        vertical-align: middle;\n",
       "    }\n",
       "\n",
       "    .dataframe tbody tr th {\n",
       "        vertical-align: top;\n",
       "    }\n",
       "\n",
       "    .dataframe thead th {\n",
       "        text-align: right;\n",
       "    }\n",
       "</style>\n",
       "<table border=\"1\" class=\"dataframe\">\n",
       "  <thead>\n",
       "    <tr style=\"text-align: right;\">\n",
       "      <th></th>\n",
       "      <th>Response</th>\n",
       "      <th>Academics</th>\n",
       "      <th>Mental health</th>\n",
       "      <th>Physical health</th>\n",
       "      <th>Professional development</th>\n",
       "      <th>Social life</th>\n",
       "      <th>Career Placement Team</th>\n",
       "      <th>Housing</th>\n",
       "      <th>Intercampus Shuttle/Via Service</th>\n",
       "      <th>Library services</th>\n",
       "      <th>...</th>\n",
       "      <th>Prefer to self-describe</th>\n",
       "      <th>Response.51</th>\n",
       "      <th>Response.52</th>\n",
       "      <th>Other (please specify).8</th>\n",
       "      <th>Response.53</th>\n",
       "      <th>Other (please specify).9</th>\n",
       "      <th>Response.54</th>\n",
       "      <th>Response.55</th>\n",
       "      <th>Response.56</th>\n",
       "      <th>Open-Ended Response.15</th>\n",
       "    </tr>\n",
       "  </thead>\n",
       "  <tbody>\n",
       "    <tr>\n",
       "      <th>0</th>\n",
       "      <td>Agree</td>\n",
       "      <td>Strongly agree</td>\n",
       "      <td>Agree</td>\n",
       "      <td>Agree</td>\n",
       "      <td>Agree</td>\n",
       "      <td>Agree</td>\n",
       "      <td>Agree</td>\n",
       "      <td>Neither agree nor disagree</td>\n",
       "      <td>Neither agree nor disagree</td>\n",
       "      <td>Agree</td>\n",
       "      <td>...</td>\n",
       "      <td>NaN</td>\n",
       "      <td>No</td>\n",
       "      <td>Multiracial background</td>\n",
       "      <td>NaN</td>\n",
       "      <td>Jamaica (NA)</td>\n",
       "      <td>NaN</td>\n",
       "      <td>less than 18</td>\n",
       "      <td>Yes</td>\n",
       "      <td>Yes</td>\n",
       "      <td>NaN</td>\n",
       "    </tr>\n",
       "    <tr>\n",
       "      <th>16</th>\n",
       "      <td>Strongly agree</td>\n",
       "      <td>Strongly agree</td>\n",
       "      <td>Strongly agree</td>\n",
       "      <td>Strongly agree</td>\n",
       "      <td>Strongly agree</td>\n",
       "      <td>Strongly agree</td>\n",
       "      <td>Strongly agree</td>\n",
       "      <td>Neither agree nor disagree</td>\n",
       "      <td>Neither agree nor disagree</td>\n",
       "      <td>Strongly agree</td>\n",
       "      <td>...</td>\n",
       "      <td>NaN</td>\n",
       "      <td>No</td>\n",
       "      <td>East Asian</td>\n",
       "      <td>NaN</td>\n",
       "      <td>China (AS)</td>\n",
       "      <td>NaN</td>\n",
       "      <td>24-26</td>\n",
       "      <td>No</td>\n",
       "      <td>No</td>\n",
       "      <td>NaN</td>\n",
       "    </tr>\n",
       "    <tr>\n",
       "      <th>17</th>\n",
       "      <td>Neither agree or disagree</td>\n",
       "      <td>Disagree</td>\n",
       "      <td>Disagree</td>\n",
       "      <td>Disagree</td>\n",
       "      <td>Disagree</td>\n",
       "      <td>Agree</td>\n",
       "      <td>Disagree</td>\n",
       "      <td>Disagree</td>\n",
       "      <td>Disagree</td>\n",
       "      <td>Disagree</td>\n",
       "      <td>...</td>\n",
       "      <td>NaN</td>\n",
       "      <td>No</td>\n",
       "      <td>Middle Eastern and North African</td>\n",
       "      <td>NaN</td>\n",
       "      <td>United States (NA)</td>\n",
       "      <td>NaN</td>\n",
       "      <td>21-23</td>\n",
       "      <td>Yes</td>\n",
       "      <td>Yes</td>\n",
       "      <td>THERE NEEDS TO BE A MICROWAVE IN MUDD, ADDITIO...</td>\n",
       "    </tr>\n",
       "    <tr>\n",
       "      <th>22</th>\n",
       "      <td>Neither agree or disagree</td>\n",
       "      <td>Agree</td>\n",
       "      <td>Neither agree nor disagree</td>\n",
       "      <td>Neither agree nor disagree</td>\n",
       "      <td>Agree</td>\n",
       "      <td>Disagree</td>\n",
       "      <td>Neither agree nor disagree</td>\n",
       "      <td>Neither agree nor disagree</td>\n",
       "      <td>Neither agree nor disagree</td>\n",
       "      <td>Neither agree nor disagree</td>\n",
       "      <td>...</td>\n",
       "      <td>NaN</td>\n",
       "      <td>No</td>\n",
       "      <td>Non-Hispanic White</td>\n",
       "      <td>NaN</td>\n",
       "      <td>United States (NA)</td>\n",
       "      <td>NaN</td>\n",
       "      <td>21-23</td>\n",
       "      <td>No</td>\n",
       "      <td>Yes</td>\n",
       "      <td>NaN</td>\n",
       "    </tr>\n",
       "    <tr>\n",
       "      <th>49</th>\n",
       "      <td>Disagree</td>\n",
       "      <td>Disagree</td>\n",
       "      <td>Agree</td>\n",
       "      <td>Disagree</td>\n",
       "      <td>Disagree</td>\n",
       "      <td>Disagree</td>\n",
       "      <td>Agree</td>\n",
       "      <td>Strongly disagree</td>\n",
       "      <td>Agree</td>\n",
       "      <td>Disagree</td>\n",
       "      <td>...</td>\n",
       "      <td>NaN</td>\n",
       "      <td>No</td>\n",
       "      <td>South Asian</td>\n",
       "      <td>NaN</td>\n",
       "      <td>NaN</td>\n",
       "      <td>NaN</td>\n",
       "      <td>24-26</td>\n",
       "      <td>Yes</td>\n",
       "      <td>Yes</td>\n",
       "      <td>NaN</td>\n",
       "    </tr>\n",
       "    <tr>\n",
       "      <th>64</th>\n",
       "      <td>Agree</td>\n",
       "      <td>Strongly agree</td>\n",
       "      <td>Disagree</td>\n",
       "      <td>Strongly disagree</td>\n",
       "      <td>Neither agree nor disagree</td>\n",
       "      <td>Neither agree nor disagree</td>\n",
       "      <td>Neither agree nor disagree</td>\n",
       "      <td>Disagree</td>\n",
       "      <td>Neither agree nor disagree</td>\n",
       "      <td>Neither agree nor disagree</td>\n",
       "      <td>...</td>\n",
       "      <td>NaN</td>\n",
       "      <td>No</td>\n",
       "      <td>Middle Eastern and North African</td>\n",
       "      <td>NaN</td>\n",
       "      <td>Iran (AS)</td>\n",
       "      <td>NaN</td>\n",
       "      <td>24-26</td>\n",
       "      <td>Yes</td>\n",
       "      <td>Yes</td>\n",
       "      <td>NaN</td>\n",
       "    </tr>\n",
       "    <tr>\n",
       "      <th>75</th>\n",
       "      <td>Agree</td>\n",
       "      <td>Agree</td>\n",
       "      <td>Disagree</td>\n",
       "      <td>Disagree</td>\n",
       "      <td>Disagree</td>\n",
       "      <td>Agree</td>\n",
       "      <td>Strongly disagree</td>\n",
       "      <td>Disagree</td>\n",
       "      <td>Agree</td>\n",
       "      <td>Agree</td>\n",
       "      <td>...</td>\n",
       "      <td>NaN</td>\n",
       "      <td>No</td>\n",
       "      <td>Middle Eastern and North African</td>\n",
       "      <td>NaN</td>\n",
       "      <td>Iran (AS)</td>\n",
       "      <td>NaN</td>\n",
       "      <td>30-32</td>\n",
       "      <td>No</td>\n",
       "      <td>No</td>\n",
       "      <td>NaN</td>\n",
       "    </tr>\n",
       "    <tr>\n",
       "      <th>106</th>\n",
       "      <td>Agree</td>\n",
       "      <td>Agree</td>\n",
       "      <td>Neither agree nor disagree</td>\n",
       "      <td>Neither agree nor disagree</td>\n",
       "      <td>Agree</td>\n",
       "      <td>Agree</td>\n",
       "      <td>Neither agree nor disagree</td>\n",
       "      <td>Disagree</td>\n",
       "      <td>Agree</td>\n",
       "      <td>Agree</td>\n",
       "      <td>...</td>\n",
       "      <td>NaN</td>\n",
       "      <td>Yes</td>\n",
       "      <td>East Asian</td>\n",
       "      <td>NaN</td>\n",
       "      <td>I prefer not to answer.</td>\n",
       "      <td>NaN</td>\n",
       "      <td>27-29</td>\n",
       "      <td>No</td>\n",
       "      <td>No</td>\n",
       "      <td>NaN</td>\n",
       "    </tr>\n",
       "    <tr>\n",
       "      <th>111</th>\n",
       "      <td>Agree</td>\n",
       "      <td>Agree</td>\n",
       "      <td>Agree</td>\n",
       "      <td>Agree</td>\n",
       "      <td>Agree</td>\n",
       "      <td>Agree</td>\n",
       "      <td>Neither agree nor disagree</td>\n",
       "      <td>Disagree</td>\n",
       "      <td>Agree</td>\n",
       "      <td>Agree</td>\n",
       "      <td>...</td>\n",
       "      <td>NaN</td>\n",
       "      <td>No</td>\n",
       "      <td>Non-Hispanic White</td>\n",
       "      <td>NaN</td>\n",
       "      <td>France (EU)</td>\n",
       "      <td>NaN</td>\n",
       "      <td>21-23</td>\n",
       "      <td>No</td>\n",
       "      <td>No</td>\n",
       "      <td>1) off campus housing is a great way to be sca...</td>\n",
       "    </tr>\n",
       "    <tr>\n",
       "      <th>139</th>\n",
       "      <td>Neither agree or disagree</td>\n",
       "      <td>Neither agree nor disagree</td>\n",
       "      <td>Strongly disagree</td>\n",
       "      <td>Disagree</td>\n",
       "      <td>Neither agree nor disagree</td>\n",
       "      <td>Agree</td>\n",
       "      <td>Neither agree nor disagree</td>\n",
       "      <td>Agree</td>\n",
       "      <td>Agree</td>\n",
       "      <td>Neither agree nor disagree</td>\n",
       "      <td>...</td>\n",
       "      <td>NaN</td>\n",
       "      <td>No</td>\n",
       "      <td>Middle Eastern and North African</td>\n",
       "      <td>NaN</td>\n",
       "      <td>Iran (AS)</td>\n",
       "      <td>NaN</td>\n",
       "      <td>30-32</td>\n",
       "      <td>No</td>\n",
       "      <td>No</td>\n",
       "      <td>NaN</td>\n",
       "    </tr>\n",
       "  </tbody>\n",
       "</table>\n",
       "<p>10 rows × 348 columns</p>\n",
       "</div>"
      ],
      "text/plain": [
       "                      Response                   Academics  \\\n",
       "0                        Agree              Strongly agree   \n",
       "16              Strongly agree              Strongly agree   \n",
       "17   Neither agree or disagree                    Disagree   \n",
       "22   Neither agree or disagree                       Agree   \n",
       "49                    Disagree                    Disagree   \n",
       "64                       Agree              Strongly agree   \n",
       "75                       Agree                       Agree   \n",
       "106                      Agree                       Agree   \n",
       "111                      Agree                       Agree   \n",
       "139  Neither agree or disagree  Neither agree nor disagree   \n",
       "\n",
       "                  Mental health             Physical health  \\\n",
       "0                         Agree                       Agree   \n",
       "16               Strongly agree              Strongly agree   \n",
       "17                     Disagree                    Disagree   \n",
       "22   Neither agree nor disagree  Neither agree nor disagree   \n",
       "49                        Agree                    Disagree   \n",
       "64                     Disagree           Strongly disagree   \n",
       "75                     Disagree                    Disagree   \n",
       "106  Neither agree nor disagree  Neither agree nor disagree   \n",
       "111                       Agree                       Agree   \n",
       "139           Strongly disagree                    Disagree   \n",
       "\n",
       "       Professional development                 Social life  \\\n",
       "0                         Agree                       Agree   \n",
       "16               Strongly agree              Strongly agree   \n",
       "17                     Disagree                       Agree   \n",
       "22                        Agree                    Disagree   \n",
       "49                     Disagree                    Disagree   \n",
       "64   Neither agree nor disagree  Neither agree nor disagree   \n",
       "75                     Disagree                       Agree   \n",
       "106                       Agree                       Agree   \n",
       "111                       Agree                       Agree   \n",
       "139  Neither agree nor disagree                       Agree   \n",
       "\n",
       "          Career Placement Team                     Housing  \\\n",
       "0                         Agree  Neither agree nor disagree   \n",
       "16               Strongly agree  Neither agree nor disagree   \n",
       "17                     Disagree                    Disagree   \n",
       "22   Neither agree nor disagree  Neither agree nor disagree   \n",
       "49                        Agree           Strongly disagree   \n",
       "64   Neither agree nor disagree                    Disagree   \n",
       "75            Strongly disagree                    Disagree   \n",
       "106  Neither agree nor disagree                    Disagree   \n",
       "111  Neither agree nor disagree                    Disagree   \n",
       "139  Neither agree nor disagree                       Agree   \n",
       "\n",
       "    Intercampus Shuttle/Via Service            Library services  ...  \\\n",
       "0        Neither agree nor disagree                       Agree  ...   \n",
       "16       Neither agree nor disagree              Strongly agree  ...   \n",
       "17                         Disagree                    Disagree  ...   \n",
       "22       Neither agree nor disagree  Neither agree nor disagree  ...   \n",
       "49                            Agree                    Disagree  ...   \n",
       "64       Neither agree nor disagree  Neither agree nor disagree  ...   \n",
       "75                            Agree                       Agree  ...   \n",
       "106                           Agree                       Agree  ...   \n",
       "111                           Agree                       Agree  ...   \n",
       "139                           Agree  Neither agree nor disagree  ...   \n",
       "\n",
       "    Prefer to self-describe Response.51                       Response.52  \\\n",
       "0                       NaN          No            Multiracial background   \n",
       "16                      NaN          No                        East Asian   \n",
       "17                      NaN          No  Middle Eastern and North African   \n",
       "22                      NaN          No                Non-Hispanic White   \n",
       "49                      NaN          No                       South Asian   \n",
       "64                      NaN          No  Middle Eastern and North African   \n",
       "75                      NaN          No  Middle Eastern and North African   \n",
       "106                     NaN         Yes                        East Asian   \n",
       "111                     NaN          No                Non-Hispanic White   \n",
       "139                     NaN          No  Middle Eastern and North African   \n",
       "\n",
       "    Other (please specify).8              Response.53  \\\n",
       "0                        NaN             Jamaica (NA)   \n",
       "16                       NaN               China (AS)   \n",
       "17                       NaN       United States (NA)   \n",
       "22                       NaN       United States (NA)   \n",
       "49                       NaN                      NaN   \n",
       "64                       NaN                Iran (AS)   \n",
       "75                       NaN                Iran (AS)   \n",
       "106                      NaN  I prefer not to answer.   \n",
       "111                      NaN              France (EU)   \n",
       "139                      NaN                Iran (AS)   \n",
       "\n",
       "    Other (please specify).9   Response.54 Response.55 Response.56  \\\n",
       "0                        NaN  less than 18         Yes         Yes   \n",
       "16                       NaN         24-26          No          No   \n",
       "17                       NaN         21-23         Yes         Yes   \n",
       "22                       NaN         21-23          No         Yes   \n",
       "49                       NaN         24-26         Yes         Yes   \n",
       "64                       NaN         24-26         Yes         Yes   \n",
       "75                       NaN         30-32          No          No   \n",
       "106                      NaN         27-29          No          No   \n",
       "111                      NaN         21-23          No          No   \n",
       "139                      NaN         30-32          No          No   \n",
       "\n",
       "                                Open-Ended Response.15  \n",
       "0                                                  NaN  \n",
       "16                                                 NaN  \n",
       "17   THERE NEEDS TO BE A MICROWAVE IN MUDD, ADDITIO...  \n",
       "22                                                 NaN  \n",
       "49                                                 NaN  \n",
       "64                                                 NaN  \n",
       "75                                                 NaN  \n",
       "106                                                NaN  \n",
       "111  1) off campus housing is a great way to be sca...  \n",
       "139                                                NaN  \n",
       "\n",
       "[10 rows x 348 columns]"
      ]
     },
     "execution_count": 28,
     "metadata": {},
     "output_type": "execute_result"
    }
   ],
   "source": [
    "df.head(10)"
   ]
  },
  {
   "cell_type": "markdown",
   "id": "10e10f03",
   "metadata": {},
   "source": [
    "## funcs"
   ]
  },
  {
   "cell_type": "code",
   "execution_count": 137,
   "id": "07cadc24",
   "metadata": {},
   "outputs": [],
   "source": [
    "def count_score(s):\n",
    "    return ((len(s[s=='Very satisfied'])*5+\\\n",
    "    len(s[s=='Satisfied'])*4+\\\n",
    "    len(s[s=='Neither satisfied nor dissatisfied'])*3+\\\n",
    "    len(s[s=='Dissatisfied'])*2+\\\n",
    "    len(s[s=='Very dissatisfied']))/len(s))"
   ]
  },
  {
   "cell_type": "code",
   "execution_count": 30,
   "id": "d7ac8ac7",
   "metadata": {},
   "outputs": [],
   "source": [
    "# agree_index = ['Strongly agree', 'Agree', 'Neutral', 'Disagree', 'Strongly disagree']\n",
    "agree_index = ['Strongly disagree', 'Disagree', 'Neutral', 'Agree', 'Strongly agree']\n",
    "\n",
    "def count_proportion(s):\n",
    "    s_n = s.notna().sum()\n",
    "    \n",
    "    sa = s[s=='Strongly agree'].count() / s_n * 100\n",
    "    a = s[s=='Agree'].count() / s_n * 100\n",
    "    n = s[s=='Neither agree nor disagree'].count() / s_n * 100\n",
    "    d = s[s=='Disagree'].count() / s_n * 100\n",
    "    sd = s[s=='Strongly disagree'].count() / s_n * 100\n",
    "    \n",
    "    result = pd.Series(data=[sd, d, n, a, sa], \n",
    "                       index=agree_index)\n",
    "    return(result)"
   ]
  },
  {
   "cell_type": "code",
   "execution_count": 31,
   "id": "a1f53e2b",
   "metadata": {},
   "outputs": [],
   "source": [
    "agree_index_6 = ['Strongly disagree', 'Disagree', 'Neutral', 'Agree', 'Strongly agree', 'Not Applicable']\n",
    "\n",
    "def count_proportion_6(s):\n",
    "    s_n = s.notna().sum()\n",
    "    sa = s[s=='Strongly agree'].count() / s_n * 100\n",
    "    a = s[s=='Agree'].count() / s_n * 100\n",
    "    n = s[s=='Neither agree nor disagree'].count() / s_n * 100\n",
    "    d = s[s=='Disagree'].count() / s_n * 100\n",
    "    sd = s[s=='Strongly disagree'].count() / s_n * 100\n",
    "    na = s[s=='Not Applicable'].count() / s_n * 100\n",
    "    result = pd.Series(data=[sd, d, n, a, sa, na], \n",
    "                       index=agree_index_6)\n",
    "    return(result)"
   ]
  },
  {
   "cell_type": "code",
   "execution_count": 32,
   "id": "79e937b5",
   "metadata": {},
   "outputs": [],
   "source": [
    "def stack_func(t, xlabel, ylabel, title, index):\n",
    "    print(t)\n",
    "    print('\\n')\n",
    "    cmap = mpl.cm.Blues_r(np.linspace(0,0.9,100))\n",
    "    cmap = mpl.colors.ListedColormap(cmap[10:,:-1])\n",
    "\n",
    "    t_prop = t.apply(lambda x: x / x.sum(), axis=0)\n",
    "    print(t_prop)\n",
    "    print('\\n')\n",
    "#     t_a = t.sort_index().T\n",
    "    t_a = t.T\n",
    "    print(t_a)\n",
    "    print('\\n')\n",
    "#     t_b = t_prop.sort_index().T\n",
    "    t_b = t_prop.T\n",
    "    print(t_b)\n",
    "\n",
    "    # stack chart\n",
    "\n",
    "    fig,ax = plt.subplots(figsize=(8,6), dpi=150)\n",
    "    t.T.plot(kind='barh', \n",
    "                          stacked=True, \n",
    "                          colormap='Blues', \n",
    "                          figsize=(10,6), \n",
    "                          ax=ax)\n",
    "    plt.legend(index[::1], bbox_to_anchor=(1.05,1), loc=2, borderaxespad=0., ncol=1)\n",
    "\n",
    "    plt.ylabel(ylabel)\n",
    "    plt.xlabel(xlabel)\n",
    "    plt.title(title, fontsize=20)\n",
    "\n",
    "    for n, x in enumerate([*t.columns]):\n",
    "        m=5\n",
    "        for (proportion, count, y_loc) in zip(t_b.loc[x],\n",
    "                                              t_a.loc[x],\n",
    "                                              t_b.loc[x].cumsum()):\n",
    "\n",
    "            if m<3:\n",
    "                plt.text(x=(y_loc-0.5*proportion)*100-1,\n",
    "                         y=n - 0.11,\n",
    "                         s=f'{str(count).split(\".\")[0]}%', \n",
    "                         color=\"white\",\n",
    "                         fontsize=8,\n",
    "                         fontweight=\"bold\")\n",
    "            if m>=3:\n",
    "                plt.text(x=(y_loc-proportion*0.5)*100-1,\n",
    "                         y=n - 0.11,\n",
    "                         s=f'{str(count).split(\".\")[0]}%', \n",
    "                         color=\"black\",\n",
    "                         fontsize=8,\n",
    "                         fontweight=\"bold\")\n",
    "            m-=1\n",
    "            \n",
    "    ax.spines['top'].set_visible(False)\n",
    "    ax.spines['right'].set_visible(False)\n",
    "    ax.spines['bottom'].set_visible(False)\n",
    "    ax.spines['left'].set_visible(False)\n",
    "\n",
    "    plt.show()"
   ]
  },
  {
   "cell_type": "markdown",
   "id": "8ef6ee7c",
   "metadata": {},
   "source": [
    "# Overview - Demographics"
   ]
  },
  {
   "cell_type": "markdown",
   "id": "8ad7da67",
   "metadata": {},
   "source": [
    "## Gender"
   ]
  },
  {
   "cell_type": "code",
   "execution_count": 67,
   "id": "7c81026d",
   "metadata": {},
   "outputs": [
    {
     "name": "stdout",
     "output_type": "stream",
     "text": [
      "Female                                            86\n",
      "Male                                              46\n",
      "Non-binary                                         5\n",
      "Do not identify as female, male, or non-binary     0\n",
      "I prefer not to answer                             2\n",
      "Prefer to self-describe                            0\n",
      "dtype: int64\n"
     ]
    }
   ],
   "source": [
    "gender = df[[\"Female\", \"Male\", \"Non-binary\", \"Do not identify as female, male, or non-binary\", \n",
    "             \"I prefer not to answer\", \"Prefer to self-describe\"]]\n",
    "\n",
    "gender.dropna(how=\"all\")\n",
    "print(gender.count())\n",
    "\n",
    "num_f = 86\n",
    "num_m = 46"
   ]
  },
  {
   "cell_type": "code",
   "execution_count": 36,
   "id": "18be9236",
   "metadata": {},
   "outputs": [
    {
     "data": {
      "text/plain": [
       "Series([], Name: Prefer to self-describe, dtype: int64)"
      ]
     },
     "execution_count": 36,
     "metadata": {},
     "output_type": "execute_result"
    }
   ],
   "source": [
    "gender[\"Prefer to self-describe\"].value_counts()"
   ]
  },
  {
   "cell_type": "code",
   "execution_count": 43,
   "id": "898475df",
   "metadata": {},
   "outputs": [
    {
     "data": {
      "text/plain": [
       "<AxesSubplot:ylabel='None'>"
      ]
     },
     "execution_count": 43,
     "metadata": {},
     "output_type": "execute_result"
    },
    {
     "data": {
      "image/png": "[encoded data removed]",
      "text/plain": [
       "<Figure size 432x288 with 1 Axes>"
      ]
     },
     "metadata": {},
     "output_type": "display_data"
    }
   ],
   "source": [
    "gender_plot = pd.Series([46, 85, 2, 5, 0], \n",
    "                        index=[\"Male\", \"Female\", \"Prefer not to say\", \"Non-binary\", \"Self-describe\"])\n",
    "gender_plot.plot(kind=\"pie\")"
   ]
  },
  {
   "cell_type": "code",
   "execution_count": 44,
   "id": "a00ebf10",
   "metadata": {},
   "outputs": [
    {
     "data": {
      "text/plain": [
       "Female        85\n",
       "Male          46\n",
       "Non-binary     5\n",
       "Not to say     2\n",
       "Name: gender, dtype: int64"
      ]
     },
     "execution_count": 44,
     "metadata": {},
     "output_type": "execute_result"
    }
   ],
   "source": [
    "# merge to one column\n",
    "df.loc[df.Female.notna(), 'gender'] = 'Female'\n",
    "df.loc[df.Male.notna(),'gender'] = 'Male'\n",
    "df.loc[df['Non-binary'].notna(),'gender'] = 'Non-binary'\n",
    "df.loc[df['I prefer not to answer'].notna(),'gender'] = 'Not to say'\n",
    "\n",
    "df.drop([\"Female\", \"Male\", \"Non-binary\", \"Do not identify as female, male, or non-binary\", \n",
    "         \"I prefer not to answer\", \"Prefer to self-describe\"], axis=1)\n",
    "df.gender.value_counts()"
   ]
  },
  {
   "cell_type": "markdown",
   "id": "f95c33b4",
   "metadata": {},
   "source": [
    "## Degree"
   ]
  },
  {
   "cell_type": "code",
   "execution_count": 45,
   "id": "b9d23c55",
   "metadata": {},
   "outputs": [
    {
     "name": "stdout",
     "output_type": "stream",
     "text": [
      "Master of Science (M.S.)        0.536232\n",
      "Doctor of Philosophy (Ph.D.)    0.311594\n",
      "M.S. leading to Ph.D.           0.152174\n",
      "Name: degree, dtype: float64\n",
      "Master of Science (M.S.)        74\n",
      "Doctor of Philosophy (Ph.D.)    43\n",
      "M.S. leading to Ph.D.           21\n",
      "Name: degree, dtype: int64\n"
     ]
    }
   ],
   "source": [
    "degree = df.iloc[:, 68]\n",
    "print(degree.value_counts() / n)\n",
    "print(degree.value_counts())\n",
    "\n",
    "# df.columns.values[68] = \"degree\"\n",
    "# can't access a column with the new name after 'renaming'\n",
    "df = df.rename(columns={df.columns.tolist()[68]:'degree'});"
   ]
  },
  {
   "cell_type": "code",
   "execution_count": 46,
   "id": "7c971c10",
   "metadata": {},
   "outputs": [
    {
     "data": {
      "text/plain": [
       "<AxesSubplot:ylabel='degree'>"
      ]
     },
     "execution_count": 46,
     "metadata": {},
     "output_type": "execute_result"
    },
    {
     "data": {
      "image/png": "[encoded data removed]",
      "text/plain": [
       "<Figure size 432x288 with 1 Axes>"
      ]
     },
     "metadata": {},
     "output_type": "display_data"
    }
   ],
   "source": [
    "degree.value_counts().plot(kind='pie')"
   ]
  },
  {
   "cell_type": "markdown",
   "id": "52ee246a",
   "metadata": {},
   "source": [
    "## Department"
   ]
  },
  {
   "cell_type": "code",
   "execution_count": 47,
   "id": "f16851a4",
   "metadata": {},
   "outputs": [
    {
     "data": {
      "text/plain": [
       "Biomedical Engineering    138\n",
       "Name: department, dtype: int64"
      ]
     },
     "execution_count": 47,
     "metadata": {},
     "output_type": "execute_result"
    }
   ],
   "source": [
    "# df = df.rename(columns={df.columns.tolist()[67]:'department'})\n",
    "\n",
    "df.department.value_counts()"
   ]
  },
  {
   "cell_type": "markdown",
   "id": "9f523be3",
   "metadata": {},
   "source": [
    "## Semesters"
   ]
  },
  {
   "cell_type": "code",
   "execution_count": 48,
   "id": "01ddac95",
   "metadata": {},
   "outputs": [
    {
     "data": {
      "text/plain": [
       "1 semester                 50\n",
       "2 semesters                29\n",
       "3 semesters                11\n",
       "7 semesters                 9\n",
       "5 semesters                 8\n",
       "4 semesters                 7\n",
       "10 semesters or more        7\n",
       "6 semesters                 6\n",
       "8 semesters                 5\n",
       "less than 1                 4\n",
       "9 semesters                 1\n",
       "I prefer not to answer.     1\n",
       "Name: semester, dtype: int64"
      ]
     },
     "execution_count": 48,
     "metadata": {},
     "output_type": "execute_result"
    }
   ],
   "source": [
    "df = df.rename(columns={df.columns.tolist()[66]:'semester'})\n",
    "\n",
    "df.semester.value_counts()"
   ]
  },
  {
   "cell_type": "code",
   "execution_count": 49,
   "id": "dea3ab13",
   "metadata": {},
   "outputs": [
    {
     "data": {
      "text/plain": [
       "<AxesSubplot:ylabel='semester'>"
      ]
     },
     "execution_count": 49,
     "metadata": {},
     "output_type": "execute_result"
    },
    {
     "data": {
      "image/png": "[encoded data removed]",
      "text/plain": [
       "<Figure size 432x288 with 1 Axes>"
      ]
     },
     "metadata": {},
     "output_type": "display_data"
    }
   ],
   "source": [
    "df.semester.value_counts().plot(kind='pie')"
   ]
  },
  {
   "cell_type": "markdown",
   "id": "9848f959",
   "metadata": {},
   "source": [
    "# Housing"
   ]
  },
  {
   "cell_type": "code",
   "execution_count": 50,
   "id": "1487233f",
   "metadata": {},
   "outputs": [
    {
     "data": {
      "text/plain": [
       "Index(['Response.35', 'Response.36', 'Response.37', 'Open-Ended Response.12',\n",
       "       'Helpfulness of building superintendent',\n",
       "       'Helpfulness of door attendant', 'Apartment renovations',\n",
       "       'Building maintenance (regular cleaning, intercoms, elevators, etc.)',\n",
       "       'Building Security', 'Cost.1', 'Quality of Internet Service',\n",
       "       'Response.38', 'Unavailability of Columbia Residential units',\n",
       "       'Housing cost', 'Housing location', 'Choice of accommodation(s)',\n",
       "       'Choice of roommate(s)', 'Not Applicable', 'Other (please specify).5',\n",
       "       'Response.39', 'Response.40', 'Open-Ended Response.13'],\n",
       "      dtype='object')"
      ]
     },
     "execution_count": 50,
     "metadata": {},
     "output_type": "execute_result"
    }
   ],
   "source": [
    "housing = df.iloc[:, 274:296]\n",
    "housing.columns"
   ]
  },
  {
   "cell_type": "markdown",
   "id": "8f8c0885",
   "metadata": {},
   "source": [
    "### Helpfulness of Columbia with Housing Issues"
   ]
  },
  {
   "cell_type": "code",
   "execution_count": 52,
   "id": "e720cc21",
   "metadata": {},
   "outputs": [
    {
     "data": {
      "text/plain": [
       "Agree                         17\n",
       "I never faced an issue         9\n",
       "Neither agree nor disagree     8\n",
       "Strongly agree                 7\n",
       "Disagree                       4\n",
       "Strongly disagree              4\n",
       "Name: Response.38, dtype: int64"
      ]
     },
     "execution_count": 52,
     "metadata": {},
     "output_type": "execute_result"
    }
   ],
   "source": [
    "helpfulness_h = df['Response.38']\n",
    "helpfulness_h.value_counts()"
   ]
  },
  {
   "cell_type": "code",
   "execution_count": 57,
   "id": "f6d1f3a5",
   "metadata": {},
   "outputs": [
    {
     "data": {
      "text/plain": [
       "<AxesSubplot:ylabel='Response.38'>"
      ]
     },
     "execution_count": 57,
     "metadata": {},
     "output_type": "execute_result"
    },
    {
     "data": {
      "image/png": "[encoded data removed]",
      "text/plain": [
       "<Figure size 432x288 with 1 Axes>"
      ]
     },
     "metadata": {},
     "output_type": "display_data"
    }
   ],
   "source": [
    "helpfulness_h.value_counts().plot(kind='pie')"
   ]
  },
  {
   "cell_type": "code",
   "execution_count": 59,
   "id": "6e293f1a",
   "metadata": {},
   "outputs": [
    {
     "data": {
      "text/plain": [
       "Strongly agree                10\n",
       "Agree                         10\n",
       "Neither agree nor disagree     7\n",
       "Disagree                       5\n",
       "I never faced an issue         4\n",
       "Strongly disagree              1\n",
       "Name: Response.37, dtype: int64"
      ]
     },
     "execution_count": 59,
     "metadata": {},
     "output_type": "execute_result"
    }
   ],
   "source": [
    "# 2019\n",
    "helpfulness_h2019 = df2019['Response.37']\n",
    "helpfulness_h2019.value_counts() "
   ]
  },
  {
   "cell_type": "code",
   "execution_count": 60,
   "id": "9a863331",
   "metadata": {},
   "outputs": [
    {
     "data": {
      "text/plain": [
       "<AxesSubplot:ylabel='Response.37'>"
      ]
     },
     "execution_count": 60,
     "metadata": {},
     "output_type": "execute_result"
    },
    {
     "data": {
      "image/png": "[encoded data removed]",
      "text/plain": [
       "<Figure size 432x288 with 1 Axes>"
      ]
     },
     "metadata": {},
     "output_type": "display_data"
    }
   ],
   "source": [
    "helpfulness_h2019.value_counts().plot(kind='pie')"
   ]
  },
  {
   "cell_type": "markdown",
   "id": "2a6e6dad",
   "metadata": {},
   "source": [
    "### Location"
   ]
  },
  {
   "cell_type": "code",
   "execution_count": 54,
   "id": "f8ec7ff1",
   "metadata": {},
   "outputs": [
    {
     "name": "stdout",
     "output_type": "stream",
     "text": [
      "Off-campus                                                                     0.644928\n",
      "Columbia Residential (formerly known as University Apartment Housing (UAH))    0.355072\n",
      "Name: location, dtype: float64\n",
      "Off-campus                                                                     89\n",
      "Columbia Residential (formerly known as University Apartment Housing (UAH))    49\n",
      "Name: location, dtype: int64\n",
      "\n",
      "Masters:\n",
      "Off-campus                                                                     0.810811\n",
      "Columbia Residential (formerly known as University Apartment Housing (UAH))    0.189189\n",
      "Name: location, dtype: float64\n",
      "\n",
      "PhD:\n",
      "Columbia Residential (formerly known as University Apartment Housing (UAH))    0.55814\n",
      "Off-campus                                                                     0.44186\n",
      "Name: location, dtype: float64\n"
     ]
    }
   ],
   "source": [
    "df = df.rename(columns={df.columns.tolist()[274]:'location'})\n",
    "\n",
    "print(df.location.value_counts() / n)\n",
    "print(df.location.value_counts())\n",
    "\n",
    "print(\"\\nMasters:\")\n",
    "print(df.loc[df['degree']=='Master of Science (M.S.)', 'location'].value_counts() / 74)\n",
    "\n",
    "print(\"\\nPhD:\")\n",
    "print(df.loc[df['degree']=='Doctor of Philosophy (Ph.D.)', 'location'].value_counts() / 43)\n",
    "\n",
    "# print(\"\\nOff-campus:\")\n",
    "# print(df.loc[df['location']=='Off-campus', 'degree'].value_counts() / 21)\n",
    "\n",
    "# print(\"\\n:\")\n",
    "# print(df.loc[df['location']=='Columbia Residential (formerly known as University Apartment Housing (UAH))', \n",
    "#              'degree'].value_counts() / 364)"
   ]
  },
  {
   "cell_type": "markdown",
   "id": "5470fd8f",
   "metadata": {},
   "source": [
    "### Satisfaction"
   ]
  },
  {
   "cell_type": "code",
   "execution_count": 62,
   "id": "f8deb9ba",
   "metadata": {},
   "outputs": [
    {
     "name": "stdout",
     "output_type": "stream",
     "text": [
      "Disagree                      14\n",
      "Agree                         14\n",
      "Strongly disagree              7\n",
      "Neither agree nor disagree     7\n",
      "Strongly agree                 7\n",
      "Name: application_satisfy, dtype: int64\n"
     ]
    },
    {
     "data": {
      "text/plain": [
       "<AxesSubplot:ylabel='application_satisfy'>"
      ]
     },
     "execution_count": 62,
     "metadata": {},
     "output_type": "execute_result"
    },
    {
     "data": {
      "image/png": "[encoded data removed]",
      "text/plain": [
       "<Figure size 432x288 with 1 Axes>"
      ]
     },
     "metadata": {},
     "output_type": "display_data"
    }
   ],
   "source": [
    "# Satisfaction with Columbia Residential\n",
    "\n",
    "df = df.rename(columns={df.columns.tolist()[275]:'application_satisfy'})\n",
    "df = df.rename(columns={df.columns.tolist()[276]:'transfer_satisfy'})\n",
    "\n",
    "print(df['application_satisfy'].value_counts())\n",
    "df['application_satisfy'].value_counts().plot(kind='pie')"
   ]
  },
  {
   "cell_type": "code",
   "execution_count": 63,
   "id": "5e939549",
   "metadata": {},
   "outputs": [
    {
     "name": "stdout",
     "output_type": "stream",
     "text": [
      "Neither agree nor disagree    27\n",
      "Strongly disagree             10\n",
      "Disagree                       5\n",
      "Agree                          5\n",
      "Strongly agree                 2\n",
      "Name: transfer_satisfy, dtype: int64\n"
     ]
    },
    {
     "data": {
      "text/plain": [
       "<AxesSubplot:ylabel='transfer_satisfy'>"
      ]
     },
     "execution_count": 63,
     "metadata": {},
     "output_type": "execute_result"
    },
    {
     "data": {
      "image/png": "[encoded data removed]",
      "text/plain": [
       "<Figure size 432x288 with 1 Axes>"
      ]
     },
     "metadata": {},
     "output_type": "display_data"
    }
   ],
   "source": [
    "print(df['transfer_satisfy'].value_counts())\n",
    "df['transfer_satisfy'].value_counts().plot(kind='pie')"
   ]
  },
  {
   "cell_type": "code",
   "execution_count": 17,
   "id": "b1bcbe00",
   "metadata": {},
   "outputs": [
    {
     "data": {
      "text/plain": [
       "610"
      ]
     },
     "execution_count": 17,
     "metadata": {},
     "output_type": "execute_result"
    }
   ],
   "source": [
    "# OCHA\n",
    "\n",
    "# OCHA = df['Response.39']\n",
    "# OCHA.value_counts().sum() - 621\n"
   ]
  },
  {
   "cell_type": "markdown",
   "id": "db81059a",
   "metadata": {},
   "source": [
    "### Safety"
   ]
  },
  {
   "cell_type": "code",
   "execution_count": 65,
   "id": "62162d07",
   "metadata": {},
   "outputs": [
    {
     "data": {
      "text/plain": [
       "Agree                         61\n",
       "Disagree                      31\n",
       "Neither agree nor disagree    21\n",
       "Strongly agree                15\n",
       "Strongly disagree             10\n",
       "Name: Response.40, dtype: int64"
      ]
     },
     "execution_count": 65,
     "metadata": {},
     "output_type": "execute_result"
    }
   ],
   "source": [
    "# safe\n",
    "\n",
    "safe = df['Response.40']\n",
    "safe.value_counts()"
   ]
  },
  {
   "cell_type": "code",
   "execution_count": 66,
   "id": "17cbd92c",
   "metadata": {},
   "outputs": [
    {
     "data": {
      "text/plain": [
       "<AxesSubplot:ylabel='Response.40'>"
      ]
     },
     "execution_count": 66,
     "metadata": {},
     "output_type": "execute_result"
    },
    {
     "data": {
      "image/png": "[encoded data removed]",
      "text/plain": [
       "<Figure size 432x288 with 1 Axes>"
      ]
     },
     "metadata": {},
     "output_type": "display_data"
    }
   ],
   "source": [
    "safe.value_counts().plot(kind='pie')"
   ]
  },
  {
   "cell_type": "code",
   "execution_count": 70,
   "id": "8a7c268b",
   "metadata": {},
   "outputs": [
    {
     "name": "stdout",
     "output_type": "stream",
     "text": [
      "\u001b[1mHow many students feel unsafe commuting\u001b[0m\n",
      "Female        21\n",
      "Male           8\n",
      "Not to say     1\n",
      "Non-binary     1\n",
      "Name: gender, dtype: int64\n",
      "\n",
      "\n",
      "\u001b[1mHow many students feel strongly unsafe commuting\u001b[0m\n",
      "Female    6\n",
      "Male      4\n",
      "Name: gender, dtype: int64\n"
     ]
    }
   ],
   "source": [
    "print('\\033[1m' + 'How many students feel unsafe commuting' + '\\033[0m')\n",
    "safe_d = df[df['Response.40'] == 'Disagree'].gender\n",
    "print(safe_d.value_counts())\n",
    "print('\\n')\n",
    "print('\\033[1m' + 'How many students feel strongly unsafe commuting' + '\\033[0m')\n",
    "safe_sd = df[df['Response.40'] == 'Strongly disagree'].gender\n",
    "print(safe_sd.value_counts())"
   ]
  },
  {
   "cell_type": "markdown",
   "id": "8b80d85e",
   "metadata": {},
   "source": [
    "### Satisfaction with Residential Management"
   ]
  },
  {
   "cell_type": "code",
   "execution_count": 71,
   "id": "d6f58db3",
   "metadata": {},
   "outputs": [
    {
     "data": {
      "text/html": [
       "<div>\n",
       "<style scoped>\n",
       "    .dataframe tbody tr th:only-of-type {\n",
       "        vertical-align: middle;\n",
       "    }\n",
       "\n",
       "    .dataframe tbody tr th {\n",
       "        vertical-align: top;\n",
       "    }\n",
       "\n",
       "    .dataframe thead th {\n",
       "        text-align: right;\n",
       "    }\n",
       "</style>\n",
       "<table border=\"1\" class=\"dataframe\">\n",
       "  <thead>\n",
       "    <tr style=\"text-align: right;\">\n",
       "      <th></th>\n",
       "      <th>Helpfulness of door attendant</th>\n",
       "      <th>Apartment renovations</th>\n",
       "      <th>Building maintenance (regular cleaning, intercoms, elevators, etc.)</th>\n",
       "      <th>Building Security</th>\n",
       "      <th>Cost.1</th>\n",
       "      <th>Quality of Internet Service</th>\n",
       "    </tr>\n",
       "  </thead>\n",
       "  <tbody>\n",
       "    <tr>\n",
       "      <th>0</th>\n",
       "      <td>NaN</td>\n",
       "      <td>NaN</td>\n",
       "      <td>NaN</td>\n",
       "      <td>NaN</td>\n",
       "      <td>NaN</td>\n",
       "      <td>NaN</td>\n",
       "    </tr>\n",
       "    <tr>\n",
       "      <th>16</th>\n",
       "      <td>NaN</td>\n",
       "      <td>NaN</td>\n",
       "      <td>NaN</td>\n",
       "      <td>NaN</td>\n",
       "      <td>NaN</td>\n",
       "      <td>NaN</td>\n",
       "    </tr>\n",
       "    <tr>\n",
       "      <th>17</th>\n",
       "      <td>NaN</td>\n",
       "      <td>NaN</td>\n",
       "      <td>NaN</td>\n",
       "      <td>NaN</td>\n",
       "      <td>NaN</td>\n",
       "      <td>NaN</td>\n",
       "    </tr>\n",
       "    <tr>\n",
       "      <th>22</th>\n",
       "      <td>NaN</td>\n",
       "      <td>NaN</td>\n",
       "      <td>NaN</td>\n",
       "      <td>NaN</td>\n",
       "      <td>NaN</td>\n",
       "      <td>NaN</td>\n",
       "    </tr>\n",
       "    <tr>\n",
       "      <th>49</th>\n",
       "      <td>Strongly agree</td>\n",
       "      <td>Disagree</td>\n",
       "      <td>Disagree</td>\n",
       "      <td>Agree</td>\n",
       "      <td>Strongly disagree</td>\n",
       "      <td>Agree</td>\n",
       "    </tr>\n",
       "    <tr>\n",
       "      <th>...</th>\n",
       "      <td>...</td>\n",
       "      <td>...</td>\n",
       "      <td>...</td>\n",
       "      <td>...</td>\n",
       "      <td>...</td>\n",
       "      <td>...</td>\n",
       "    </tr>\n",
       "    <tr>\n",
       "      <th>1547</th>\n",
       "      <td>NaN</td>\n",
       "      <td>NaN</td>\n",
       "      <td>NaN</td>\n",
       "      <td>NaN</td>\n",
       "      <td>NaN</td>\n",
       "      <td>NaN</td>\n",
       "    </tr>\n",
       "    <tr>\n",
       "      <th>1551</th>\n",
       "      <td>Strongly disagree</td>\n",
       "      <td>Neither agree nor disagree</td>\n",
       "      <td>Agree</td>\n",
       "      <td>Strongly disagree</td>\n",
       "      <td>Neither agree nor disagree</td>\n",
       "      <td>Strongly disagree</td>\n",
       "    </tr>\n",
       "    <tr>\n",
       "      <th>1563</th>\n",
       "      <td>NaN</td>\n",
       "      <td>NaN</td>\n",
       "      <td>NaN</td>\n",
       "      <td>NaN</td>\n",
       "      <td>NaN</td>\n",
       "      <td>NaN</td>\n",
       "    </tr>\n",
       "    <tr>\n",
       "      <th>1580</th>\n",
       "      <td>NaN</td>\n",
       "      <td>NaN</td>\n",
       "      <td>NaN</td>\n",
       "      <td>NaN</td>\n",
       "      <td>NaN</td>\n",
       "      <td>NaN</td>\n",
       "    </tr>\n",
       "    <tr>\n",
       "      <th>1587</th>\n",
       "      <td>Agree</td>\n",
       "      <td>Agree</td>\n",
       "      <td>Neither agree nor disagree</td>\n",
       "      <td>Agree</td>\n",
       "      <td>Strongly agree</td>\n",
       "      <td>Agree</td>\n",
       "    </tr>\n",
       "  </tbody>\n",
       "</table>\n",
       "<p>138 rows × 6 columns</p>\n",
       "</div>"
      ],
      "text/plain": [
       "     Helpfulness of door attendant       Apartment renovations  \\\n",
       "0                              NaN                         NaN   \n",
       "16                             NaN                         NaN   \n",
       "17                             NaN                         NaN   \n",
       "22                             NaN                         NaN   \n",
       "49                  Strongly agree                    Disagree   \n",
       "...                            ...                         ...   \n",
       "1547                           NaN                         NaN   \n",
       "1551             Strongly disagree  Neither agree nor disagree   \n",
       "1563                           NaN                         NaN   \n",
       "1580                           NaN                         NaN   \n",
       "1587                         Agree                       Agree   \n",
       "\n",
       "     Building maintenance (regular cleaning, intercoms, elevators, etc.)  \\\n",
       "0                                                   NaN                    \n",
       "16                                                  NaN                    \n",
       "17                                                  NaN                    \n",
       "22                                                  NaN                    \n",
       "49                                             Disagree                    \n",
       "...                                                 ...                    \n",
       "1547                                                NaN                    \n",
       "1551                                              Agree                    \n",
       "1563                                                NaN                    \n",
       "1580                                                NaN                    \n",
       "1587                         Neither agree nor disagree                    \n",
       "\n",
       "      Building Security                      Cost.1  \\\n",
       "0                   NaN                         NaN   \n",
       "16                  NaN                         NaN   \n",
       "17                  NaN                         NaN   \n",
       "22                  NaN                         NaN   \n",
       "49                Agree           Strongly disagree   \n",
       "...                 ...                         ...   \n",
       "1547                NaN                         NaN   \n",
       "1551  Strongly disagree  Neither agree nor disagree   \n",
       "1563                NaN                         NaN   \n",
       "1580                NaN                         NaN   \n",
       "1587              Agree              Strongly agree   \n",
       "\n",
       "     Quality of Internet Service  \n",
       "0                            NaN  \n",
       "16                           NaN  \n",
       "17                           NaN  \n",
       "22                           NaN  \n",
       "49                         Agree  \n",
       "...                          ...  \n",
       "1547                         NaN  \n",
       "1551           Strongly disagree  \n",
       "1563                         NaN  \n",
       "1580                         NaN  \n",
       "1587                       Agree  \n",
       "\n",
       "[138 rows x 6 columns]"
      ]
     },
     "execution_count": 71,
     "metadata": {},
     "output_type": "execute_result"
    }
   ],
   "source": [
    "management = df[['Helpfulness of door attendant', 'Apartment renovations',\n",
    "       'Building maintenance (regular cleaning, intercoms, elevators, etc.)',\n",
    "       'Building Security', 'Cost.1', 'Quality of Internet Service']]\n",
    "\n",
    "management"
   ]
  },
  {
   "cell_type": "code",
   "execution_count": 72,
   "id": "43c98a26",
   "metadata": {},
   "outputs": [
    {
     "data": {
      "text/html": [
       "<div>\n",
       "<style scoped>\n",
       "    .dataframe tbody tr th:only-of-type {\n",
       "        vertical-align: middle;\n",
       "    }\n",
       "\n",
       "    .dataframe tbody tr th {\n",
       "        vertical-align: top;\n",
       "    }\n",
       "\n",
       "    .dataframe thead th {\n",
       "        text-align: right;\n",
       "    }\n",
       "</style>\n",
       "<table border=\"1\" class=\"dataframe\">\n",
       "  <thead>\n",
       "    <tr style=\"text-align: right;\">\n",
       "      <th></th>\n",
       "      <th>Helpfulness of door attendant</th>\n",
       "      <th>Apartment renovations</th>\n",
       "      <th>Building maintenance</th>\n",
       "      <th>Building Security</th>\n",
       "      <th>Cost</th>\n",
       "      <th>Quality of Internet Service</th>\n",
       "    </tr>\n",
       "  </thead>\n",
       "  <tbody>\n",
       "    <tr>\n",
       "      <th>Strongly disagree</th>\n",
       "      <td>8.163265</td>\n",
       "      <td>12.244898</td>\n",
       "      <td>2.040816</td>\n",
       "      <td>6.122449</td>\n",
       "      <td>18.367347</td>\n",
       "      <td>14.285714</td>\n",
       "    </tr>\n",
       "    <tr>\n",
       "      <th>Disagree</th>\n",
       "      <td>2.040816</td>\n",
       "      <td>18.367347</td>\n",
       "      <td>12.244898</td>\n",
       "      <td>18.367347</td>\n",
       "      <td>22.448980</td>\n",
       "      <td>14.285714</td>\n",
       "    </tr>\n",
       "    <tr>\n",
       "      <th>Neutral</th>\n",
       "      <td>48.979592</td>\n",
       "      <td>34.693878</td>\n",
       "      <td>14.285714</td>\n",
       "      <td>16.326531</td>\n",
       "      <td>26.530612</td>\n",
       "      <td>4.081633</td>\n",
       "    </tr>\n",
       "    <tr>\n",
       "      <th>Agree</th>\n",
       "      <td>12.244898</td>\n",
       "      <td>22.448980</td>\n",
       "      <td>46.938776</td>\n",
       "      <td>34.693878</td>\n",
       "      <td>24.489796</td>\n",
       "      <td>44.897959</td>\n",
       "    </tr>\n",
       "    <tr>\n",
       "      <th>Strongly agree</th>\n",
       "      <td>28.571429</td>\n",
       "      <td>12.244898</td>\n",
       "      <td>24.489796</td>\n",
       "      <td>24.489796</td>\n",
       "      <td>8.163265</td>\n",
       "      <td>22.448980</td>\n",
       "    </tr>\n",
       "  </tbody>\n",
       "</table>\n",
       "</div>"
      ],
      "text/plain": [
       "                   Helpfulness of door attendant  Apartment renovations  \\\n",
       "Strongly disagree                       8.163265              12.244898   \n",
       "Disagree                                2.040816              18.367347   \n",
       "Neutral                                48.979592              34.693878   \n",
       "Agree                                  12.244898              22.448980   \n",
       "Strongly agree                         28.571429              12.244898   \n",
       "\n",
       "                   Building maintenance  Building Security       Cost  \\\n",
       "Strongly disagree              2.040816           6.122449  18.367347   \n",
       "Disagree                      12.244898          18.367347  22.448980   \n",
       "Neutral                       14.285714          16.326531  26.530612   \n",
       "Agree                         46.938776          34.693878  24.489796   \n",
       "Strongly agree                24.489796          24.489796   8.163265   \n",
       "\n",
       "                   Quality of Internet Service  \n",
       "Strongly disagree                    14.285714  \n",
       "Disagree                             14.285714  \n",
       "Neutral                               4.081633  \n",
       "Agree                                44.897959  \n",
       "Strongly agree                       22.448980  "
      ]
     },
     "execution_count": 72,
     "metadata": {},
     "output_type": "execute_result"
    }
   ],
   "source": [
    "management_t = pd.concat([count_proportion(df['Helpfulness of door attendant']), \n",
    "                           count_proportion(df['Apartment renovations']), \n",
    "                           count_proportion(df['Building maintenance (regular cleaning, intercoms, elevators, etc.)']), \n",
    "                           count_proportion(df['Building Security']), \n",
    "                           count_proportion(df['Cost.1']), \n",
    "                           count_proportion(df['Quality of Internet Service'])], axis=1)\n",
    "\n",
    "c_management_t = ['Helpfulness of door attendant', 'Apartment renovations',\n",
    "       'Building maintenance',\n",
    "       'Building Security', 'Cost', 'Quality of Internet Service']\n",
    "\n",
    "management_t.columns = c_management_t\n",
    "\n",
    "management_t"
   ]
  },
  {
   "cell_type": "code",
   "execution_count": 73,
   "id": "1fde3267",
   "metadata": {},
   "outputs": [
    {
     "name": "stdout",
     "output_type": "stream",
     "text": [
      "                   Helpfulness of door attendant  Apartment renovations  \\\n",
      "Strongly disagree                       8.163265              12.244898   \n",
      "Disagree                                2.040816              18.367347   \n",
      "Neutral                                48.979592              34.693878   \n",
      "Agree                                  12.244898              22.448980   \n",
      "Strongly agree                         28.571429              12.244898   \n",
      "\n",
      "                   Building maintenance  Building Security       Cost  \\\n",
      "Strongly disagree              2.040816           6.122449  18.367347   \n",
      "Disagree                      12.244898          18.367347  22.448980   \n",
      "Neutral                       14.285714          16.326531  26.530612   \n",
      "Agree                         46.938776          34.693878  24.489796   \n",
      "Strongly agree                24.489796          24.489796   8.163265   \n",
      "\n",
      "                   Quality of Internet Service  \n",
      "Strongly disagree                    14.285714  \n",
      "Disagree                             14.285714  \n",
      "Neutral                               4.081633  \n",
      "Agree                                44.897959  \n",
      "Strongly agree                       22.448980  \n",
      "\n",
      "\n",
      "                   Helpfulness of door attendant  Apartment renovations  \\\n",
      "Strongly disagree                       0.081633               0.122449   \n",
      "Disagree                                0.020408               0.183673   \n",
      "Neutral                                 0.489796               0.346939   \n",
      "Agree                                   0.122449               0.224490   \n",
      "Strongly agree                          0.285714               0.122449   \n",
      "\n",
      "                   Building maintenance  Building Security      Cost  \\\n",
      "Strongly disagree              0.020408           0.061224  0.183673   \n",
      "Disagree                       0.122449           0.183673  0.224490   \n",
      "Neutral                        0.142857           0.163265  0.265306   \n",
      "Agree                          0.469388           0.346939  0.244898   \n",
      "Strongly agree                 0.244898           0.244898  0.081633   \n",
      "\n",
      "                   Quality of Internet Service  \n",
      "Strongly disagree                     0.142857  \n",
      "Disagree                              0.142857  \n",
      "Neutral                               0.040816  \n",
      "Agree                                 0.448980  \n",
      "Strongly agree                        0.224490  \n",
      "\n",
      "\n",
      "                               Strongly disagree   Disagree    Neutral  \\\n",
      "Helpfulness of door attendant           8.163265   2.040816  48.979592   \n",
      "Apartment renovations                  12.244898  18.367347  34.693878   \n",
      "Building maintenance                    2.040816  12.244898  14.285714   \n",
      "Building Security                       6.122449  18.367347  16.326531   \n",
      "Cost                                   18.367347  22.448980  26.530612   \n",
      "Quality of Internet Service            14.285714  14.285714   4.081633   \n",
      "\n",
      "                                   Agree  Strongly agree  \n",
      "Helpfulness of door attendant  12.244898       28.571429  \n",
      "Apartment renovations          22.448980       12.244898  \n",
      "Building maintenance           46.938776       24.489796  \n",
      "Building Security              34.693878       24.489796  \n",
      "Cost                           24.489796        8.163265  \n",
      "Quality of Internet Service    44.897959       22.448980  \n",
      "\n",
      "\n",
      "                               Strongly disagree  Disagree   Neutral  \\\n",
      "Helpfulness of door attendant           0.081633  0.020408  0.489796   \n",
      "Apartment renovations                   0.122449  0.183673  0.346939   \n",
      "Building maintenance                    0.020408  0.122449  0.142857   \n",
      "Building Security                       0.061224  0.183673  0.163265   \n",
      "Cost                                    0.183673  0.224490  0.265306   \n",
      "Quality of Internet Service             0.142857  0.142857  0.040816   \n",
      "\n",
      "                                  Agree  Strongly agree  \n",
      "Helpfulness of door attendant  0.122449        0.285714  \n",
      "Apartment renovations          0.224490        0.122449  \n",
      "Building maintenance           0.469388        0.244898  \n",
      "Building Security              0.346939        0.244898  \n",
      "Cost                           0.244898        0.081633  \n",
      "Quality of Internet Service    0.448980        0.224490  \n"
     ]
    },
    {
     "data": {
      "image/png": "[encoded data removed]",
      "text/plain": [
       "<Figure size 1500x900 with 1 Axes>"
      ]
     },
     "metadata": {
      "needs_background": "light"
     },
     "output_type": "display_data"
    }
   ],
   "source": [
    "stack_func(management_t, \"Proportion\", \"Management\", \"Satisfaction with Residential Management\", agree_index)"
   ]
  },
  {
   "cell_type": "markdown",
   "id": "f3b0a92a",
   "metadata": {},
   "source": [
    "## Academics: Integrity"
   ]
  },
  {
   "cell_type": "code",
   "execution_count": 74,
   "id": "e53b3545",
   "metadata": {},
   "outputs": [
    {
     "data": {
      "text/plain": [
       "Index(['The academic integrity policies were clearly communicated:',\n",
       "       'My classmates adhered to the university policies on academic integrity:',\n",
       "       'The academic integrity policies were enforced by TAs or course instructors:',\n",
       "       'Response.45', 'Response.46', 'I did not want to report a friend.',\n",
       "       'I did not want to report a classmate.',\n",
       "       'I was uncertain of the confidentiality of the process.',\n",
       "       'I was uncomfortable approaching authority figures (i.e. faculty and/or administration).',\n",
       "       'I thought the violation was not severe.',\n",
       "       'I did not know how to report the violation.',\n",
       "       'Other (please specify).7', 'Response.47', 'Warning by TA',\n",
       "       'Warning by Professor', 'Academic penalty imposed by Professor',\n",
       "       'Violation referral made to the Office of Graduate Student Affairs',\n",
       "       'No action was taken', 'Response.48', 'Response.49', 'Not Applicable.1',\n",
       "       'I am finding the course load too heavy to manage',\n",
       "       'I do not understand the Academic Integrity policies and procedures',\n",
       "       'My classmates are not disciplined for violating Academic Integrity policies',\n",
       "       'Response.50', 'Open-Ended Response.14'],\n",
       "      dtype='object')"
      ]
     },
     "execution_count": 74,
     "metadata": {},
     "output_type": "execute_result"
    }
   ],
   "source": [
    "integrity = df.iloc[:, 307:333]\n",
    "integrity.columns"
   ]
  },
  {
   "cell_type": "markdown",
   "id": "9d70b3a9",
   "metadata": {},
   "source": [
    "### score stack"
   ]
  },
  {
   "cell_type": "code",
   "execution_count": 99,
   "id": "4c781bbf",
   "metadata": {},
   "outputs": [
    {
     "data": {
      "text/plain": [
       "3.818840579710145"
      ]
     },
     "execution_count": 99,
     "metadata": {},
     "output_type": "execute_result"
    }
   ],
   "source": [
    "communicated = df['The academic integrity policies were clearly communicated:']\n",
    "communicated.value_counts()\n",
    "# (693*4+434*5+3*111+23*2+10*1)/(693+434+111+23+10)\n",
    "\n",
    "enforced = df['The academic integrity policies were enforced by TAs or course instructors:']\n",
    "enforced.value_counts()\n",
    "# (654*4+372*5+158*3+64*2+23*1)/(654+372+158+64+23)\n",
    "\n",
    "classmates = df['My classmates adhered to the university policies on academic integrity:']\n",
    "classmates.value_counts()\n",
    "# (599*4+304*5+225*3+95*2+48*1)/(599+304+225+95+48)\n",
    "\n",
    "count_score(classmates.value_counts())"
   ]
  },
  {
   "cell_type": "markdown",
   "id": "fb6e1dc2",
   "metadata": {},
   "source": [
    "### Report"
   ]
  },
  {
   "cell_type": "code",
   "execution_count": 101,
   "id": "ed82e414",
   "metadata": {},
   "outputs": [
    {
     "data": {
      "text/plain": [
       "No          108\n",
       "Not Sure     16\n",
       "Yes          14\n",
       "Name: Response.45, dtype: int64"
      ]
     },
     "execution_count": 101,
     "metadata": {},
     "output_type": "execute_result"
    }
   ],
   "source": [
    "aware = df['Response.45']\n",
    "aware.value_counts()"
   ]
  },
  {
   "cell_type": "code",
   "execution_count": 104,
   "id": "ba482bea",
   "metadata": {},
   "outputs": [
    {
     "data": {
      "text/plain": [
       "<AxesSubplot:ylabel='Response.45'>"
      ]
     },
     "execution_count": 104,
     "metadata": {},
     "output_type": "execute_result"
    },
    {
     "data": {
      "image/png": "[encoded data removed]",
      "text/plain": [
       "<Figure size 432x288 with 1 Axes>"
      ]
     },
     "metadata": {},
     "output_type": "display_data"
    }
   ],
   "source": [
    "aware.value_counts().plot(kind='pie')"
   ]
  },
  {
   "cell_type": "code",
   "execution_count": 106,
   "id": "ce468f0f",
   "metadata": {},
   "outputs": [
    {
     "data": {
      "text/plain": [
       "No                                                10\n",
       "Yes, I reported it to the Instructor/Professor     4\n",
       "Yes, I reported it to both TA and Instructor       1\n",
       "Name: Response.46, dtype: int64"
      ]
     },
     "execution_count": 106,
     "metadata": {},
     "output_type": "execute_result"
    }
   ],
   "source": [
    "report = df['Response.46']\n",
    "report.value_counts() #sum up to 146"
   ]
  },
  {
   "cell_type": "code",
   "execution_count": 107,
   "id": "89a1d432",
   "metadata": {},
   "outputs": [
    {
     "data": {
      "text/plain": [
       "<AxesSubplot:ylabel='Response.46'>"
      ]
     },
     "execution_count": 107,
     "metadata": {},
     "output_type": "execute_result"
    },
    {
     "data": {
      "image/png": "[encoded data removed]",
      "text/plain": [
       "<Figure size 432x288 with 1 Axes>"
      ]
     },
     "metadata": {},
     "output_type": "display_data"
    }
   ],
   "source": [
    "report.value_counts().plot(kind='pie')"
   ]
  },
  {
   "cell_type": "code",
   "execution_count": 108,
   "id": "9f90a079",
   "metadata": {},
   "outputs": [
    {
     "name": "stdout",
     "output_type": "stream",
     "text": [
      "4\n",
      "3\n",
      "2\n",
      "1\n",
      "6\n",
      "2\n",
      "5\n"
     ]
    },
    {
     "data": {
      "text/plain": [
       "111     We all exchange pieces of codes for homework a...\n",
       "183                              Someone else reported it\n",
       "1052    I have seen how the university dealt with simi...\n",
       "1113    I was not in the class - I heard it from a fri...\n",
       "1232    It was already reported and handled by the tim...\n",
       "Name: Other (please specify).7, dtype: object"
      ]
     },
     "execution_count": 108,
     "metadata": {},
     "output_type": "execute_result"
    }
   ],
   "source": [
    "# reasons for not reporting\n",
    "\n",
    "friend = df['I did not want to report a friend.'].notna().sum()\n",
    "print(friend)\n",
    "\n",
    "mate = df['I did not want to report a classmate.'].notna().sum()\n",
    "print(mate)\n",
    "\n",
    "confidentiality = df['I was uncertain of the confidentiality of the process.'].notna().sum()\n",
    "print(confidentiality)\n",
    "\n",
    "authority = df['I was uncomfortable approaching authority figures (i.e. faculty and/or administration).'].notna().sum()\n",
    "print(authority)\n",
    "\n",
    "not_severe = df['I thought the violation was not severe.'].notna().sum()\n",
    "print(not_severe)\n",
    "\n",
    "dkhow = df['I did not know how to report the violation.'].notna().sum()\n",
    "print(dkhow)\n",
    "\n",
    "others = df['Other (please specify).7'].dropna()\n",
    "print(others.count())\n",
    "others"
   ]
  },
  {
   "cell_type": "markdown",
   "id": "004fbc00",
   "metadata": {},
   "source": [
    "### TA "
   ]
  },
  {
   "cell_type": "code",
   "execution_count": 109,
   "id": "7dbbf2e1",
   "metadata": {},
   "outputs": [
    {
     "data": {
      "text/plain": [
       "I did not serve as a TA    83\n",
       "No                         43\n",
       "Yes                        12\n",
       "Name: Response.47, dtype: int64"
      ]
     },
     "execution_count": 109,
     "metadata": {},
     "output_type": "execute_result"
    }
   ],
   "source": [
    "TA = df['Response.47']\n",
    "TA.value_counts()"
   ]
  },
  {
   "cell_type": "code",
   "execution_count": 110,
   "id": "4c994cfa",
   "metadata": {},
   "outputs": [
    {
     "name": "stdout",
     "output_type": "stream",
     "text": [
      "5\n",
      "5\n",
      "3\n",
      "1\n",
      "5\n"
     ]
    }
   ],
   "source": [
    "warning_TA = df['Warning by TA'].notna().sum()\n",
    "print(warning_TA)\n",
    "\n",
    "warning_prof = df['Warning by Professor'].notna().sum()\n",
    "print(warning_prof)\n",
    "\n",
    "penalty = df['Academic penalty imposed by Professor'].notna().sum()\n",
    "print(penalty)\n",
    "\n",
    "office = df['Violation referral made to the Office of Graduate Student Affairs'].notna().sum()\n",
    "print(office)\n",
    "\n",
    "no_action = df['No action was taken'].notna().sum()\n",
    "print(warning_TA)"
   ]
  },
  {
   "cell_type": "markdown",
   "id": "45fbfd9e",
   "metadata": {},
   "source": [
    "### Have you ever violated an Academic Integrity policy?"
   ]
  },
  {
   "cell_type": "code",
   "execution_count": 111,
   "id": "4b3e1d40",
   "metadata": {},
   "outputs": [
    {
     "data": {
      "text/plain": [
       "No          123\n",
       "Not Sure      9\n",
       "Yes           6\n",
       "Name: Response.48, dtype: int64"
      ]
     },
     "execution_count": 111,
     "metadata": {},
     "output_type": "execute_result"
    }
   ],
   "source": [
    "violate = df['Response.48']\n",
    "\n",
    "violate.value_counts()"
   ]
  },
  {
   "cell_type": "code",
   "execution_count": 112,
   "id": "9400e226",
   "metadata": {},
   "outputs": [
    {
     "name": "stdout",
     "output_type": "stream",
     "text": [
      "39\n",
      "21\n",
      "15\n"
     ]
    }
   ],
   "source": [
    "# reasons\n",
    "\n",
    "workload = df['I am finding the course load too heavy to manage'].notna().sum()\n",
    "print(workload)\n",
    "\n",
    "not_understand_policies = df['I do not understand the Academic Integrity policies and procedures'].notna().sum()\n",
    "print(not_understand_policies)\n",
    "\n",
    "classmates_violate_too = df['My classmates are not disciplined for violating Academic Integrity policies'].notna().sum()\n",
    "print(classmates_violate_too)\n"
   ]
  },
  {
   "cell_type": "markdown",
   "id": "cd8e2e08",
   "metadata": {},
   "source": [
    "### peer reporting & virtual/hybrid learning"
   ]
  },
  {
   "cell_type": "code",
   "execution_count": 113,
   "id": "4ec56264",
   "metadata": {},
   "outputs": [
    {
     "name": "stdout",
     "output_type": "stream",
     "text": [
      "No          52\n",
      "Not Sure    48\n",
      "Yes         38\n",
      "Name: Response.49, dtype: int64\n",
      "Neither agree nor disagree    50\n",
      "Agree                         47\n",
      "Strongly agree                19\n",
      "Disagree                      17\n",
      "Strongly disagree              5\n",
      "Name: Response.50, dtype: int64\n"
     ]
    }
   ],
   "source": [
    "peer = df['Response.49']\n",
    "virtual = df['Response.50']\n",
    "\n",
    "print(peer.value_counts())\n",
    "print(virtual.value_counts())"
   ]
  },
  {
   "cell_type": "markdown",
   "id": "0ec47599",
   "metadata": {},
   "source": [
    "## Networking"
   ]
  },
  {
   "cell_type": "code",
   "execution_count": 114,
   "id": "1decf1cc",
   "metadata": {},
   "outputs": [
    {
     "data": {
      "text/html": [
       "<div>\n",
       "<style scoped>\n",
       "    .dataframe tbody tr th:only-of-type {\n",
       "        vertical-align: middle;\n",
       "    }\n",
       "\n",
       "    .dataframe tbody tr th {\n",
       "        vertical-align: top;\n",
       "    }\n",
       "\n",
       "    .dataframe thead th {\n",
       "        text-align: right;\n",
       "    }\n",
       "</style>\n",
       "<table border=\"1\" class=\"dataframe\">\n",
       "  <thead>\n",
       "    <tr style=\"text-align: right;\">\n",
       "      <th></th>\n",
       "      <th>I have not been actively developing alumni contacts</th>\n",
       "      <th>Alumni Associations (CEAA, CEYA, CAA)</th>\n",
       "      <th>Events organized by the Alumni Affairs Office</th>\n",
       "      <th>Events organized by EGSC or Office of Graduate Student Affairs</th>\n",
       "      <th>Faculty.1</th>\n",
       "      <th>Graduate Engineer's Connect</th>\n",
       "      <th>Department administration.1</th>\n",
       "      <th>Friends</th>\n",
       "      <th>Events organized by student groups (CCV, CEEC, CFEC, DGE, DSISC, ELC, GEEC, GoBME, GradSWE, HinduYUVA, MEGA, PMC, qSTEM, SPICMACAY)</th>\n",
       "      <th>Professional Development and Leadership (PDL) Program.1</th>\n",
       "      <th>Other (please specify).3</th>\n",
       "      <th>Response.18</th>\n",
       "      <th>Response.19</th>\n",
       "      <th>Other (please specify).4</th>\n",
       "      <th>Open-Ended Response.4</th>\n",
       "    </tr>\n",
       "  </thead>\n",
       "  <tbody>\n",
       "    <tr>\n",
       "      <th>0</th>\n",
       "      <td>I have not been actively developing alumni con...</td>\n",
       "      <td>NaN</td>\n",
       "      <td>NaN</td>\n",
       "      <td>NaN</td>\n",
       "      <td>NaN</td>\n",
       "      <td>NaN</td>\n",
       "      <td>NaN</td>\n",
       "      <td>NaN</td>\n",
       "      <td>NaN</td>\n",
       "      <td>NaN</td>\n",
       "      <td>NaN</td>\n",
       "      <td>Agree</td>\n",
       "      <td>NaN</td>\n",
       "      <td>NaN</td>\n",
       "      <td>NaN</td>\n",
       "    </tr>\n",
       "    <tr>\n",
       "      <th>16</th>\n",
       "      <td>NaN</td>\n",
       "      <td>NaN</td>\n",
       "      <td>NaN</td>\n",
       "      <td>Events organized by EGSC or Office of Graduate...</td>\n",
       "      <td>NaN</td>\n",
       "      <td>NaN</td>\n",
       "      <td>NaN</td>\n",
       "      <td>Friends</td>\n",
       "      <td>Events organized by student groups (CCV, CEEC,...</td>\n",
       "      <td>NaN</td>\n",
       "      <td>NaN</td>\n",
       "      <td>Agree</td>\n",
       "      <td>NaN</td>\n",
       "      <td>NaN</td>\n",
       "      <td>NaN</td>\n",
       "    </tr>\n",
       "    <tr>\n",
       "      <th>17</th>\n",
       "      <td>NaN</td>\n",
       "      <td>NaN</td>\n",
       "      <td>NaN</td>\n",
       "      <td>Events organized by EGSC or Office of Graduate...</td>\n",
       "      <td>Faculty</td>\n",
       "      <td>NaN</td>\n",
       "      <td>NaN</td>\n",
       "      <td>Friends</td>\n",
       "      <td>Events organized by student groups (CCV, CEEC,...</td>\n",
       "      <td>NaN</td>\n",
       "      <td>NaN</td>\n",
       "      <td>Neither agree nor disagree</td>\n",
       "      <td>NaN</td>\n",
       "      <td>NaN</td>\n",
       "      <td>there need to be more intimate settings. its h...</td>\n",
       "    </tr>\n",
       "    <tr>\n",
       "      <th>22</th>\n",
       "      <td>I have not been actively developing alumni con...</td>\n",
       "      <td>NaN</td>\n",
       "      <td>NaN</td>\n",
       "      <td>NaN</td>\n",
       "      <td>NaN</td>\n",
       "      <td>NaN</td>\n",
       "      <td>NaN</td>\n",
       "      <td>Friends</td>\n",
       "      <td>NaN</td>\n",
       "      <td>NaN</td>\n",
       "      <td>NaN</td>\n",
       "      <td>Strongly agree</td>\n",
       "      <td>NaN</td>\n",
       "      <td>NaN</td>\n",
       "      <td>NaN</td>\n",
       "    </tr>\n",
       "    <tr>\n",
       "      <th>49</th>\n",
       "      <td>I have not been actively developing alumni con...</td>\n",
       "      <td>NaN</td>\n",
       "      <td>NaN</td>\n",
       "      <td>NaN</td>\n",
       "      <td>NaN</td>\n",
       "      <td>NaN</td>\n",
       "      <td>NaN</td>\n",
       "      <td>NaN</td>\n",
       "      <td>NaN</td>\n",
       "      <td>NaN</td>\n",
       "      <td>NaN</td>\n",
       "      <td>Agree</td>\n",
       "      <td>NaN</td>\n",
       "      <td>NaN</td>\n",
       "      <td>NaN</td>\n",
       "    </tr>\n",
       "    <tr>\n",
       "      <th>...</th>\n",
       "      <td>...</td>\n",
       "      <td>...</td>\n",
       "      <td>...</td>\n",
       "      <td>...</td>\n",
       "      <td>...</td>\n",
       "      <td>...</td>\n",
       "      <td>...</td>\n",
       "      <td>...</td>\n",
       "      <td>...</td>\n",
       "      <td>...</td>\n",
       "      <td>...</td>\n",
       "      <td>...</td>\n",
       "      <td>...</td>\n",
       "      <td>...</td>\n",
       "      <td>...</td>\n",
       "    </tr>\n",
       "    <tr>\n",
       "      <th>1547</th>\n",
       "      <td>I have not been actively developing alumni con...</td>\n",
       "      <td>NaN</td>\n",
       "      <td>NaN</td>\n",
       "      <td>NaN</td>\n",
       "      <td>NaN</td>\n",
       "      <td>NaN</td>\n",
       "      <td>NaN</td>\n",
       "      <td>NaN</td>\n",
       "      <td>NaN</td>\n",
       "      <td>NaN</td>\n",
       "      <td>NaN</td>\n",
       "      <td>Neither agree nor disagree</td>\n",
       "      <td>NaN</td>\n",
       "      <td>NaN</td>\n",
       "      <td>NaN</td>\n",
       "    </tr>\n",
       "    <tr>\n",
       "      <th>1551</th>\n",
       "      <td>I have not been actively developing alumni con...</td>\n",
       "      <td>NaN</td>\n",
       "      <td>NaN</td>\n",
       "      <td>NaN</td>\n",
       "      <td>NaN</td>\n",
       "      <td>NaN</td>\n",
       "      <td>NaN</td>\n",
       "      <td>NaN</td>\n",
       "      <td>NaN</td>\n",
       "      <td>NaN</td>\n",
       "      <td>NaN</td>\n",
       "      <td>Agree</td>\n",
       "      <td>NaN</td>\n",
       "      <td>NaN</td>\n",
       "      <td>NaN</td>\n",
       "    </tr>\n",
       "    <tr>\n",
       "      <th>1563</th>\n",
       "      <td>NaN</td>\n",
       "      <td>NaN</td>\n",
       "      <td>NaN</td>\n",
       "      <td>NaN</td>\n",
       "      <td>Faculty</td>\n",
       "      <td>NaN</td>\n",
       "      <td>NaN</td>\n",
       "      <td>Friends</td>\n",
       "      <td>NaN</td>\n",
       "      <td>NaN</td>\n",
       "      <td>NaN</td>\n",
       "      <td>Neither agree nor disagree</td>\n",
       "      <td>NaN</td>\n",
       "      <td>NaN</td>\n",
       "      <td>NaN</td>\n",
       "    </tr>\n",
       "    <tr>\n",
       "      <th>1580</th>\n",
       "      <td>I have not been actively developing alumni con...</td>\n",
       "      <td>NaN</td>\n",
       "      <td>NaN</td>\n",
       "      <td>NaN</td>\n",
       "      <td>Faculty</td>\n",
       "      <td>NaN</td>\n",
       "      <td>Department administration</td>\n",
       "      <td>Friends</td>\n",
       "      <td>NaN</td>\n",
       "      <td>NaN</td>\n",
       "      <td>NaN</td>\n",
       "      <td>Strongly agree</td>\n",
       "      <td>NaN</td>\n",
       "      <td>NaN</td>\n",
       "      <td>NaN</td>\n",
       "    </tr>\n",
       "    <tr>\n",
       "      <th>1587</th>\n",
       "      <td>NaN</td>\n",
       "      <td>NaN</td>\n",
       "      <td>NaN</td>\n",
       "      <td>Events organized by EGSC or Office of Graduate...</td>\n",
       "      <td>Faculty</td>\n",
       "      <td>NaN</td>\n",
       "      <td>NaN</td>\n",
       "      <td>Friends</td>\n",
       "      <td>NaN</td>\n",
       "      <td>NaN</td>\n",
       "      <td>NaN</td>\n",
       "      <td>Neither agree nor disagree</td>\n",
       "      <td>NaN</td>\n",
       "      <td>NaN</td>\n",
       "      <td>NaN</td>\n",
       "    </tr>\n",
       "  </tbody>\n",
       "</table>\n",
       "<p>138 rows × 15 columns</p>\n",
       "</div>"
      ],
      "text/plain": [
       "     I have not been actively developing alumni contacts  \\\n",
       "0     I have not been actively developing alumni con...    \n",
       "16                                                  NaN    \n",
       "17                                                  NaN    \n",
       "22    I have not been actively developing alumni con...    \n",
       "49    I have not been actively developing alumni con...    \n",
       "...                                                 ...    \n",
       "1547  I have not been actively developing alumni con...    \n",
       "1551  I have not been actively developing alumni con...    \n",
       "1563                                                NaN    \n",
       "1580  I have not been actively developing alumni con...    \n",
       "1587                                                NaN    \n",
       "\n",
       "     Alumni Associations (CEAA, CEYA, CAA)  \\\n",
       "0                                      NaN   \n",
       "16                                     NaN   \n",
       "17                                     NaN   \n",
       "22                                     NaN   \n",
       "49                                     NaN   \n",
       "...                                    ...   \n",
       "1547                                   NaN   \n",
       "1551                                   NaN   \n",
       "1563                                   NaN   \n",
       "1580                                   NaN   \n",
       "1587                                   NaN   \n",
       "\n",
       "     Events organized by the Alumni Affairs Office  \\\n",
       "0                                              NaN   \n",
       "16                                             NaN   \n",
       "17                                             NaN   \n",
       "22                                             NaN   \n",
       "49                                             NaN   \n",
       "...                                            ...   \n",
       "1547                                           NaN   \n",
       "1551                                           NaN   \n",
       "1563                                           NaN   \n",
       "1580                                           NaN   \n",
       "1587                                           NaN   \n",
       "\n",
       "     Events organized by EGSC or Office of Graduate Student Affairs Faculty.1  \\\n",
       "0                                                   NaN                   NaN   \n",
       "16    Events organized by EGSC or Office of Graduate...                   NaN   \n",
       "17    Events organized by EGSC or Office of Graduate...               Faculty   \n",
       "22                                                  NaN                   NaN   \n",
       "49                                                  NaN                   NaN   \n",
       "...                                                 ...                   ...   \n",
       "1547                                                NaN                   NaN   \n",
       "1551                                                NaN                   NaN   \n",
       "1563                                                NaN               Faculty   \n",
       "1580                                                NaN               Faculty   \n",
       "1587  Events organized by EGSC or Office of Graduate...               Faculty   \n",
       "\n",
       "     Graduate Engineer's Connect Department administration.1  Friends  \\\n",
       "0                            NaN                         NaN      NaN   \n",
       "16                           NaN                         NaN  Friends   \n",
       "17                           NaN                         NaN  Friends   \n",
       "22                           NaN                         NaN  Friends   \n",
       "49                           NaN                         NaN      NaN   \n",
       "...                          ...                         ...      ...   \n",
       "1547                         NaN                         NaN      NaN   \n",
       "1551                         NaN                         NaN      NaN   \n",
       "1563                         NaN                         NaN  Friends   \n",
       "1580                         NaN   Department administration  Friends   \n",
       "1587                         NaN                         NaN  Friends   \n",
       "\n",
       "     Events organized by student groups (CCV, CEEC, CFEC, DGE, DSISC, ELC, GEEC, GoBME, GradSWE, HinduYUVA, MEGA, PMC, qSTEM, SPICMACAY)  \\\n",
       "0                                                   NaN                                                                                    \n",
       "16    Events organized by student groups (CCV, CEEC,...                                                                                    \n",
       "17    Events organized by student groups (CCV, CEEC,...                                                                                    \n",
       "22                                                  NaN                                                                                    \n",
       "49                                                  NaN                                                                                    \n",
       "...                                                 ...                                                                                    \n",
       "1547                                                NaN                                                                                    \n",
       "1551                                                NaN                                                                                    \n",
       "1563                                                NaN                                                                                    \n",
       "1580                                                NaN                                                                                    \n",
       "1587                                                NaN                                                                                    \n",
       "\n",
       "     Professional Development and Leadership (PDL) Program.1  \\\n",
       "0                                                   NaN        \n",
       "16                                                  NaN        \n",
       "17                                                  NaN        \n",
       "22                                                  NaN        \n",
       "49                                                  NaN        \n",
       "...                                                 ...        \n",
       "1547                                                NaN        \n",
       "1551                                                NaN        \n",
       "1563                                                NaN        \n",
       "1580                                                NaN        \n",
       "1587                                                NaN        \n",
       "\n",
       "     Other (please specify).3                 Response.18 Response.19  \\\n",
       "0                         NaN                       Agree         NaN   \n",
       "16                        NaN                       Agree         NaN   \n",
       "17                        NaN  Neither agree nor disagree         NaN   \n",
       "22                        NaN              Strongly agree         NaN   \n",
       "49                        NaN                       Agree         NaN   \n",
       "...                       ...                         ...         ...   \n",
       "1547                      NaN  Neither agree nor disagree         NaN   \n",
       "1551                      NaN                       Agree         NaN   \n",
       "1563                      NaN  Neither agree nor disagree         NaN   \n",
       "1580                      NaN              Strongly agree         NaN   \n",
       "1587                      NaN  Neither agree nor disagree         NaN   \n",
       "\n",
       "     Other (please specify).4  \\\n",
       "0                         NaN   \n",
       "16                        NaN   \n",
       "17                        NaN   \n",
       "22                        NaN   \n",
       "49                        NaN   \n",
       "...                       ...   \n",
       "1547                      NaN   \n",
       "1551                      NaN   \n",
       "1563                      NaN   \n",
       "1580                      NaN   \n",
       "1587                      NaN   \n",
       "\n",
       "                                  Open-Ended Response.4  \n",
       "0                                                   NaN  \n",
       "16                                                  NaN  \n",
       "17    there need to be more intimate settings. its h...  \n",
       "22                                                  NaN  \n",
       "49                                                  NaN  \n",
       "...                                                 ...  \n",
       "1547                                                NaN  \n",
       "1551                                                NaN  \n",
       "1563                                                NaN  \n",
       "1580                                                NaN  \n",
       "1587                                                NaN  \n",
       "\n",
       "[138 rows x 15 columns]"
      ]
     },
     "execution_count": 114,
     "metadata": {},
     "output_type": "execute_result"
    }
   ],
   "source": [
    "networking = df.iloc[:, 138:153]\n",
    "networking"
   ]
  },
  {
   "cell_type": "markdown",
   "id": "80b499c4",
   "metadata": {},
   "source": [
    "### Resources "
   ]
  },
  {
   "cell_type": "code",
   "execution_count": 116,
   "id": "7d5f2951",
   "metadata": {},
   "outputs": [
    {
     "data": {
      "text/plain": [
       "0.644927536231884"
      ]
     },
     "execution_count": 116,
     "metadata": {},
     "output_type": "execute_result"
    }
   ],
   "source": [
    "not_developing = df['I have not been actively developing alumni contacts']\n",
    "1 - not_developing.notna().sum() / n"
   ]
  },
  {
   "cell_type": "code",
   "execution_count": 117,
   "id": "eb32ac59",
   "metadata": {},
   "outputs": [
    {
     "data": {
      "text/plain": [
       "Alumni Associations (CEAA, CEYA, CAA)                                                                                                  10\n",
       "Events organized by the Alumni Affairs Office                                                                                          11\n",
       "Events organized by EGSC or Office of Graduate Student Affairs                                                                         24\n",
       "Faculty.1                                                                                                                              50\n",
       "Graduate Engineer's Connect                                                                                                             8\n",
       "Department administration.1                                                                                                            16\n",
       "Friends                                                                                                                                83\n",
       "Events organized by student groups (CCV, CEEC, CFEC, DGE, DSISC, ELC, GEEC, GoBME, GradSWE, HinduYUVA, MEGA, PMC, qSTEM, SPICMACAY)    17\n",
       "Professional Development and Leadership (PDL) Program.1                                                                                13\n",
       "Other (please specify).3                                                                                                               10\n",
       "dtype: int64"
      ]
     },
     "execution_count": 117,
     "metadata": {},
     "output_type": "execute_result"
    }
   ],
   "source": [
    "network_resources = df.iloc[:, 139:149]\n",
    "network_resources.notna().sum()"
   ]
  },
  {
   "cell_type": "markdown",
   "id": "b69bc3f3",
   "metadata": {},
   "source": [
    "### Get involved as an alumni"
   ]
  },
  {
   "cell_type": "code",
   "execution_count": 118,
   "id": "c77df474",
   "metadata": {},
   "outputs": [
    {
     "data": {
      "text/plain": [
       "Agree                         59\n",
       "Neither agree nor disagree    47\n",
       "Strongly agree                15\n",
       "Disagree                      13\n",
       "Strongly disagree              4\n",
       "Name: Response.18, dtype: int64"
      ]
     },
     "execution_count": 118,
     "metadata": {},
     "output_type": "execute_result"
    }
   ],
   "source": [
    "df['Response.18'].value_counts()"
   ]
  },
  {
   "cell_type": "code",
   "execution_count": 119,
   "id": "4e9e5fe8",
   "metadata": {},
   "outputs": [
    {
     "data": {
      "text/plain": [
       "I'm not aware of opportunities to stay involved                8\n",
       "I don't find the current networking events appealing           6\n",
       "I'll be relocating to another part of the country or abroad    2\n",
       "Other (please specify)                                         1\n",
       "Name: Response.19, dtype: int64"
      ]
     },
     "execution_count": 119,
     "metadata": {},
     "output_type": "execute_result"
    }
   ],
   "source": [
    "# reasons\n",
    "df['Response.19'].value_counts()"
   ]
  },
  {
   "cell_type": "markdown",
   "id": "f0373eed",
   "metadata": {},
   "source": [
    "## Health and Safety"
   ]
  },
  {
   "cell_type": "code",
   "execution_count": 120,
   "id": "313441ee",
   "metadata": {},
   "outputs": [
    {
     "data": {
      "text/html": [
       "<div>\n",
       "<style scoped>\n",
       "    .dataframe tbody tr th:only-of-type {\n",
       "        vertical-align: middle;\n",
       "    }\n",
       "\n",
       "    .dataframe tbody tr th {\n",
       "        vertical-align: top;\n",
       "    }\n",
       "\n",
       "    .dataframe thead th {\n",
       "        text-align: right;\n",
       "    }\n",
       "</style>\n",
       "<table border=\"1\" class=\"dataframe\">\n",
       "  <thead>\n",
       "    <tr style=\"text-align: right;\">\n",
       "      <th></th>\n",
       "      <th>Response.26</th>\n",
       "      <th>Response.27</th>\n",
       "      <th>Response.28</th>\n",
       "      <th>Response.29</th>\n",
       "      <th>Response.30</th>\n",
       "      <th>Response.31</th>\n",
       "      <th>Response.32</th>\n",
       "      <th>Response.33</th>\n",
       "      <th>Open-Ended Response.11</th>\n",
       "      <th>Office of University Life (OUL) Tutorial</th>\n",
       "      <th>...</th>\n",
       "      <th>Gender-Based Misconduct Appeal Process</th>\n",
       "      <th>SVR (Sexual Violence Response)</th>\n",
       "      <th>EOAA (Equal Opportunity and Affirmative Action)</th>\n",
       "      <th>CPS (Counseling Psychology Services)</th>\n",
       "      <th>Response.34</th>\n",
       "      <th>The food that I bought just did not last and I didn't have money to buy more.</th>\n",
       "      <th>I cannot afford to eat balanced meals.</th>\n",
       "      <th>I have eaten less than what I should have because there wasn’t enough money to buy food.</th>\n",
       "      <th>In the past, I have had to cut the size of meals or skip meals because there wasn’t enough money for food.</th>\n",
       "      <th>I have not eaten for a whole day because there wasn’t enough money to buy food.</th>\n",
       "    </tr>\n",
       "  </thead>\n",
       "  <tbody>\n",
       "    <tr>\n",
       "      <th>0</th>\n",
       "      <td>Agree</td>\n",
       "      <td>No</td>\n",
       "      <td>I did not know about them</td>\n",
       "      <td>NaN</td>\n",
       "      <td>NaN</td>\n",
       "      <td>NaN</td>\n",
       "      <td>Not Applicable</td>\n",
       "      <td>No</td>\n",
       "      <td>NaN</td>\n",
       "      <td>Neither agree nor disagree</td>\n",
       "      <td>...</td>\n",
       "      <td>No</td>\n",
       "      <td>No</td>\n",
       "      <td>No</td>\n",
       "      <td>No</td>\n",
       "      <td>Disagree</td>\n",
       "      <td>Neither disagree nor agree</td>\n",
       "      <td>Disagree</td>\n",
       "      <td>Disagree</td>\n",
       "      <td>Agree</td>\n",
       "      <td>Disagree</td>\n",
       "    </tr>\n",
       "    <tr>\n",
       "      <th>16</th>\n",
       "      <td>Strongly agree</td>\n",
       "      <td>No</td>\n",
       "      <td>I do not need them</td>\n",
       "      <td>NaN</td>\n",
       "      <td>NaN</td>\n",
       "      <td>NaN</td>\n",
       "      <td>Agree</td>\n",
       "      <td>Yes</td>\n",
       "      <td>NaN</td>\n",
       "      <td>Strongly Agree</td>\n",
       "      <td>...</td>\n",
       "      <td>Yes</td>\n",
       "      <td>Yes</td>\n",
       "      <td>Yes</td>\n",
       "      <td>Yes</td>\n",
       "      <td>Strongly disagree</td>\n",
       "      <td>Strongly disagree</td>\n",
       "      <td>Strongly disagree</td>\n",
       "      <td>Strongly disagree</td>\n",
       "      <td>Strongly disagree</td>\n",
       "      <td>Strongly disagree</td>\n",
       "    </tr>\n",
       "    <tr>\n",
       "      <th>17</th>\n",
       "      <td>Agree</td>\n",
       "      <td>No</td>\n",
       "      <td>I did not know about them</td>\n",
       "      <td>NaN</td>\n",
       "      <td>NaN</td>\n",
       "      <td>NaN</td>\n",
       "      <td>Disagree</td>\n",
       "      <td>Yes</td>\n",
       "      <td>i may or may not have a cavity</td>\n",
       "      <td>Strongly disagree</td>\n",
       "      <td>...</td>\n",
       "      <td>Yes</td>\n",
       "      <td>Yes</td>\n",
       "      <td>Yes</td>\n",
       "      <td>Yes</td>\n",
       "      <td>Strongly disagree</td>\n",
       "      <td>Disagree</td>\n",
       "      <td>Disagree</td>\n",
       "      <td>Disagree</td>\n",
       "      <td>Disagree</td>\n",
       "      <td>Disagree</td>\n",
       "    </tr>\n",
       "    <tr>\n",
       "      <th>22</th>\n",
       "      <td>Agree</td>\n",
       "      <td>No</td>\n",
       "      <td>I am too busy</td>\n",
       "      <td>NaN</td>\n",
       "      <td>NaN</td>\n",
       "      <td>NaN</td>\n",
       "      <td>Neither agree nor disagree</td>\n",
       "      <td>Not applicable</td>\n",
       "      <td>NaN</td>\n",
       "      <td>Neither agree nor disagree</td>\n",
       "      <td>...</td>\n",
       "      <td>No</td>\n",
       "      <td>No</td>\n",
       "      <td>No</td>\n",
       "      <td>Yes</td>\n",
       "      <td>Disagree</td>\n",
       "      <td>Disagree</td>\n",
       "      <td>Neither disagree nor agree</td>\n",
       "      <td>Neither disagree nor agree</td>\n",
       "      <td>Neither disagree nor agree</td>\n",
       "      <td>Strongly disagree</td>\n",
       "    </tr>\n",
       "    <tr>\n",
       "      <th>49</th>\n",
       "      <td>Disagree</td>\n",
       "      <td>No</td>\n",
       "      <td>I do not need them</td>\n",
       "      <td>NaN</td>\n",
       "      <td>NaN</td>\n",
       "      <td>NaN</td>\n",
       "      <td>Disagree</td>\n",
       "      <td>Not applicable</td>\n",
       "      <td>NaN</td>\n",
       "      <td>Disagree</td>\n",
       "      <td>...</td>\n",
       "      <td>Yes</td>\n",
       "      <td>Yes</td>\n",
       "      <td>Yes</td>\n",
       "      <td>Yes</td>\n",
       "      <td>Strongly disagree</td>\n",
       "      <td>Disagree</td>\n",
       "      <td>Disagree</td>\n",
       "      <td>Disagree</td>\n",
       "      <td>Disagree</td>\n",
       "      <td>Disagree</td>\n",
       "    </tr>\n",
       "    <tr>\n",
       "      <th>...</th>\n",
       "      <td>...</td>\n",
       "      <td>...</td>\n",
       "      <td>...</td>\n",
       "      <td>...</td>\n",
       "      <td>...</td>\n",
       "      <td>...</td>\n",
       "      <td>...</td>\n",
       "      <td>...</td>\n",
       "      <td>...</td>\n",
       "      <td>...</td>\n",
       "      <td>...</td>\n",
       "      <td>...</td>\n",
       "      <td>...</td>\n",
       "      <td>...</td>\n",
       "      <td>...</td>\n",
       "      <td>...</td>\n",
       "      <td>...</td>\n",
       "      <td>...</td>\n",
       "      <td>...</td>\n",
       "      <td>...</td>\n",
       "      <td>...</td>\n",
       "    </tr>\n",
       "    <tr>\n",
       "      <th>1547</th>\n",
       "      <td>Neither agree nor disagree</td>\n",
       "      <td>No</td>\n",
       "      <td>I am too busy</td>\n",
       "      <td>NaN</td>\n",
       "      <td>NaN</td>\n",
       "      <td>NaN</td>\n",
       "      <td>Not Applicable</td>\n",
       "      <td>Not applicable</td>\n",
       "      <td>NaN</td>\n",
       "      <td>Agree</td>\n",
       "      <td>...</td>\n",
       "      <td>Yes</td>\n",
       "      <td>Yes</td>\n",
       "      <td>Yes</td>\n",
       "      <td>Yes</td>\n",
       "      <td>Disagree</td>\n",
       "      <td>Disagree</td>\n",
       "      <td>Disagree</td>\n",
       "      <td>Disagree</td>\n",
       "      <td>Disagree</td>\n",
       "      <td>Disagree</td>\n",
       "    </tr>\n",
       "    <tr>\n",
       "      <th>1551</th>\n",
       "      <td>Agree</td>\n",
       "      <td>No</td>\n",
       "      <td>I do not need them</td>\n",
       "      <td>NaN</td>\n",
       "      <td>NaN</td>\n",
       "      <td>NaN</td>\n",
       "      <td>Not Applicable</td>\n",
       "      <td>Not applicable</td>\n",
       "      <td>NaN</td>\n",
       "      <td>Strongly Agree</td>\n",
       "      <td>...</td>\n",
       "      <td>No</td>\n",
       "      <td>Yes</td>\n",
       "      <td>No</td>\n",
       "      <td>Yes</td>\n",
       "      <td>Strongly disagree</td>\n",
       "      <td>Strongly disagree</td>\n",
       "      <td>Strongly disagree</td>\n",
       "      <td>Strongly disagree</td>\n",
       "      <td>Strongly disagree</td>\n",
       "      <td>Strongly disagree</td>\n",
       "    </tr>\n",
       "    <tr>\n",
       "      <th>1563</th>\n",
       "      <td>Agree</td>\n",
       "      <td>Yes</td>\n",
       "      <td>NaN</td>\n",
       "      <td>No</td>\n",
       "      <td>Strongly agree</td>\n",
       "      <td>NaN</td>\n",
       "      <td>Agree</td>\n",
       "      <td>Yes</td>\n",
       "      <td>NaN</td>\n",
       "      <td>Neither agree nor disagree</td>\n",
       "      <td>...</td>\n",
       "      <td>No</td>\n",
       "      <td>Yes</td>\n",
       "      <td>No</td>\n",
       "      <td>Yes</td>\n",
       "      <td>Disagree</td>\n",
       "      <td>Disagree</td>\n",
       "      <td>Disagree</td>\n",
       "      <td>Disagree</td>\n",
       "      <td>Disagree</td>\n",
       "      <td>Disagree</td>\n",
       "    </tr>\n",
       "    <tr>\n",
       "      <th>1580</th>\n",
       "      <td>Agree</td>\n",
       "      <td>No</td>\n",
       "      <td>I was not aware of the confidentiality in the ...</td>\n",
       "      <td>NaN</td>\n",
       "      <td>NaN</td>\n",
       "      <td>NaN</td>\n",
       "      <td>Disagree</td>\n",
       "      <td>No</td>\n",
       "      <td>NaN</td>\n",
       "      <td>Neither agree nor disagree</td>\n",
       "      <td>...</td>\n",
       "      <td>No</td>\n",
       "      <td>No</td>\n",
       "      <td>No</td>\n",
       "      <td>Yes</td>\n",
       "      <td>Strongly disagree</td>\n",
       "      <td>Disagree</td>\n",
       "      <td>Disagree</td>\n",
       "      <td>Disagree</td>\n",
       "      <td>Disagree</td>\n",
       "      <td>Disagree</td>\n",
       "    </tr>\n",
       "    <tr>\n",
       "      <th>1587</th>\n",
       "      <td>Agree</td>\n",
       "      <td>No</td>\n",
       "      <td>I am too busy</td>\n",
       "      <td>NaN</td>\n",
       "      <td>NaN</td>\n",
       "      <td>NaN</td>\n",
       "      <td>Strongly disagree</td>\n",
       "      <td>Not applicable</td>\n",
       "      <td>NaN</td>\n",
       "      <td>Strongly Agree</td>\n",
       "      <td>...</td>\n",
       "      <td>Yes</td>\n",
       "      <td>Yes</td>\n",
       "      <td>Yes</td>\n",
       "      <td>Yes</td>\n",
       "      <td>Agree</td>\n",
       "      <td>Strongly agree</td>\n",
       "      <td>Agree</td>\n",
       "      <td>Strongly agree</td>\n",
       "      <td>Strongly agree</td>\n",
       "      <td>Strongly agree</td>\n",
       "    </tr>\n",
       "  </tbody>\n",
       "</table>\n",
       "<p>138 rows × 26 columns</p>\n",
       "</div>"
      ],
      "text/plain": [
       "                     Response.26 Response.27  \\\n",
       "0                          Agree          No   \n",
       "16                Strongly agree          No   \n",
       "17                         Agree          No   \n",
       "22                         Agree          No   \n",
       "49                      Disagree          No   \n",
       "...                          ...         ...   \n",
       "1547  Neither agree nor disagree          No   \n",
       "1551                       Agree          No   \n",
       "1563                       Agree         Yes   \n",
       "1580                       Agree          No   \n",
       "1587                       Agree          No   \n",
       "\n",
       "                                            Response.28 Response.29  \\\n",
       "0                             I did not know about them         NaN   \n",
       "16                                   I do not need them         NaN   \n",
       "17                            I did not know about them         NaN   \n",
       "22                                        I am too busy         NaN   \n",
       "49                                   I do not need them         NaN   \n",
       "...                                                 ...         ...   \n",
       "1547                                      I am too busy         NaN   \n",
       "1551                                 I do not need them         NaN   \n",
       "1563                                                NaN          No   \n",
       "1580  I was not aware of the confidentiality in the ...         NaN   \n",
       "1587                                      I am too busy         NaN   \n",
       "\n",
       "         Response.30 Response.31                 Response.32     Response.33  \\\n",
       "0                NaN         NaN              Not Applicable              No   \n",
       "16               NaN         NaN                       Agree             Yes   \n",
       "17               NaN         NaN                    Disagree             Yes   \n",
       "22               NaN         NaN  Neither agree nor disagree  Not applicable   \n",
       "49               NaN         NaN                    Disagree  Not applicable   \n",
       "...              ...         ...                         ...             ...   \n",
       "1547             NaN         NaN              Not Applicable  Not applicable   \n",
       "1551             NaN         NaN              Not Applicable  Not applicable   \n",
       "1563  Strongly agree         NaN                       Agree             Yes   \n",
       "1580             NaN         NaN                    Disagree              No   \n",
       "1587             NaN         NaN           Strongly disagree  Not applicable   \n",
       "\n",
       "              Open-Ended Response.11 Office of University Life (OUL) Tutorial  \\\n",
       "0                                NaN               Neither agree nor disagree   \n",
       "16                               NaN                           Strongly Agree   \n",
       "17    i may or may not have a cavity                        Strongly disagree   \n",
       "22                               NaN               Neither agree nor disagree   \n",
       "49                               NaN                                 Disagree   \n",
       "...                              ...                                      ...   \n",
       "1547                             NaN                                    Agree   \n",
       "1551                             NaN                           Strongly Agree   \n",
       "1563                             NaN               Neither agree nor disagree   \n",
       "1580                             NaN               Neither agree nor disagree   \n",
       "1587                             NaN                           Strongly Agree   \n",
       "\n",
       "      ... Gender-Based Misconduct Appeal Process  \\\n",
       "0     ...                                     No   \n",
       "16    ...                                    Yes   \n",
       "17    ...                                    Yes   \n",
       "22    ...                                     No   \n",
       "49    ...                                    Yes   \n",
       "...   ...                                    ...   \n",
       "1547  ...                                    Yes   \n",
       "1551  ...                                     No   \n",
       "1563  ...                                     No   \n",
       "1580  ...                                     No   \n",
       "1587  ...                                    Yes   \n",
       "\n",
       "     SVR (Sexual Violence Response)  \\\n",
       "0                                No   \n",
       "16                              Yes   \n",
       "17                              Yes   \n",
       "22                               No   \n",
       "49                              Yes   \n",
       "...                             ...   \n",
       "1547                            Yes   \n",
       "1551                            Yes   \n",
       "1563                            Yes   \n",
       "1580                             No   \n",
       "1587                            Yes   \n",
       "\n",
       "     EOAA (Equal Opportunity and Affirmative Action)  \\\n",
       "0                                                 No   \n",
       "16                                               Yes   \n",
       "17                                               Yes   \n",
       "22                                                No   \n",
       "49                                               Yes   \n",
       "...                                              ...   \n",
       "1547                                             Yes   \n",
       "1551                                              No   \n",
       "1563                                              No   \n",
       "1580                                              No   \n",
       "1587                                             Yes   \n",
       "\n",
       "     CPS (Counseling Psychology Services)        Response.34  \\\n",
       "0                                      No           Disagree   \n",
       "16                                    Yes  Strongly disagree   \n",
       "17                                    Yes  Strongly disagree   \n",
       "22                                    Yes           Disagree   \n",
       "49                                    Yes  Strongly disagree   \n",
       "...                                   ...                ...   \n",
       "1547                                  Yes           Disagree   \n",
       "1551                                  Yes  Strongly disagree   \n",
       "1563                                  Yes           Disagree   \n",
       "1580                                  Yes  Strongly disagree   \n",
       "1587                                  Yes              Agree   \n",
       "\n",
       "     The food that I bought just did not last and I didn't have money to buy more.  \\\n",
       "0                            Neither disagree nor agree                              \n",
       "16                                    Strongly disagree                              \n",
       "17                                             Disagree                              \n",
       "22                                             Disagree                              \n",
       "49                                             Disagree                              \n",
       "...                                                 ...                              \n",
       "1547                                           Disagree                              \n",
       "1551                                  Strongly disagree                              \n",
       "1563                                           Disagree                              \n",
       "1580                                           Disagree                              \n",
       "1587                                     Strongly agree                              \n",
       "\n",
       "     I cannot afford to eat balanced meals.  \\\n",
       "0                                  Disagree   \n",
       "16                        Strongly disagree   \n",
       "17                                 Disagree   \n",
       "22               Neither disagree nor agree   \n",
       "49                                 Disagree   \n",
       "...                                     ...   \n",
       "1547                               Disagree   \n",
       "1551                      Strongly disagree   \n",
       "1563                               Disagree   \n",
       "1580                               Disagree   \n",
       "1587                                  Agree   \n",
       "\n",
       "     I have eaten less than what I should have because there wasn’t enough money to buy food.  \\\n",
       "0                                              Disagree                                         \n",
       "16                                    Strongly disagree                                         \n",
       "17                                             Disagree                                         \n",
       "22                           Neither disagree nor agree                                         \n",
       "49                                             Disagree                                         \n",
       "...                                                 ...                                         \n",
       "1547                                           Disagree                                         \n",
       "1551                                  Strongly disagree                                         \n",
       "1563                                           Disagree                                         \n",
       "1580                                           Disagree                                         \n",
       "1587                                     Strongly agree                                         \n",
       "\n",
       "     In the past, I have had to cut the size of meals or skip meals because there wasn’t enough money for food.  \\\n",
       "0                                                 Agree                                                           \n",
       "16                                    Strongly disagree                                                           \n",
       "17                                             Disagree                                                           \n",
       "22                           Neither disagree nor agree                                                           \n",
       "49                                             Disagree                                                           \n",
       "...                                                 ...                                                           \n",
       "1547                                           Disagree                                                           \n",
       "1551                                  Strongly disagree                                                           \n",
       "1563                                           Disagree                                                           \n",
       "1580                                           Disagree                                                           \n",
       "1587                                     Strongly agree                                                           \n",
       "\n",
       "     I have not eaten for a whole day because there wasn’t enough money to buy food.  \n",
       "0                                              Disagree                               \n",
       "16                                    Strongly disagree                               \n",
       "17                                             Disagree                               \n",
       "22                                    Strongly disagree                               \n",
       "49                                             Disagree                               \n",
       "...                                                 ...                               \n",
       "1547                                           Disagree                               \n",
       "1551                                  Strongly disagree                               \n",
       "1563                                           Disagree                               \n",
       "1580                                           Disagree                               \n",
       "1587                                     Strongly agree                               \n",
       "\n",
       "[138 rows x 26 columns]"
      ]
     },
     "execution_count": 120,
     "metadata": {},
     "output_type": "execute_result"
    }
   ],
   "source": [
    "health = df.iloc[:, 248:274]\n",
    "health"
   ]
  },
  {
   "cell_type": "markdown",
   "id": "60ef140c",
   "metadata": {},
   "source": [
    "### Usefulness of Health Services"
   ]
  },
  {
   "cell_type": "code",
   "execution_count": 124,
   "id": "5e57d789",
   "metadata": {},
   "outputs": [
    {
     "name": "stdout",
     "output_type": "stream",
     "text": [
      "Agree                         53\n",
      "Strongly agree                26\n",
      "Neither agree nor disagree    17\n",
      "Disagree                      10\n",
      "Strongly disagree              3\n",
      "Name: Medical services at Columbia, dtype: int64\n",
      "score:3.770642201834862\n",
      "\n",
      "\n",
      "Neither agree nor disagree    35\n",
      "Agree                         12\n",
      "Strongly agree                 5\n",
      "Disagree                       4\n",
      "Strongly disagree              2\n",
      "Name: Go Ask Alice!, dtype: int64\n",
      "score:3.3275862068965516\n",
      "\n",
      "\n",
      "Neither agree nor disagree    30\n",
      "Agree                         16\n",
      "Disagree                       6\n",
      "Strongly agree                 6\n",
      "Strongly disagree              3\n",
      "Name: Alice! organized workshops (Nutrition, Fitness, Sexual & Reproductive Health, Stress, Tobacco cessation etc), dtype: int64\n",
      "score:3.4262295081967213\n"
     ]
    }
   ],
   "source": [
    "usefulness = df.iloc[:, 245:248]\n",
    "print(usefulness['Medical services at Columbia'].value_counts())\n",
    "print('score:' + str(count_score(usefulness['Medical services at Columbia'].value_counts())))\n",
    "print('\\n')\n",
    "print(usefulness['Go Ask Alice!'].value_counts())\n",
    "print('score:' + str(count_score(usefulness['Go Ask Alice!'].value_counts())))\n",
    "print('\\n')\n",
    "print(usefulness['Alice! organized workshops (Nutrition, Fitness, Sexual & Reproductive Health, Stress, Tobacco cessation etc)'].value_counts())\n",
    "print('score:' + str(count_score(usefulness['Alice! organized workshops (Nutrition, Fitness, Sexual & Reproductive Health, Stress, Tobacco cessation etc)'].value_counts())))"
   ]
  },
  {
   "cell_type": "code",
   "execution_count": 128,
   "id": "73432111",
   "metadata": {},
   "outputs": [],
   "source": [
    "# usefulness2019 = df2019[['Medical services at Columbia', 'Go Ask Alice!', 'Alice! organized workshops (Nutrition, Fitness, Sexual & Reproductive Health, Stress, Tobacco cessation etc)']]\n",
    "# usefulness2019.mean()"
   ]
  },
  {
   "cell_type": "code",
   "execution_count": 129,
   "id": "fdf0be85",
   "metadata": {},
   "outputs": [
    {
     "data": {
      "text/plain": [
       "Agree                         85\n",
       "Strongly agree                32\n",
       "Neither agree nor disagree    12\n",
       "Disagree                       5\n",
       "Strongly disagree              4\n",
       "Name: Response.26, dtype: int64"
      ]
     },
     "execution_count": 129,
     "metadata": {},
     "output_type": "execute_result"
    }
   ],
   "source": [
    "safety = df['Response.26']\n",
    "safety.value_counts()"
   ]
  },
  {
   "cell_type": "code",
   "execution_count": 130,
   "id": "1c8aebad",
   "metadata": {},
   "outputs": [
    {
     "name": "stdout",
     "output_type": "stream",
     "text": [
      "Female    4\n",
      "Male      1\n",
      "Name: gender, dtype: int64\n"
     ]
    },
    {
     "data": {
      "text/plain": [
       "Female    4\n",
       "Name: gender, dtype: int64"
      ]
     },
     "execution_count": 130,
     "metadata": {},
     "output_type": "execute_result"
    }
   ],
   "source": [
    "# safety - demographics\n",
    "\n",
    "safety_d = df[df['Response.26'] == 'Disagree'].gender\n",
    "print(safety_d.value_counts())\n",
    "\n",
    "safety_sd = df[df['Response.26'] == 'Strongly disagree'].gender\n",
    "safety_sd.value_counts()"
   ]
  },
  {
   "cell_type": "code",
   "execution_count": 131,
   "id": "1f907a59",
   "metadata": {},
   "outputs": [
    {
     "data": {
      "text/plain": [
       "No     98\n",
       "Yes    40\n",
       "Name: Response.27, dtype: int64"
      ]
     },
     "execution_count": 131,
     "metadata": {},
     "output_type": "execute_result"
    }
   ],
   "source": [
    "counseling = df['Response.27']\n",
    "counseling.value_counts()"
   ]
  },
  {
   "cell_type": "code",
   "execution_count": 132,
   "id": "638282df",
   "metadata": {},
   "outputs": [
    {
     "data": {
      "text/plain": [
       "I do not need them                                       45\n",
       "I am too busy                                            28\n",
       "I did not think the services would help me               14\n",
       "I did not know about them                                 7\n",
       "I was not aware of the confidentiality in the process     4\n",
       "I am too embarrassed                                      1\n",
       "Name: Response.28, dtype: int64"
      ]
     },
     "execution_count": 132,
     "metadata": {},
     "output_type": "execute_result"
    }
   ],
   "source": [
    "counseling_reason = df['Response.28']\n",
    "counseling_reason.value_counts()"
   ]
  },
  {
   "cell_type": "code",
   "execution_count": 133,
   "id": "ba358f27",
   "metadata": {},
   "outputs": [
    {
     "data": {
      "text/plain": [
       "Not applicable    50\n",
       "Yes               48\n",
       "No                40\n",
       "Name: Response.33, dtype: int64"
      ]
     },
     "execution_count": 133,
     "metadata": {},
     "output_type": "execute_result"
    }
   ],
   "source": [
    "# dental\n",
    "\n",
    "dental = df['Response.33']\n",
    "dental.value_counts()"
   ]
  },
  {
   "cell_type": "markdown",
   "id": "50d652b4",
   "metadata": {},
   "source": [
    "## Student life"
   ]
  },
  {
   "cell_type": "code",
   "execution_count": 134,
   "id": "fc3ae0e9",
   "metadata": {},
   "outputs": [
    {
     "data": {
      "text/plain": [
       "Index(['Themed social events (Harry Potter Trivia Night, Gaming Night, etc.)',\n",
       "       'Off-Campus socials (Boat Cruise, Rooftop socials, Amity Hall, etc...)',\n",
       "       'Interschool events (Festifall, Mel's Burger Bar Mixer, Poker Night, etc.)',\n",
       "       'Entertainment (Sports games, AMC movie nights, etc.)',\n",
       "       'Organized sporting activities (Bowling, ice skating, ski trips etc.)',\n",
       "       'Performance Arts (Broadway Shows, ballet, opera, NY Philharmonic, etc.)',\n",
       "       'Events organized by student groups (CCV, CEEC, CFEC, DGE, DSISC, ELC, GEEC, GoBME, GradSWE, HinduYUVA, MEGA, PMC, qSTEM, SPICMACAY).1',\n",
       "       'On-campus gatherings (Carleton Commons socials, watching sports games, etc.)',\n",
       "       'Overall sense of community within SEAS',\n",
       "       'Overall sense of community within my department',\n",
       "       'Number of social events and programs within SEAS',\n",
       "       'Diversity of social events and programs within SEAS',\n",
       "       'Diversity of student groups within SEAS',\n",
       "       'Capacity/number of tickets available for EGSC/GSA events',\n",
       "       'Pricing of tickets for EGSC/GSA events',\n",
       "       'GSA events (including orientation)', 'Department-sponsored events',\n",
       "       'EGSC events',\n",
       "       'Other student group-sponsored events (CCV, CEEC, CFEC, DGE, DSISC, ELC, GEEC, GoBME, GradSWE, HinduYUVA, MEGA, PMC, qSTEM, SPICMACAY)',\n",
       "       'Professional Development and Leadership (PDL) Program.2',\n",
       "       'Response.20', 'University resources', 'Columbia campus',\n",
       "       'New York City', 'My department', 'Student groups',\n",
       "       'EGSC/Office of Graduate Student Affairs', 'Open-Ended Response.5',\n",
       "       'Open-Ended Response.6', 'Open-Ended Response.7',\n",
       "       'Open-Ended Response.8', 'Google Calendar', 'Flyers', 'GSA Newsletter',\n",
       "       'EGSC Newsletter', 'Emails from Graduate Student Affairs office',\n",
       "       'Facebook', 'Twitter Feed', 'EGSC website/Facebook page', 'WeChat',\n",
       "       'WhatsApp', 'Instagram', 'Mudd 4th floor projector'],\n",
       "      dtype='object')"
      ]
     },
     "execution_count": 134,
     "metadata": {},
     "output_type": "execute_result"
    }
   ],
   "source": [
    "student_life = df.iloc[:, 153:196]\n",
    "student_life.columns"
   ]
  },
  {
   "cell_type": "markdown",
   "id": "49a5aff5",
   "metadata": {},
   "source": [
    "### Satisfaction with Community Building Efforts"
   ]
  },
  {
   "cell_type": "code",
   "execution_count": 135,
   "id": "b0e83102",
   "metadata": {},
   "outputs": [
    {
     "data": {
      "text/html": [
       "<div>\n",
       "<style scoped>\n",
       "    .dataframe tbody tr th:only-of-type {\n",
       "        vertical-align: middle;\n",
       "    }\n",
       "\n",
       "    .dataframe tbody tr th {\n",
       "        vertical-align: top;\n",
       "    }\n",
       "\n",
       "    .dataframe thead th {\n",
       "        text-align: right;\n",
       "    }\n",
       "</style>\n",
       "<table border=\"1\" class=\"dataframe\">\n",
       "  <thead>\n",
       "    <tr style=\"text-align: right;\">\n",
       "      <th></th>\n",
       "      <th>Number of social events and programs within SEAS</th>\n",
       "      <th>Diversity of social events and programs within SEAS</th>\n",
       "      <th>Diversity of student groups within SEAS</th>\n",
       "      <th>Capacity/number of tickets available for EGSC/GSA events</th>\n",
       "      <th>Pricing of tickets for EGSC/GSA events</th>\n",
       "    </tr>\n",
       "  </thead>\n",
       "  <tbody>\n",
       "    <tr>\n",
       "      <th>0</th>\n",
       "      <td>Satisfied</td>\n",
       "      <td>Satisfied</td>\n",
       "      <td>Neither satisfied nor dissatisfied</td>\n",
       "      <td>Dissatisfied</td>\n",
       "      <td>Satisfied</td>\n",
       "    </tr>\n",
       "    <tr>\n",
       "      <th>16</th>\n",
       "      <td>Satisfied</td>\n",
       "      <td>Satisfied</td>\n",
       "      <td>Satisfied</td>\n",
       "      <td>Satisfied</td>\n",
       "      <td>Neither satisfied nor dissatisfied</td>\n",
       "    </tr>\n",
       "    <tr>\n",
       "      <th>17</th>\n",
       "      <td>Very satisfied</td>\n",
       "      <td>Very satisfied</td>\n",
       "      <td>Very satisfied</td>\n",
       "      <td>Very satisfied</td>\n",
       "      <td>Very satisfied</td>\n",
       "    </tr>\n",
       "    <tr>\n",
       "      <th>22</th>\n",
       "      <td>Neither satisfied nor dissatisfied</td>\n",
       "      <td>Neither satisfied nor dissatisfied</td>\n",
       "      <td>Neither satisfied nor dissatisfied</td>\n",
       "      <td>Neither satisfied nor dissatisfied</td>\n",
       "      <td>Neither satisfied nor dissatisfied</td>\n",
       "    </tr>\n",
       "    <tr>\n",
       "      <th>49</th>\n",
       "      <td>Satisfied</td>\n",
       "      <td>Dissatisfied</td>\n",
       "      <td>Dissatisfied</td>\n",
       "      <td>Very dissatisfied</td>\n",
       "      <td>Satisfied</td>\n",
       "    </tr>\n",
       "    <tr>\n",
       "      <th>...</th>\n",
       "      <td>...</td>\n",
       "      <td>...</td>\n",
       "      <td>...</td>\n",
       "      <td>...</td>\n",
       "      <td>...</td>\n",
       "    </tr>\n",
       "    <tr>\n",
       "      <th>1547</th>\n",
       "      <td>Neither satisfied nor dissatisfied</td>\n",
       "      <td>Neither satisfied nor dissatisfied</td>\n",
       "      <td>Neither satisfied nor dissatisfied</td>\n",
       "      <td>Dissatisfied</td>\n",
       "      <td>Neither satisfied nor dissatisfied</td>\n",
       "    </tr>\n",
       "    <tr>\n",
       "      <th>1551</th>\n",
       "      <td>Neither satisfied nor dissatisfied</td>\n",
       "      <td>Satisfied</td>\n",
       "      <td>Satisfied</td>\n",
       "      <td>Very dissatisfied</td>\n",
       "      <td>Very dissatisfied</td>\n",
       "    </tr>\n",
       "    <tr>\n",
       "      <th>1563</th>\n",
       "      <td>Satisfied</td>\n",
       "      <td>Satisfied</td>\n",
       "      <td>Satisfied</td>\n",
       "      <td>Satisfied</td>\n",
       "      <td>Satisfied</td>\n",
       "    </tr>\n",
       "    <tr>\n",
       "      <th>1580</th>\n",
       "      <td>Dissatisfied</td>\n",
       "      <td>Dissatisfied</td>\n",
       "      <td>Dissatisfied</td>\n",
       "      <td>Dissatisfied</td>\n",
       "      <td>Satisfied</td>\n",
       "    </tr>\n",
       "    <tr>\n",
       "      <th>1587</th>\n",
       "      <td>Dissatisfied</td>\n",
       "      <td>Neither satisfied nor dissatisfied</td>\n",
       "      <td>Dissatisfied</td>\n",
       "      <td>Dissatisfied</td>\n",
       "      <td>Neither satisfied nor dissatisfied</td>\n",
       "    </tr>\n",
       "  </tbody>\n",
       "</table>\n",
       "<p>138 rows × 5 columns</p>\n",
       "</div>"
      ],
      "text/plain": [
       "     Number of social events and programs within SEAS  \\\n",
       "0                                           Satisfied   \n",
       "16                                          Satisfied   \n",
       "17                                     Very satisfied   \n",
       "22                 Neither satisfied nor dissatisfied   \n",
       "49                                          Satisfied   \n",
       "...                                               ...   \n",
       "1547               Neither satisfied nor dissatisfied   \n",
       "1551               Neither satisfied nor dissatisfied   \n",
       "1563                                        Satisfied   \n",
       "1580                                     Dissatisfied   \n",
       "1587                                     Dissatisfied   \n",
       "\n",
       "     Diversity of social events and programs within SEAS  \\\n",
       "0                                             Satisfied    \n",
       "16                                            Satisfied    \n",
       "17                                       Very satisfied    \n",
       "22                   Neither satisfied nor dissatisfied    \n",
       "49                                         Dissatisfied    \n",
       "...                                                 ...    \n",
       "1547                 Neither satisfied nor dissatisfied    \n",
       "1551                                          Satisfied    \n",
       "1563                                          Satisfied    \n",
       "1580                                       Dissatisfied    \n",
       "1587                 Neither satisfied nor dissatisfied    \n",
       "\n",
       "     Diversity of student groups within SEAS  \\\n",
       "0         Neither satisfied nor dissatisfied   \n",
       "16                                 Satisfied   \n",
       "17                            Very satisfied   \n",
       "22        Neither satisfied nor dissatisfied   \n",
       "49                              Dissatisfied   \n",
       "...                                      ...   \n",
       "1547      Neither satisfied nor dissatisfied   \n",
       "1551                               Satisfied   \n",
       "1563                               Satisfied   \n",
       "1580                            Dissatisfied   \n",
       "1587                            Dissatisfied   \n",
       "\n",
       "     Capacity/number of tickets available for EGSC/GSA events  \\\n",
       "0                                          Dissatisfied         \n",
       "16                                            Satisfied         \n",
       "17                                       Very satisfied         \n",
       "22                   Neither satisfied nor dissatisfied         \n",
       "49                                    Very dissatisfied         \n",
       "...                                                 ...         \n",
       "1547                                       Dissatisfied         \n",
       "1551                                  Very dissatisfied         \n",
       "1563                                          Satisfied         \n",
       "1580                                       Dissatisfied         \n",
       "1587                                       Dissatisfied         \n",
       "\n",
       "     Pricing of tickets for EGSC/GSA events  \n",
       "0                                 Satisfied  \n",
       "16       Neither satisfied nor dissatisfied  \n",
       "17                           Very satisfied  \n",
       "22       Neither satisfied nor dissatisfied  \n",
       "49                                Satisfied  \n",
       "...                                     ...  \n",
       "1547     Neither satisfied nor dissatisfied  \n",
       "1551                      Very dissatisfied  \n",
       "1563                              Satisfied  \n",
       "1580                              Satisfied  \n",
       "1587     Neither satisfied nor dissatisfied  \n",
       "\n",
       "[138 rows x 5 columns]"
      ]
     },
     "execution_count": 135,
     "metadata": {},
     "output_type": "execute_result"
    }
   ],
   "source": [
    "satisfy_community2019 = df2019.iloc[:, 155:160]\n",
    "satisfy_community2019\n",
    "\n",
    "satisfy_community = df[['Number of social events and programs within SEAS',\n",
    "       'Diversity of social events and programs within SEAS',\n",
    "       'Diversity of student groups within SEAS',\n",
    "       'Capacity/number of tickets available for EGSC/GSA events',\n",
    "       'Pricing of tickets for EGSC/GSA events']]\n",
    "satisfy_community"
   ]
  },
  {
   "cell_type": "code",
   "execution_count": null,
   "id": "7805689b",
   "metadata": {},
   "outputs": [],
   "source": []
  },
  {
   "cell_type": "code",
   "execution_count": 138,
   "id": "066144c6",
   "metadata": {},
   "outputs": [
    {
     "name": "stdout",
     "output_type": "stream",
     "text": [
      "3.5\n",
      "\n",
      "\n",
      "3.572463768115942\n",
      "\n",
      "\n",
      "3.572463768115942\n",
      "\n",
      "\n",
      "2.6956521739130435\n",
      "\n",
      "\n",
      "3.5072463768115942\n",
      "\n",
      "\n"
     ]
    }
   ],
   "source": [
    "print(count_score(df['Number of social events and programs within SEAS']))\n",
    "# print(count_score(df2019['Number of social events and programs within SEAS']))\n",
    "print('\\n')\n",
    "print(count_score(df['Diversity of social events and programs within SEAS']))\n",
    "# print(count_score(df2019['Diversity of social events and programs within SEAS']))\n",
    "print('\\n')\n",
    "print(count_score(df['Diversity of student groups within SEAS']))\n",
    "# print(count_score(df2019['Diversity of student groups within SEAS']))\n",
    "print('\\n')\n",
    "print(count_score(df['Capacity/number of tickets available for EGSC/GSA events']))\n",
    "# print(count_score(df2019['Capacity/number of tickets available for EGSC/GSA events']))\n",
    "print('\\n')\n",
    "print(count_score(df['Pricing of tickets for EGSC/GSA events']))\n",
    "# print(count_score(df2019['Pricing of tickets for EGSC/GSA events']))\n",
    "print('\\n')"
   ]
  },
  {
   "cell_type": "markdown",
   "id": "ad9a1152",
   "metadata": {},
   "source": [
    "### Preferred way of hearing about student events"
   ]
  },
  {
   "cell_type": "code",
   "execution_count": 139,
   "id": "07f66cc8",
   "metadata": {},
   "outputs": [
    {
     "data": {
      "text/plain": [
       "Google Calendar                                 39\n",
       "Flyers                                          11\n",
       "GSA Newsletter                                  37\n",
       "EGSC Newsletter                                 53\n",
       "Emails from Graduate Student Affairs office    102\n",
       "Facebook                                        15\n",
       "Twitter Feed                                     8\n",
       "EGSC website/Facebook page                      11\n",
       "WeChat                                          10\n",
       "WhatsApp                                        27\n",
       "Instagram                                       62\n",
       "Mudd 4th floor projector                        17\n",
       "dtype: int64"
      ]
     },
     "execution_count": 139,
     "metadata": {},
     "output_type": "execute_result"
    }
   ],
   "source": [
    "way = df[['Google Calendar', 'Flyers', 'GSA Newsletter',\n",
    "       'EGSC Newsletter', 'Emails from Graduate Student Affairs office',\n",
    "       'Facebook', 'Twitter Feed', 'EGSC website/Facebook page', 'WeChat',\n",
    "       'WhatsApp', 'Instagram', 'Mudd 4th floor projector']]\n",
    "way.notna().sum()"
   ]
  },
  {
   "cell_type": "markdown",
   "id": "db2fac12",
   "metadata": {},
   "source": [
    "### Satisfaction with EGSC and GSA Events"
   ]
  },
  {
   "cell_type": "code",
   "execution_count": 140,
   "id": "67902b0f",
   "metadata": {},
   "outputs": [
    {
     "data": {
      "text/plain": [
       "Agree                         56\n",
       "Strongly agree                37\n",
       "Neither agree nor disagree    31\n",
       "Disagree                      12\n",
       "Strongly disagree              2\n",
       "Name: On-campus gatherings (Carleton Commons socials, watching sports games, etc.), dtype: int64"
      ]
     },
     "execution_count": 140,
     "metadata": {},
     "output_type": "execute_result"
    }
   ],
   "source": [
    "satifaction1 = df[['Themed social events (Harry Potter Trivia Night, Gaming Night, etc.)',\n",
    "                   'Off-Campus socials (Boat Cruise, Rooftop socials, Amity Hall, etc...)',\n",
    "                   'Interschool events (Festifall, Mel\\'s Burger Bar Mixer, Poker Night, etc.)',\n",
    "                   'Entertainment (Sports games, AMC movie nights, etc.)',\n",
    "                   'Organized sporting activities (Bowling, ice skating, ski trips etc.)',\n",
    "                   'Performance Arts (Broadway Shows, ballet, opera, NY Philharmonic, etc.)',\n",
    "                   'Events organized by student groups (CCV, CEEC, CFEC, DGE, DSISC, ELC, GEEC, GoBME, GradSWE, HinduYUVA, MEGA, PMC, qSTEM, SPICMACAY).1',\n",
    "                   'On-campus gatherings (Carleton Commons socials, watching sports games, etc.)']]\n",
    "satifaction1['On-campus gatherings (Carleton Commons socials, watching sports games, etc.)'].value_counts()"
   ]
  },
  {
   "cell_type": "code",
   "execution_count": 146,
   "id": "8b879bce",
   "metadata": {},
   "outputs": [
    {
     "data": {
      "text/html": [
       "<div>\n",
       "<style scoped>\n",
       "    .dataframe tbody tr th:only-of-type {\n",
       "        vertical-align: middle;\n",
       "    }\n",
       "\n",
       "    .dataframe tbody tr th {\n",
       "        vertical-align: top;\n",
       "    }\n",
       "\n",
       "    .dataframe thead th {\n",
       "        text-align: right;\n",
       "    }\n",
       "</style>\n",
       "<table border=\"1\" class=\"dataframe\">\n",
       "  <thead>\n",
       "    <tr style=\"text-align: right;\">\n",
       "      <th></th>\n",
       "      <th>Themed social events</th>\n",
       "      <th>Off-Campus socials</th>\n",
       "      <th>Interschool events</th>\n",
       "      <th>Entertainment</th>\n",
       "      <th>Organized sporting activities</th>\n",
       "      <th>Performance Arts</th>\n",
       "      <th>Events organized by student groups</th>\n",
       "      <th>On-campus gatherings</th>\n",
       "    </tr>\n",
       "  </thead>\n",
       "  <tbody>\n",
       "    <tr>\n",
       "      <th>Strongly disagree</th>\n",
       "      <td>3.623188</td>\n",
       "      <td>1.449275</td>\n",
       "      <td>2.898551</td>\n",
       "      <td>3.623188</td>\n",
       "      <td>2.898551</td>\n",
       "      <td>1.449275</td>\n",
       "      <td>2.173913</td>\n",
       "      <td>1.449275</td>\n",
       "    </tr>\n",
       "    <tr>\n",
       "      <th>Disagree</th>\n",
       "      <td>12.318841</td>\n",
       "      <td>5.072464</td>\n",
       "      <td>6.521739</td>\n",
       "      <td>5.072464</td>\n",
       "      <td>7.971014</td>\n",
       "      <td>2.898551</td>\n",
       "      <td>5.072464</td>\n",
       "      <td>8.695652</td>\n",
       "    </tr>\n",
       "    <tr>\n",
       "      <th>Neutral</th>\n",
       "      <td>31.159420</td>\n",
       "      <td>18.115942</td>\n",
       "      <td>24.637681</td>\n",
       "      <td>23.188406</td>\n",
       "      <td>26.811594</td>\n",
       "      <td>19.565217</td>\n",
       "      <td>31.884058</td>\n",
       "      <td>22.463768</td>\n",
       "    </tr>\n",
       "    <tr>\n",
       "      <th>Agree</th>\n",
       "      <td>34.782609</td>\n",
       "      <td>37.681159</td>\n",
       "      <td>42.753623</td>\n",
       "      <td>40.579710</td>\n",
       "      <td>39.855072</td>\n",
       "      <td>36.231884</td>\n",
       "      <td>39.855072</td>\n",
       "      <td>40.579710</td>\n",
       "    </tr>\n",
       "    <tr>\n",
       "      <th>Strongly agree</th>\n",
       "      <td>18.115942</td>\n",
       "      <td>37.681159</td>\n",
       "      <td>23.188406</td>\n",
       "      <td>27.536232</td>\n",
       "      <td>22.463768</td>\n",
       "      <td>39.855072</td>\n",
       "      <td>21.014493</td>\n",
       "      <td>26.811594</td>\n",
       "    </tr>\n",
       "  </tbody>\n",
       "</table>\n",
       "</div>"
      ],
      "text/plain": [
       "                   Themed social events  Off-Campus socials  \\\n",
       "Strongly disagree              3.623188            1.449275   \n",
       "Disagree                      12.318841            5.072464   \n",
       "Neutral                       31.159420           18.115942   \n",
       "Agree                         34.782609           37.681159   \n",
       "Strongly agree                18.115942           37.681159   \n",
       "\n",
       "                   Interschool events  Entertainment  \\\n",
       "Strongly disagree            2.898551       3.623188   \n",
       "Disagree                     6.521739       5.072464   \n",
       "Neutral                     24.637681      23.188406   \n",
       "Agree                       42.753623      40.579710   \n",
       "Strongly agree              23.188406      27.536232   \n",
       "\n",
       "                   Organized sporting activities  Performance Arts  \\\n",
       "Strongly disagree                       2.898551          1.449275   \n",
       "Disagree                                7.971014          2.898551   \n",
       "Neutral                                26.811594         19.565217   \n",
       "Agree                                  39.855072         36.231884   \n",
       "Strongly agree                         22.463768         39.855072   \n",
       "\n",
       "                   Events organized by student groups  On-campus gatherings  \n",
       "Strongly disagree                            2.173913              1.449275  \n",
       "Disagree                                     5.072464              8.695652  \n",
       "Neutral                                     31.884058             22.463768  \n",
       "Agree                                       39.855072             40.579710  \n",
       "Strongly agree                              21.014493             26.811594  "
      ]
     },
     "execution_count": 146,
     "metadata": {},
     "output_type": "execute_result"
    }
   ],
   "source": [
    "stack_satisfy_events = pd.concat([count_proportion(df['Themed social events (Harry Potter Trivia Night, Gaming Night, etc.)']), \n",
    "                                  count_proportion(df['Off-Campus socials (Boat Cruise, Rooftop socials, Amity Hall, etc...)']), \n",
    "                                  count_proportion(df['Interschool events (Festifall, Mel\\'s Burger Bar Mixer, Poker Night, etc.)']),\n",
    "                                  count_proportion(df['Entertainment (Sports games, AMC movie nights, etc.)']), \n",
    "                                  count_proportion(df['Organized sporting activities (Bowling, ice skating, ski trips etc.)']), \n",
    "                                  count_proportion(df['Performance Arts (Broadway Shows, ballet, opera, NY Philharmonic, etc.)']), \n",
    "                                  count_proportion(df['Events organized by student groups (CCV, CEEC, CFEC, DGE, DSISC, ELC, GEEC, GoBME, GradSWE, HinduYUVA, MEGA, PMC, qSTEM, SPICMACAY).1']), \n",
    "                                  count_proportion(df['On-campus gatherings (Carleton Commons socials, watching sports games, etc.)'])], axis=1)\n",
    "\n",
    "c_stack_satisfy_events = ['Themed social events', \n",
    "                          'Off-Campus socials', \n",
    "                          'Interschool events', \n",
    "                          'Entertainment', \n",
    "                          'Organized sporting activities', \n",
    "                          'Performance Arts', \n",
    "                          'Events organized by student groups', \n",
    "                          'On-campus gatherings']\n",
    "\n",
    "stack_satisfy_events.columns = c_stack_satisfy_events\n",
    "\n",
    "stack_satisfy_events"
   ]
  },
  {
   "cell_type": "code",
   "execution_count": 147,
   "id": "0353ac7c",
   "metadata": {},
   "outputs": [
    {
     "data": {
      "text/html": [
       "<div>\n",
       "<style scoped>\n",
       "    .dataframe tbody tr th:only-of-type {\n",
       "        vertical-align: middle;\n",
       "    }\n",
       "\n",
       "    .dataframe tbody tr th {\n",
       "        vertical-align: top;\n",
       "    }\n",
       "\n",
       "    .dataframe thead th {\n",
       "        text-align: right;\n",
       "    }\n",
       "</style>\n",
       "<table border=\"1\" class=\"dataframe\">\n",
       "  <thead>\n",
       "    <tr style=\"text-align: right;\">\n",
       "      <th></th>\n",
       "      <th>Agree</th>\n",
       "      <th>Disagree</th>\n",
       "      <th>Neutral</th>\n",
       "      <th>Strongly agree</th>\n",
       "      <th>Strongly disagree</th>\n",
       "    </tr>\n",
       "  </thead>\n",
       "  <tbody>\n",
       "    <tr>\n",
       "      <th>Themed social events</th>\n",
       "      <td>0.347826</td>\n",
       "      <td>0.123188</td>\n",
       "      <td>0.311594</td>\n",
       "      <td>0.181159</td>\n",
       "      <td>0.036232</td>\n",
       "    </tr>\n",
       "    <tr>\n",
       "      <th>Off-Campus socials</th>\n",
       "      <td>0.376812</td>\n",
       "      <td>0.050725</td>\n",
       "      <td>0.181159</td>\n",
       "      <td>0.376812</td>\n",
       "      <td>0.014493</td>\n",
       "    </tr>\n",
       "    <tr>\n",
       "      <th>Interschool events</th>\n",
       "      <td>0.427536</td>\n",
       "      <td>0.065217</td>\n",
       "      <td>0.246377</td>\n",
       "      <td>0.231884</td>\n",
       "      <td>0.028986</td>\n",
       "    </tr>\n",
       "    <tr>\n",
       "      <th>Entertainment</th>\n",
       "      <td>0.405797</td>\n",
       "      <td>0.050725</td>\n",
       "      <td>0.231884</td>\n",
       "      <td>0.275362</td>\n",
       "      <td>0.036232</td>\n",
       "    </tr>\n",
       "    <tr>\n",
       "      <th>Organized sporting activities</th>\n",
       "      <td>0.398551</td>\n",
       "      <td>0.079710</td>\n",
       "      <td>0.268116</td>\n",
       "      <td>0.224638</td>\n",
       "      <td>0.028986</td>\n",
       "    </tr>\n",
       "    <tr>\n",
       "      <th>Performance Arts</th>\n",
       "      <td>0.362319</td>\n",
       "      <td>0.028986</td>\n",
       "      <td>0.195652</td>\n",
       "      <td>0.398551</td>\n",
       "      <td>0.014493</td>\n",
       "    </tr>\n",
       "    <tr>\n",
       "      <th>Events organized by student groups</th>\n",
       "      <td>0.398551</td>\n",
       "      <td>0.050725</td>\n",
       "      <td>0.318841</td>\n",
       "      <td>0.210145</td>\n",
       "      <td>0.021739</td>\n",
       "    </tr>\n",
       "    <tr>\n",
       "      <th>On-campus gatherings</th>\n",
       "      <td>0.405797</td>\n",
       "      <td>0.086957</td>\n",
       "      <td>0.224638</td>\n",
       "      <td>0.268116</td>\n",
       "      <td>0.014493</td>\n",
       "    </tr>\n",
       "  </tbody>\n",
       "</table>\n",
       "</div>"
      ],
      "text/plain": [
       "                                       Agree  Disagree   Neutral  \\\n",
       "Themed social events                0.347826  0.123188  0.311594   \n",
       "Off-Campus socials                  0.376812  0.050725  0.181159   \n",
       "Interschool events                  0.427536  0.065217  0.246377   \n",
       "Entertainment                       0.405797  0.050725  0.231884   \n",
       "Organized sporting activities       0.398551  0.079710  0.268116   \n",
       "Performance Arts                    0.362319  0.028986  0.195652   \n",
       "Events organized by student groups  0.398551  0.050725  0.318841   \n",
       "On-campus gatherings                0.405797  0.086957  0.224638   \n",
       "\n",
       "                                    Strongly agree  Strongly disagree  \n",
       "Themed social events                      0.181159           0.036232  \n",
       "Off-Campus socials                        0.376812           0.014493  \n",
       "Interschool events                        0.231884           0.028986  \n",
       "Entertainment                             0.275362           0.036232  \n",
       "Organized sporting activities             0.224638           0.028986  \n",
       "Performance Arts                          0.398551           0.014493  \n",
       "Events organized by student groups        0.210145           0.021739  \n",
       "On-campus gatherings                      0.268116           0.014493  "
      ]
     },
     "execution_count": 147,
     "metadata": {},
     "output_type": "execute_result"
    }
   ],
   "source": [
    "stack_satisfy_events_prop = stack_satisfy_events.apply(lambda x: x / x.sum(), axis=0)\n",
    "\n",
    "stack_satisfy_events_a = stack_satisfy_events.sort_index().T\n",
    "stack_satisfy_events_b = stack_satisfy_events_prop.sort_index().T\n",
    "stack_satisfy_events_b"
   ]
  },
  {
   "cell_type": "code",
   "execution_count": 145,
   "id": "594ccdad",
   "metadata": {},
   "outputs": [
    {
     "name": "stdout",
     "output_type": "stream",
     "text": [
      "                   Themed social events  Off-Campus socials  \\\n",
      "Strongly disagree              3.623188            1.449275   \n",
      "Disagree                      12.318841            5.072464   \n",
      "Neutral                       31.159420           18.115942   \n",
      "Agree                         34.782609           37.681159   \n",
      "Strongly agree                18.115942           37.681159   \n",
      "\n",
      "                   Interschool events  Entertainment  \\\n",
      "Strongly disagree            2.898551       3.623188   \n",
      "Disagree                     6.521739       5.072464   \n",
      "Neutral                     24.637681      23.188406   \n",
      "Agree                       42.753623      40.579710   \n",
      "Strongly agree              23.188406      27.536232   \n",
      "\n",
      "                   Organized sporting activities  Performance Arts  \\\n",
      "Strongly disagree                       2.898551          1.449275   \n",
      "Disagree                                7.971014          2.898551   \n",
      "Neutral                                26.811594         19.565217   \n",
      "Agree                                  39.855072         36.231884   \n",
      "Strongly agree                         22.463768         39.855072   \n",
      "\n",
      "                   Events organized by student groups  On-campus gatherings  \n",
      "Strongly disagree                            2.173913              1.449275  \n",
      "Disagree                                     5.072464              8.695652  \n",
      "Neutral                                     31.884058             22.463768  \n",
      "Agree                                       39.855072             40.579710  \n",
      "Strongly agree                              21.014493             26.811594  \n",
      "\n",
      "\n",
      "                   Themed social events  Off-Campus socials  \\\n",
      "Strongly disagree              0.036232            0.014493   \n",
      "Disagree                       0.123188            0.050725   \n",
      "Neutral                        0.311594            0.181159   \n",
      "Agree                          0.347826            0.376812   \n",
      "Strongly agree                 0.181159            0.376812   \n",
      "\n",
      "                   Interschool events  Entertainment  \\\n",
      "Strongly disagree            0.028986       0.036232   \n",
      "Disagree                     0.065217       0.050725   \n",
      "Neutral                      0.246377       0.231884   \n",
      "Agree                        0.427536       0.405797   \n",
      "Strongly agree               0.231884       0.275362   \n",
      "\n",
      "                   Organized sporting activities  Performance Arts  \\\n",
      "Strongly disagree                       0.028986          0.014493   \n",
      "Disagree                                0.079710          0.028986   \n",
      "Neutral                                 0.268116          0.195652   \n",
      "Agree                                   0.398551          0.362319   \n",
      "Strongly agree                          0.224638          0.398551   \n",
      "\n",
      "                   Events organized by student groups  On-campus gatherings  \n",
      "Strongly disagree                            0.021739              0.014493  \n",
      "Disagree                                     0.050725              0.086957  \n",
      "Neutral                                      0.318841              0.224638  \n",
      "Agree                                        0.398551              0.405797  \n",
      "Strongly agree                               0.210145              0.268116  \n",
      "\n",
      "\n",
      "                                    Strongly disagree   Disagree    Neutral  \\\n",
      "Themed social events                         3.623188  12.318841  31.159420   \n",
      "Off-Campus socials                           1.449275   5.072464  18.115942   \n",
      "Interschool events                           2.898551   6.521739  24.637681   \n",
      "Entertainment                                3.623188   5.072464  23.188406   \n",
      "Organized sporting activities                2.898551   7.971014  26.811594   \n",
      "Performance Arts                             1.449275   2.898551  19.565217   \n",
      "Events organized by student groups           2.173913   5.072464  31.884058   \n",
      "On-campus gatherings                         1.449275   8.695652  22.463768   \n",
      "\n",
      "                                        Agree  Strongly agree  \n",
      "Themed social events                34.782609       18.115942  \n",
      "Off-Campus socials                  37.681159       37.681159  \n",
      "Interschool events                  42.753623       23.188406  \n",
      "Entertainment                       40.579710       27.536232  \n",
      "Organized sporting activities       39.855072       22.463768  \n",
      "Performance Arts                    36.231884       39.855072  \n",
      "Events organized by student groups  39.855072       21.014493  \n",
      "On-campus gatherings                40.579710       26.811594  \n",
      "\n",
      "\n",
      "                                    Strongly disagree  Disagree   Neutral  \\\n",
      "Themed social events                         0.036232  0.123188  0.311594   \n",
      "Off-Campus socials                           0.014493  0.050725  0.181159   \n",
      "Interschool events                           0.028986  0.065217  0.246377   \n",
      "Entertainment                                0.036232  0.050725  0.231884   \n",
      "Organized sporting activities                0.028986  0.079710  0.268116   \n",
      "Performance Arts                             0.014493  0.028986  0.195652   \n",
      "Events organized by student groups           0.021739  0.050725  0.318841   \n",
      "On-campus gatherings                         0.014493  0.086957  0.224638   \n",
      "\n",
      "                                       Agree  Strongly agree  \n",
      "Themed social events                0.347826        0.181159  \n",
      "Off-Campus socials                  0.376812        0.376812  \n",
      "Interschool events                  0.427536        0.231884  \n",
      "Entertainment                       0.405797        0.275362  \n",
      "Organized sporting activities       0.398551        0.224638  \n",
      "Performance Arts                    0.362319        0.398551  \n",
      "Events organized by student groups  0.398551        0.210145  \n",
      "On-campus gatherings                0.405797        0.268116  \n"
     ]
    },
    {
     "data": {
      "image/png": "[encoded data removed]",
      "text/plain": [
       "<Figure size 1500x900 with 1 Axes>"
      ]
     },
     "metadata": {
      "needs_background": "light"
     },
     "output_type": "display_data"
    }
   ],
   "source": [
    "stack_func(stack_satisfy_events, \"Proportion\", \"Event\", \"Satisfaction with EGSC and GSA Events\", agree_index)"
   ]
  },
  {
   "cell_type": "markdown",
   "id": "1da77179",
   "metadata": {},
   "source": [
    "### Satisfaction with Peer-networking Events"
   ]
  },
  {
   "cell_type": "code",
   "execution_count": 148,
   "id": "901d4096",
   "metadata": {},
   "outputs": [
    {
     "data": {
      "text/plain": [
       "Agree                         46\n",
       "Neither agree nor disagree    34\n",
       "Strongly agree                24\n",
       "Not Applicable                16\n",
       "Disagree                      10\n",
       "Strongly disagree              8\n",
       "Name: GSA events (including orientation), dtype: int64"
      ]
     },
     "execution_count": 148,
     "metadata": {},
     "output_type": "execute_result"
    }
   ],
   "source": [
    "peer_network = df[['GSA events (including orientation)', \n",
    "                   'Department-sponsored events',\n",
    "                   'EGSC events',\n",
    "                   'Other student group-sponsored events (CCV, CEEC, CFEC, DGE, DSISC, ELC, GEEC, GoBME, GradSWE, HinduYUVA, MEGA, PMC, qSTEM, SPICMACAY)',\n",
    "                   'Professional Development and Leadership (PDL) Program.2']]\n",
    "\n",
    "peer_network['GSA events (including orientation)'].value_counts()"
   ]
  },
  {
   "cell_type": "code",
   "execution_count": 149,
   "id": "00cada18",
   "metadata": {},
   "outputs": [
    {
     "data": {
      "text/html": [
       "<div>\n",
       "<style scoped>\n",
       "    .dataframe tbody tr th:only-of-type {\n",
       "        vertical-align: middle;\n",
       "    }\n",
       "\n",
       "    .dataframe tbody tr th {\n",
       "        vertical-align: top;\n",
       "    }\n",
       "\n",
       "    .dataframe thead th {\n",
       "        text-align: right;\n",
       "    }\n",
       "</style>\n",
       "<table border=\"1\" class=\"dataframe\">\n",
       "  <thead>\n",
       "    <tr style=\"text-align: right;\">\n",
       "      <th></th>\n",
       "      <th>GSA events</th>\n",
       "      <th>Department-sponsored events</th>\n",
       "      <th>EGSC events</th>\n",
       "      <th>Other student group-sponsored events</th>\n",
       "      <th>PDL</th>\n",
       "    </tr>\n",
       "  </thead>\n",
       "  <tbody>\n",
       "    <tr>\n",
       "      <th>Strongly disagree</th>\n",
       "      <td>5.797101</td>\n",
       "      <td>2.898551</td>\n",
       "      <td>4.347826</td>\n",
       "      <td>3.623188</td>\n",
       "      <td>9.420290</td>\n",
       "    </tr>\n",
       "    <tr>\n",
       "      <th>Disagree</th>\n",
       "      <td>7.246377</td>\n",
       "      <td>3.623188</td>\n",
       "      <td>6.521739</td>\n",
       "      <td>3.623188</td>\n",
       "      <td>18.115942</td>\n",
       "    </tr>\n",
       "    <tr>\n",
       "      <th>Neutral</th>\n",
       "      <td>24.637681</td>\n",
       "      <td>16.666667</td>\n",
       "      <td>24.637681</td>\n",
       "      <td>31.159420</td>\n",
       "      <td>29.710145</td>\n",
       "    </tr>\n",
       "    <tr>\n",
       "      <th>Agree</th>\n",
       "      <td>33.333333</td>\n",
       "      <td>38.405797</td>\n",
       "      <td>35.507246</td>\n",
       "      <td>28.260870</td>\n",
       "      <td>15.942029</td>\n",
       "    </tr>\n",
       "    <tr>\n",
       "      <th>Strongly agree</th>\n",
       "      <td>17.391304</td>\n",
       "      <td>28.260870</td>\n",
       "      <td>19.565217</td>\n",
       "      <td>18.840580</td>\n",
       "      <td>11.594203</td>\n",
       "    </tr>\n",
       "    <tr>\n",
       "      <th>Not Applicable</th>\n",
       "      <td>11.594203</td>\n",
       "      <td>10.144928</td>\n",
       "      <td>9.420290</td>\n",
       "      <td>14.492754</td>\n",
       "      <td>15.217391</td>\n",
       "    </tr>\n",
       "  </tbody>\n",
       "</table>\n",
       "</div>"
      ],
      "text/plain": [
       "                   GSA events  Department-sponsored events  EGSC events  \\\n",
       "Strongly disagree    5.797101                     2.898551     4.347826   \n",
       "Disagree             7.246377                     3.623188     6.521739   \n",
       "Neutral             24.637681                    16.666667    24.637681   \n",
       "Agree               33.333333                    38.405797    35.507246   \n",
       "Strongly agree      17.391304                    28.260870    19.565217   \n",
       "Not Applicable      11.594203                    10.144928     9.420290   \n",
       "\n",
       "                   Other student group-sponsored events        PDL  \n",
       "Strongly disagree                              3.623188   9.420290  \n",
       "Disagree                                       3.623188  18.115942  \n",
       "Neutral                                       31.159420  29.710145  \n",
       "Agree                                         28.260870  15.942029  \n",
       "Strongly agree                                18.840580  11.594203  \n",
       "Not Applicable                                14.492754  15.217391  "
      ]
     },
     "execution_count": 149,
     "metadata": {},
     "output_type": "execute_result"
    }
   ],
   "source": [
    "stack_peernetwork_events = pd.concat([count_proportion_6(df['GSA events (including orientation)']),\n",
    "                                      count_proportion_6(df['Department-sponsored events']), \n",
    "                                      count_proportion_6(df['EGSC events']),\n",
    "                                      count_proportion_6(df['Other student group-sponsored events (CCV, CEEC, CFEC, DGE, DSISC, ELC, GEEC, GoBME, GradSWE, HinduYUVA, MEGA, PMC, qSTEM, SPICMACAY)']),\n",
    "                                      count_proportion_6(df['Professional Development and Leadership (PDL) Program.2'])], axis=1)\n",
    "\n",
    "c_stack_peernetwork_events = ['GSA events', \n",
    "                              'Department-sponsored events',\n",
    "                              'EGSC events',\n",
    "                              'Other student group-sponsored events',\n",
    "                              'PDL']\n",
    "\n",
    "stack_peernetwork_events.columns = c_stack_peernetwork_events\n",
    "\n",
    "stack_peernetwork_events"
   ]
  },
  {
   "cell_type": "code",
   "execution_count": 150,
   "id": "dd2758f4",
   "metadata": {},
   "outputs": [
    {
     "name": "stdout",
     "output_type": "stream",
     "text": [
      "                   GSA events  Department-sponsored events  EGSC events  \\\n",
      "Strongly disagree    5.797101                     2.898551     4.347826   \n",
      "Disagree             7.246377                     3.623188     6.521739   \n",
      "Neutral             24.637681                    16.666667    24.637681   \n",
      "Agree               33.333333                    38.405797    35.507246   \n",
      "Strongly agree      17.391304                    28.260870    19.565217   \n",
      "Not Applicable      11.594203                    10.144928     9.420290   \n",
      "\n",
      "                   Other student group-sponsored events        PDL  \n",
      "Strongly disagree                              3.623188   9.420290  \n",
      "Disagree                                       3.623188  18.115942  \n",
      "Neutral                                       31.159420  29.710145  \n",
      "Agree                                         28.260870  15.942029  \n",
      "Strongly agree                                18.840580  11.594203  \n",
      "Not Applicable                                14.492754  15.217391  \n",
      "\n",
      "\n",
      "                   GSA events  Department-sponsored events  EGSC events  \\\n",
      "Strongly disagree    0.057971                     0.028986     0.043478   \n",
      "Disagree             0.072464                     0.036232     0.065217   \n",
      "Neutral              0.246377                     0.166667     0.246377   \n",
      "Agree                0.333333                     0.384058     0.355072   \n",
      "Strongly agree       0.173913                     0.282609     0.195652   \n",
      "Not Applicable       0.115942                     0.101449     0.094203   \n",
      "\n",
      "                   Other student group-sponsored events       PDL  \n",
      "Strongly disagree                              0.036232  0.094203  \n",
      "Disagree                                       0.036232  0.181159  \n",
      "Neutral                                        0.311594  0.297101  \n",
      "Agree                                          0.282609  0.159420  \n",
      "Strongly agree                                 0.188406  0.115942  \n",
      "Not Applicable                                 0.144928  0.152174  \n",
      "\n",
      "\n",
      "                                      Strongly disagree   Disagree    Neutral  \\\n",
      "GSA events                                     5.797101   7.246377  24.637681   \n",
      "Department-sponsored events                    2.898551   3.623188  16.666667   \n",
      "EGSC events                                    4.347826   6.521739  24.637681   \n",
      "Other student group-sponsored events           3.623188   3.623188  31.159420   \n",
      "PDL                                            9.420290  18.115942  29.710145   \n",
      "\n",
      "                                          Agree  Strongly agree  \\\n",
      "GSA events                            33.333333       17.391304   \n",
      "Department-sponsored events           38.405797       28.260870   \n",
      "EGSC events                           35.507246       19.565217   \n",
      "Other student group-sponsored events  28.260870       18.840580   \n",
      "PDL                                   15.942029       11.594203   \n",
      "\n",
      "                                      Not Applicable  \n",
      "GSA events                                 11.594203  \n",
      "Department-sponsored events                10.144928  \n",
      "EGSC events                                 9.420290  \n",
      "Other student group-sponsored events       14.492754  \n",
      "PDL                                        15.217391  \n",
      "\n",
      "\n",
      "                                      Strongly disagree  Disagree   Neutral  \\\n",
      "GSA events                                     0.057971  0.072464  0.246377   \n",
      "Department-sponsored events                    0.028986  0.036232  0.166667   \n",
      "EGSC events                                    0.043478  0.065217  0.246377   \n",
      "Other student group-sponsored events           0.036232  0.036232  0.311594   \n",
      "PDL                                            0.094203  0.181159  0.297101   \n",
      "\n",
      "                                         Agree  Strongly agree  Not Applicable  \n",
      "GSA events                            0.333333        0.173913        0.115942  \n",
      "Department-sponsored events           0.384058        0.282609        0.101449  \n",
      "EGSC events                           0.355072        0.195652        0.094203  \n",
      "Other student group-sponsored events  0.282609        0.188406        0.144928  \n",
      "PDL                                   0.159420        0.115942        0.152174  \n"
     ]
    },
    {
     "data": {
      "image/png": "[encoded data removed]",
      "text/plain": [
       "<Figure size 1500x900 with 1 Axes>"
      ]
     },
     "metadata": {
      "needs_background": "light"
     },
     "output_type": "display_data"
    }
   ],
   "source": [
    "stack_func(stack_peernetwork_events, \"Proportion\", \"Event\", \"Satisfaction with Peer-networking Events\", agree_index_6)"
   ]
  },
  {
   "cell_type": "markdown",
   "id": "e562be7e",
   "metadata": {},
   "source": [
    "### Acclimation as a Result of Orientation"
   ]
  },
  {
   "cell_type": "code",
   "execution_count": 151,
   "id": "4e84c19c",
   "metadata": {},
   "outputs": [
    {
     "data": {
      "text/plain": [
       "Agree                         59\n",
       "Neither agree nor disagree    39\n",
       "Strongly agree                17\n",
       "Disagree                      17\n",
       "Strongly disagree              6\n",
       "Name: University resources, dtype: int64"
      ]
     },
     "execution_count": 151,
     "metadata": {},
     "output_type": "execute_result"
    }
   ],
   "source": [
    "orientation = df[['University resources', \n",
    "                  'Columbia campus',\n",
    "                  'New York City', \n",
    "                  'My department', \n",
    "                  'Student groups',\n",
    "                  'EGSC/Office of Graduate Student Affairs']]\n",
    "orientation['University resources'].value_counts()"
   ]
  },
  {
   "cell_type": "code",
   "execution_count": 152,
   "id": "27bee0e0",
   "metadata": {},
   "outputs": [
    {
     "data": {
      "text/plain": [
       "Agree                         59\n",
       "Neither agree nor disagree    39\n",
       "Strongly agree                17\n",
       "Disagree                      17\n",
       "Strongly disagree              6\n",
       "Name: University resources, dtype: int64"
      ]
     },
     "execution_count": 152,
     "metadata": {},
     "output_type": "execute_result"
    }
   ],
   "source": [
    "orientation['University resources'].value_counts()"
   ]
  },
  {
   "cell_type": "code",
   "execution_count": 153,
   "id": "d7808f0a",
   "metadata": {},
   "outputs": [
    {
     "data": {
      "text/html": [
       "<div>\n",
       "<style scoped>\n",
       "    .dataframe tbody tr th:only-of-type {\n",
       "        vertical-align: middle;\n",
       "    }\n",
       "\n",
       "    .dataframe tbody tr th {\n",
       "        vertical-align: top;\n",
       "    }\n",
       "\n",
       "    .dataframe thead th {\n",
       "        text-align: right;\n",
       "    }\n",
       "</style>\n",
       "<table border=\"1\" class=\"dataframe\">\n",
       "  <thead>\n",
       "    <tr style=\"text-align: right;\">\n",
       "      <th></th>\n",
       "      <th>University resources</th>\n",
       "      <th>Columbia campus</th>\n",
       "      <th>New York City</th>\n",
       "      <th>My department</th>\n",
       "      <th>Student groups</th>\n",
       "      <th>EGSC/Office of Graduate Student Affairs</th>\n",
       "    </tr>\n",
       "  </thead>\n",
       "  <tbody>\n",
       "    <tr>\n",
       "      <th>Strongly disagree</th>\n",
       "      <td>4.347826</td>\n",
       "      <td>5.072464</td>\n",
       "      <td>10.144928</td>\n",
       "      <td>2.898551</td>\n",
       "      <td>5.072464</td>\n",
       "      <td>3.623188</td>\n",
       "    </tr>\n",
       "    <tr>\n",
       "      <th>Disagree</th>\n",
       "      <td>12.318841</td>\n",
       "      <td>15.217391</td>\n",
       "      <td>20.289855</td>\n",
       "      <td>7.246377</td>\n",
       "      <td>18.840580</td>\n",
       "      <td>12.318841</td>\n",
       "    </tr>\n",
       "    <tr>\n",
       "      <th>Neutral</th>\n",
       "      <td>28.260870</td>\n",
       "      <td>21.014493</td>\n",
       "      <td>34.782609</td>\n",
       "      <td>19.565217</td>\n",
       "      <td>27.536232</td>\n",
       "      <td>31.159420</td>\n",
       "    </tr>\n",
       "    <tr>\n",
       "      <th>Agree</th>\n",
       "      <td>42.753623</td>\n",
       "      <td>47.826087</td>\n",
       "      <td>26.811594</td>\n",
       "      <td>50.724638</td>\n",
       "      <td>39.130435</td>\n",
       "      <td>40.579710</td>\n",
       "    </tr>\n",
       "    <tr>\n",
       "      <th>Strongly agree</th>\n",
       "      <td>12.318841</td>\n",
       "      <td>10.869565</td>\n",
       "      <td>7.971014</td>\n",
       "      <td>19.565217</td>\n",
       "      <td>9.420290</td>\n",
       "      <td>12.318841</td>\n",
       "    </tr>\n",
       "  </tbody>\n",
       "</table>\n",
       "</div>"
      ],
      "text/plain": [
       "                   University resources  Columbia campus  New York City  \\\n",
       "Strongly disagree              4.347826         5.072464      10.144928   \n",
       "Disagree                      12.318841        15.217391      20.289855   \n",
       "Neutral                       28.260870        21.014493      34.782609   \n",
       "Agree                         42.753623        47.826087      26.811594   \n",
       "Strongly agree                12.318841        10.869565       7.971014   \n",
       "\n",
       "                   My department  Student groups  \\\n",
       "Strongly disagree       2.898551        5.072464   \n",
       "Disagree                7.246377       18.840580   \n",
       "Neutral                19.565217       27.536232   \n",
       "Agree                  50.724638       39.130435   \n",
       "Strongly agree         19.565217        9.420290   \n",
       "\n",
       "                   EGSC/Office of Graduate Student Affairs  \n",
       "Strongly disagree                                 3.623188  \n",
       "Disagree                                         12.318841  \n",
       "Neutral                                          31.159420  \n",
       "Agree                                            40.579710  \n",
       "Strongly agree                                   12.318841  "
      ]
     },
     "execution_count": 153,
     "metadata": {},
     "output_type": "execute_result"
    }
   ],
   "source": [
    "orientation_t = pd.concat([count_proportion(df['University resources']), \n",
    "                           count_proportion(df['Columbia campus']), \n",
    "                           count_proportion(df['New York City']), \n",
    "                           count_proportion(df['My department']), \n",
    "                           count_proportion(df['Student groups']), \n",
    "                           count_proportion(df['EGSC/Office of Graduate Student Affairs'])], axis=1)\n",
    "\n",
    "c_orientation_t = ['University resources', \n",
    "                          'Columbia campus',\n",
    "                          'New York City', \n",
    "                          'My department', \n",
    "                          'Student groups',\n",
    "                          'EGSC/Office of Graduate Student Affairs']\n",
    "\n",
    "orientation_t.columns = c_orientation_t\n",
    "\n",
    "orientation_t"
   ]
  },
  {
   "cell_type": "code",
   "execution_count": 153,
   "id": "9d32a9e6",
   "metadata": {},
   "outputs": [
    {
     "name": "stdout",
     "output_type": "stream",
     "text": [
      "                   University resources  Columbia campus  New York City  \\\n",
      "Strongly disagree              5.507474         5.350118       8.575924   \n",
      "Disagree                       8.890637         9.520063      16.050354   \n",
      "Neutral                       22.659323        19.354839      30.055075   \n",
      "Agree                         49.488592        49.488592      34.146341   \n",
      "Strongly agree                13.453973        16.286389      11.172305   \n",
      "\n",
      "                   My department  Student groups  \\\n",
      "Strongly disagree       5.035405        6.294256   \n",
      "Disagree                7.946499       14.162077   \n",
      "Neutral                19.197482       29.189614   \n",
      "Agree                  53.107789       39.575138   \n",
      "Strongly agree         14.712825       10.778914   \n",
      "\n",
      "                   EGSC/Office of Graduate Student Affairs  \n",
      "Strongly disagree                                 5.664831  \n",
      "Disagree                                          8.733281  \n",
      "Neutral                                          28.088120  \n",
      "Agree                                            45.869394  \n",
      "Strongly agree                                   11.644375  \n",
      "\n",
      "\n",
      "                   University resources  Columbia campus  New York City  \\\n",
      "Strongly disagree              0.055075         0.053501       0.085759   \n",
      "Disagree                       0.088906         0.095201       0.160504   \n",
      "Neutral                        0.226593         0.193548       0.300551   \n",
      "Agree                          0.494886         0.494886       0.341463   \n",
      "Strongly agree                 0.134540         0.162864       0.111723   \n",
      "\n",
      "                   My department  Student groups  \\\n",
      "Strongly disagree       0.050354        0.062943   \n",
      "Disagree                0.079465        0.141621   \n",
      "Neutral                 0.191975        0.291896   \n",
      "Agree                   0.531078        0.395751   \n",
      "Strongly agree          0.147128        0.107789   \n",
      "\n",
      "                   EGSC/Office of Graduate Student Affairs  \n",
      "Strongly disagree                                 0.056648  \n",
      "Disagree                                          0.087333  \n",
      "Neutral                                           0.280881  \n",
      "Agree                                             0.458694  \n",
      "Strongly agree                                    0.116444  \n",
      "\n",
      "\n",
      "                                         Strongly disagree   Disagree  \\\n",
      "University resources                              5.507474   8.890637   \n",
      "Columbia campus                                   5.350118   9.520063   \n",
      "New York City                                     8.575924  16.050354   \n",
      "My department                                     5.035405   7.946499   \n",
      "Student groups                                    6.294256  14.162077   \n",
      "EGSC/Office of Graduate Student Affairs           5.664831   8.733281   \n",
      "\n",
      "                                           Neutral      Agree  Strongly agree  \n",
      "University resources                     22.659323  49.488592       13.453973  \n",
      "Columbia campus                          19.354839  49.488592       16.286389  \n",
      "New York City                            30.055075  34.146341       11.172305  \n",
      "My department                            19.197482  53.107789       14.712825  \n",
      "Student groups                           29.189614  39.575138       10.778914  \n",
      "EGSC/Office of Graduate Student Affairs  28.088120  45.869394       11.644375  \n",
      "\n",
      "\n",
      "                                         Strongly disagree  Disagree  \\\n",
      "University resources                              0.055075  0.088906   \n",
      "Columbia campus                                   0.053501  0.095201   \n",
      "New York City                                     0.085759  0.160504   \n",
      "My department                                     0.050354  0.079465   \n",
      "Student groups                                    0.062943  0.141621   \n",
      "EGSC/Office of Graduate Student Affairs           0.056648  0.087333   \n",
      "\n",
      "                                          Neutral     Agree  Strongly agree  \n",
      "University resources                     0.226593  0.494886        0.134540  \n",
      "Columbia campus                          0.193548  0.494886        0.162864  \n",
      "New York City                            0.300551  0.341463        0.111723  \n",
      "My department                            0.191975  0.531078        0.147128  \n",
      "Student groups                           0.291896  0.395751        0.107789  \n",
      "EGSC/Office of Graduate Student Affairs  0.280881  0.458694        0.116444  \n"
     ]
    },
    {
     "data": {
      "image/png": "[encoded data removed]",
      "text/plain": [
       "<Figure size 1500x900 with 1 Axes>"
      ]
     },
     "metadata": {
      "needs_background": "light"
     },
     "output_type": "display_data"
    }
   ],
   "source": [
    "stack_func(orientation_t, \"Proportion\", \"Acclimation\", \"Acclimation as a Result of Orientation\", agree_index)"
   ]
  }
 ],
 "metadata": {
  "kernelspec": {
   "display_name": "eods-s22",
   "language": "python",
   "name": "eods-s22"
  },
  "language_info": {
   "codemirror_mode": {
    "name": "ipython",
    "version": 3
   },
   "file_extension": ".py",
   "mimetype": "text/x-python",
   "name": "python",
   "nbconvert_exporter": "python",
   "pygments_lexer": "ipython3",
   "version": "3.9.9"
  }
 },
 "nbformat": 4,
 "nbformat_minor": 5
}
